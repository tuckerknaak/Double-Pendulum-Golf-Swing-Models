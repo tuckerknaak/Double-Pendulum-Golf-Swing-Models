{
 "cells": [
  {
   "cell_type": "markdown",
   "id": "1ffbcbe0",
   "metadata": {},
   "source": [
    "# 3D Non-Planar Double Pendulum Golf Swing - Mass of the Golf Club\n",
    "\n",
    "## Tucker Knaak - Department of Physics, Creighton University - 2022/2024\n",
    "\n",
    "#### The golf club is very customizable to perfectly suite the golfer, from the clubhead to the shaft and to the grip.  Elite golfers tend to use heavier, stiffer shafts for their golf clubs.\n",
    "\n",
    "#### This code is used to compare the swing speed of both constant hub ($L=0.0$) and accelerating hub ($L=0.75$) models for golf club masses ranging between $m_2=0.250$kg and $m_2=0.400$kg in $0.030$kg intervals."
   ]
  },
  {
   "cell_type": "markdown",
   "id": "2815001d",
   "metadata": {},
   "source": [
    "#### This cell runs the Jupyter notebook containing the Downswing3D class used to model the 3D Non-Planar Double Pendulum Golf Swing."
   ]
  },
  {
   "cell_type": "code",
   "execution_count": null,
   "id": "9d06acee",
   "metadata": {},
   "outputs": [],
   "source": [
    "%run 3DDownswing_YoshidaPC.ipynb"
   ]
  },
  {
   "cell_type": "markdown",
   "id": "e9dcc81c",
   "metadata": {},
   "source": [
    "#### This cell sets the parameters of the golfer and the initial conditions which are the same for each model tested."
   ]
  },
  {
   "cell_type": "code",
   "execution_count": null,
   "id": "77f9d100",
   "metadata": {},
   "outputs": [],
   "source": [
    "'''Parameters of the golfer'''\n",
    "r1 = 0.700   #length of the golfer's arms [m]\n",
    "m1 = 7.000   #mass of the golfer's arms [kg]\n",
    "r2 = 1.156   #length of the golf club [m]\n",
    "tau_b = 225  #torque of the body [N * m]\n",
    "\n",
    "'''Initial conditions'''\n",
    "phi1_0 = np.radians(0)        #angle of the golfer's arms ccw from the y-axis in the xy-plane [rad]\n",
    "phi2_0 = np.radians(270)      #angle of the golf club ccw from the y-axis in the xy-plane [rad]\n",
    "theta1_0 = np.radians(30)     #angle of the golfer's arms ccw from the y-axis in the yz-plane [rad]\n",
    "theta2_0 = np.radians(0)      #angle of the golf club ccw from the y-axis in the yz-plane [rad]\n",
    "theta2dot_0 = np.radians(90)  #angular velocity of the golf club ccw from the y-axis in the yz-plane [rad / s]"
   ]
  },
  {
   "cell_type": "markdown",
   "id": "2ce8154c",
   "metadata": {},
   "source": [
    "#### The following cells solve the equations of motion, plot the relevant data, and animate the golf swing for both a constant hub ($L=0.0$) and an accelerating hub ($L=0.75$) model with a mass of the golf club of $m_2=0.250$kg."
   ]
  },
  {
   "cell_type": "code",
   "execution_count": null,
   "id": "6cbe3f84",
   "metadata": {},
   "outputs": [],
   "source": [
    "'''Constant Hub'''\n",
    "CHL00_m2250 = Downswing3D('3D_CHL00_m2250')\n",
    "CHL00_m2250.golfer(r1, m1, r2, 0.250)\n",
    "CHL00_m2250.solve_odes('c', 0.0, tau_b, phi1_0, phi2_0, theta1_0, theta2_0, theta2dot_0)\n",
    "CHL00_m2250.print_data()\n",
    "CHL00_m2250.plot_data('$L=0.0$, $m_2=0.250$kg')"
   ]
  },
  {
   "cell_type": "code",
   "execution_count": null,
   "id": "6f2032b4",
   "metadata": {},
   "outputs": [],
   "source": [
    "CHL00_m2250.animate_swing()\n",
    "CHL00_m2250.still_shot()"
   ]
  },
  {
   "cell_type": "code",
   "execution_count": null,
   "id": "d02c88dc",
   "metadata": {},
   "outputs": [],
   "source": [
    "'''Accelerating Hub'''\n",
    "AHL075_m2250 = Downswing3D('3D_AHL075_m2250')\n",
    "AHL075_m2250.golfer(r1, m1, r2, 0.250)\n",
    "AHL075_m2250.solve_odes('a', 0.75, tau_b, phi1_0, phi2_0, theta1_0, theta2_0, theta2dot_0)\n",
    "AHL075_m2250.print_data()\n",
    "AHL075_m2250.plot_data('$L=0.75$, $m_2=0.250$kg')"
   ]
  },
  {
   "cell_type": "code",
   "execution_count": null,
   "id": "c0b68c8a",
   "metadata": {},
   "outputs": [],
   "source": [
    "AHL075_m2250.animate_swing()\n",
    "AHL075_m2250.still_shot()"
   ]
  },
  {
   "cell_type": "markdown",
   "id": "07831d82",
   "metadata": {},
   "source": [
    "#### The following cells solve the equations of motion, plot the relevant data, and animate the golf swing for both a constant hub ($L=0.0$) and an accelerating hub ($L=0.75$) model with a mass of the golf club of $m_2=0.280$kg."
   ]
  },
  {
   "cell_type": "code",
   "execution_count": null,
   "id": "d2736b52",
   "metadata": {},
   "outputs": [],
   "source": [
    "'''Constant Hub'''\n",
    "CHL00_m2280 = Downswing3D('3D_CHL00_m2280')\n",
    "CHL00_m2280.golfer(r1, m1, r2, 0.280)\n",
    "CHL00_m2280.solve_odes('c', 0.0, tau_b, phi1_0, phi2_0, theta1_0, theta2_0, theta2dot_0)\n",
    "CHL00_m2280.print_data()\n",
    "CHL00_m2280.plot_data('$L=0.0$, $m_2=0.280$kg')"
   ]
  },
  {
   "cell_type": "code",
   "execution_count": null,
   "id": "63defa32",
   "metadata": {},
   "outputs": [],
   "source": [
    "CHL00_m2280.animate_swing()\n",
    "CHL00_m2280.still_shot()"
   ]
  },
  {
   "cell_type": "code",
   "execution_count": null,
   "id": "44c25e85",
   "metadata": {},
   "outputs": [],
   "source": [
    "'''Accelerating Hub'''\n",
    "AHL075_m2280 = Downswing3D('3D_AHL075_m2280')\n",
    "AHL075_m2280.golfer(r1, m1, r2, 0.280)\n",
    "AHL075_m2280.solve_odes('a', 0.75, tau_b, phi1_0, phi2_0, theta1_0, theta2_0, theta2dot_0)\n",
    "AHL075_m2280.print_data()\n",
    "AHL075_m2280.plot_data('$L=0.75$, $m_2=0.280$kg')"
   ]
  },
  {
   "cell_type": "code",
   "execution_count": null,
   "id": "8ef13a54",
   "metadata": {},
   "outputs": [],
   "source": [
    "AHL075_m2280.animate_swing()\n",
    "AHL075_m2280.still_shot()"
   ]
  },
  {
   "cell_type": "markdown",
   "id": "41e829a2",
   "metadata": {},
   "source": [
    "#### The following cells solve the equations of motion, plot the relevant data, and animate the golf swing for both a constant hub ($L=0.0$) and an accelerating hub ($L=0.75$) model with a mass of the golf club of $m_2=0.310$kg."
   ]
  },
  {
   "cell_type": "code",
   "execution_count": null,
   "id": "c0bb65ca",
   "metadata": {},
   "outputs": [],
   "source": [
    "'''Constant Hub'''\n",
    "CHL00_m2310 = Downswing3D('3D_CHL00_m2310')\n",
    "CHL00_m2310.golfer(r1, m1, r2, 0.310)\n",
    "CHL00_m2310.solve_odes('c', 0.0, tau_b, phi1_0, phi2_0, theta1_0, theta2_0, theta2dot_0)\n",
    "CHL00_m2310.print_data()\n",
    "CHL00_m2310.plot_data('$L=0.0$, $m_2=0.310$kg')"
   ]
  },
  {
   "cell_type": "code",
   "execution_count": null,
   "id": "fb20dba1",
   "metadata": {},
   "outputs": [],
   "source": [
    "CHL00_m2310.animate_swing()\n",
    "CHL00_m2310.still_shot()"
   ]
  },
  {
   "cell_type": "code",
   "execution_count": null,
   "id": "4a1c156e",
   "metadata": {},
   "outputs": [],
   "source": [
    "'''Accelerating Hub'''\n",
    "AHL075_m2310 = Downswing3D('3D_AHL075_m2310')\n",
    "AHL075_m2310.golfer(r1, m1, r2, 0.310)\n",
    "AHL075_m2310.solve_odes('a', 0.75, tau_b, phi1_0, phi2_0, theta1_0, theta2_0, theta2dot_0)\n",
    "AHL075_m2310.print_data()\n",
    "AHL075_m2310.plot_data('$L=0.75$, $m_2=0.310$kg')"
   ]
  },
  {
   "cell_type": "code",
   "execution_count": null,
   "id": "afeb6e8c",
   "metadata": {},
   "outputs": [],
   "source": [
    "AHL075_m2310.animate_swing()\n",
    "AHL075_m2310.still_shot()"
   ]
  },
  {
   "cell_type": "markdown",
   "id": "ab7fdb09",
   "metadata": {},
   "source": [
    "#### The following cells solve the equations of motion, plot the relevant data, and animate the golf swing for both a constant hub ($L=0.0$) and an accelerating hub ($L=0.75$) model with a mass of the golf club of $m_2=0.340$kg."
   ]
  },
  {
   "cell_type": "code",
   "execution_count": null,
   "id": "831bbe03",
   "metadata": {},
   "outputs": [],
   "source": [
    "'''Constant Hub'''\n",
    "CHL00_m2340 = Downswing3D('3D_CHL00_m2340')\n",
    "CHL00_m2340.golfer(r1, m1, r2, 0.340)\n",
    "CHL00_m2340.solve_odes('c', 0.0, tau_b, phi1_0, phi2_0, theta1_0, theta2_0, theta2dot_0)\n",
    "CHL00_m2340.print_data()\n",
    "CHL00_m2340.plot_data('$L=0.0$, $m_2=0.340$kg')"
   ]
  },
  {
   "cell_type": "code",
   "execution_count": null,
   "id": "c5de311e",
   "metadata": {},
   "outputs": [],
   "source": [
    "CHL00_m2340.animate_swing()\n",
    "CHL00_m2340.still_shot()"
   ]
  },
  {
   "cell_type": "code",
   "execution_count": null,
   "id": "7b3e066d",
   "metadata": {},
   "outputs": [],
   "source": [
    "'''Accelerating Hub'''\n",
    "AHL075_m2340 = Downswing3D('3D_AHL075_m2340')\n",
    "AHL075_m2340.golfer(r1, m1, r2, 0.340)\n",
    "AHL075_m2340.solve_odes('a', 0.75, tau_b, phi1_0, phi2_0, theta1_0, theta2_0, theta2dot_0)\n",
    "AHL075_m2340.print_data()\n",
    "AHL075_m2340.plot_data('$L=0.75$, $m_2=0.340$kg')"
   ]
  },
  {
   "cell_type": "code",
   "execution_count": null,
   "id": "a46f93cd",
   "metadata": {},
   "outputs": [],
   "source": [
    "AHL075_m2340.animate_swing()\n",
    "AHL075_m2340.still_shot()"
   ]
  },
  {
   "cell_type": "markdown",
   "id": "bc0ab3cd",
   "metadata": {},
   "source": [
    "#### The following cells solve the equations of motion, plot the relevant data, and animate the golf swing for both a constant hub ($L=0.0$) and an accelerating hub ($L=0.75$) model with a mass of the golf club of $m_2=0.370$kg."
   ]
  },
  {
   "cell_type": "code",
   "execution_count": null,
   "id": "88dc3621",
   "metadata": {},
   "outputs": [],
   "source": [
    "'''Constant Hub'''\n",
    "CHL00_m2370 = Downswing3D('3D_CHL00_m2370')\n",
    "CHL00_m2370.golfer(r1, m1, r2, 0.370)\n",
    "CHL00_m2370.solve_odes('c', 0.0, tau_b, phi1_0, phi2_0, theta1_0, theta2_0, theta2dot_0)\n",
    "CHL00_m2370.print_data()\n",
    "CHL00_m2370.plot_data('$L=0.0$, $m_2=0.370$kg')"
   ]
  },
  {
   "cell_type": "code",
   "execution_count": null,
   "id": "fd4b0173",
   "metadata": {},
   "outputs": [],
   "source": [
    "CHL00_m2370.animate_swing()\n",
    "CHL00_m2370.still_shot()"
   ]
  },
  {
   "cell_type": "code",
   "execution_count": null,
   "id": "0ca322cf",
   "metadata": {},
   "outputs": [],
   "source": [
    "'''Accelerating Hub'''\n",
    "AHL075_m2370 = Downswing3D('3D_AHL075_m2370')\n",
    "AHL075_m2370.golfer(r1, m1, r2, 0.370)\n",
    "AHL075_m2370.solve_odes('a', 0.75, tau_b, phi1_0, phi2_0, theta1_0, theta2_0, theta2dot_0)\n",
    "AHL075_m2370.print_data()\n",
    "AHL075_m2370.plot_data('$L=0.75$, $m_2=0.370$kg')"
   ]
  },
  {
   "cell_type": "code",
   "execution_count": null,
   "id": "0ffa205a",
   "metadata": {},
   "outputs": [],
   "source": [
    "AHL075_m2370.animate_swing()\n",
    "AHL075_m2370.still_shot()"
   ]
  },
  {
   "cell_type": "markdown",
   "id": "96a3520d",
   "metadata": {},
   "source": [
    "#### The following cells solve the equations of motion, plot the relevant data, and animate the golf swing for both a constant hub ($L=0.0$) and an accelerating hub ($L=0.75$) model with a mass of the golf club of $m_2=0.400$kg."
   ]
  },
  {
   "cell_type": "code",
   "execution_count": null,
   "id": "c6253576",
   "metadata": {},
   "outputs": [],
   "source": [
    "'''Constant Hub'''\n",
    "CHL00_m2400 = Downswing3D('3D_CHL00_m2400')\n",
    "CHL00_m2400.golfer(r1, m1, r2, 0.400)\n",
    "CHL00_m2400.solve_odes('c', 0.0, tau_b, phi1_0, phi2_0, theta1_0, theta2_0, theta2dot_0)\n",
    "CHL00_m2400.print_data()\n",
    "CHL00_m2400.plot_data('$L=0.0$, $m_2=0.400$kg')"
   ]
  },
  {
   "cell_type": "code",
   "execution_count": null,
   "id": "c1b1e30c",
   "metadata": {},
   "outputs": [],
   "source": [
    "CHL00_m2400.animate_swing()\n",
    "CHL00_m2400.still_shot()"
   ]
  },
  {
   "cell_type": "code",
   "execution_count": null,
   "id": "ea459a5f",
   "metadata": {},
   "outputs": [],
   "source": [
    "'''Accelerating Hub'''\n",
    "AHL075_m2400 = Downswing3D('3D_AHL075_m2400')\n",
    "AHL075_m2400.golfer(r1, m1, r2, 0.400)\n",
    "AHL075_m2400.solve_odes('a', 0.75, tau_b, phi1_0, phi2_0, theta1_0, theta2_0, theta2dot_0)\n",
    "AHL075_m2400.print_data()\n",
    "AHL075_m2400.plot_data('$L=0.75$, $m_2=0.400$kg')"
   ]
  },
  {
   "cell_type": "code",
   "execution_count": null,
   "id": "6ff301e1",
   "metadata": {},
   "outputs": [],
   "source": [
    "AHL075_m2400.animate_swing()\n",
    "AHL075_m2400.still_shot()"
   ]
  },
  {
   "cell_type": "markdown",
   "id": "c5574e8d",
   "metadata": {},
   "source": [
    "#### This cell compares the swing speed and relevant data of each model with a constant hub."
   ]
  },
  {
   "cell_type": "code",
   "execution_count": null,
   "id": "a10ce513",
   "metadata": {
    "scrolled": false
   },
   "outputs": [],
   "source": [
    "'''Create table, columns, and colors'''\n",
    "table = []\n",
    "columns = ['Model', 'A.o.A', 'Club Path', 'KE - Impact [J]', 'SS - Impact [m/s]', 'SS - Max [m/s]']\n",
    "cell_colors = []\n",
    "\n",
    "'''Models and labels'''\n",
    "models = [CHL00_m2250, CHL00_m2280, CHL00_m2310, CHL00_m2340, CHL00_m2370, CHL00_m2400]\n",
    "labels = ['$m_2=0.250\\,$kg', '$m_2=0.280\\,$kg', '$m_2=0.310\\,$kg', '$m_2=0.340\\,$kg', '$m_2=0.370\\,$kg', '$m_2=0.400\\,$kg']\n",
    "colors = list(plt.cm.viridis(np.linspace(0.9, 0.1, 6)))\n",
    "colors[2] = 'black'\n",
    "\n",
    "'''Create lists of relevant data for each model'''\n",
    "masses = [0.250, 0.280, 0.310, 0.340, 0.370, 0.400]\n",
    "aoas = [model.aoa for model in models]\n",
    "club_paths = [model.club_path for model in models]\n",
    "t_impacts = [model.t_impact for model in models]\n",
    "ss_impacts = [model.ss_impact for model in models]\n",
    "ke_impacts = [0.5 * m * model.ss_impact**2 for m, model in zip(masses, models)]\n",
    "t_ss_maxes = [model.t_ss_max for model in models]\n",
    "ss_maxes = [model.ss_max for model in models]\n",
    "\n",
    "'''Create figures'''\n",
    "fig1, ax1 = plt.subplots(figsize = (9, 5))\n",
    "fig2, ax2 = plt.subplots(figsize = (9, 5))\n",
    "fig3, ax3 = plt.subplots(figsize = (9, 5))\n",
    "fig4, ax4 = plt.subplots(figsize = (9, 5))\n",
    "fig1.tight_layout(pad = 2)\n",
    "fig2.tight_layout(pad = 2)\n",
    "fig3.tight_layout(pad = 2)\n",
    "fig4.tight_layout(pad = 2)\n",
    "\n",
    "'''First figure --> Plot of SS during downswing'''\n",
    "ax1.set_xlabel('$t$ [s]')\n",
    "ax1.set_ylabel('Speed [m/s]')\n",
    "ax1.set_title('Swing Speed During the Downswing - Mass of the Golf Club - 2D Constant Hub (L=0.00)')\n",
    "ax1.grid(True, linestyle = 'dashed', color = 'darkgray', alpha = 0.25)\n",
    "for index, model in enumerate(models):\n",
    "    linestyle = 'dashed' if index == 2 else 'solid'\n",
    "    ax1.plot(model.t_points, model.ss_points, linestyle = linestyle, color = colors[index], label = labels[index])\n",
    "    ax1.plot(t_impacts[index], ss_impacts[index], 'ko', markersize = 4, zorder = 10)\n",
    "ax1.plot([], [], 'ko', markersize = 4, label = 'Impact')\n",
    "legend = ax1.legend(loc = 'upper left', fancybox = False)\n",
    "frame = legend.get_frame()\n",
    "frame.set_facecolor('white')\n",
    "frame.set_edgecolor('black')\n",
    "frame.set_linewidth(1)\n",
    "fig1.savefig('c:/Users/Tucker Knaak/Downloads/3D_CHL00_ClubMassPlot1.png', bbox_inches = 'tight')\n",
    "\n",
    "'''Second figure --> Plot of SS vs m_2'''\n",
    "ax2.set_xlabel('$m_2$ [kg]')\n",
    "ax2.set_ylabel('Speed [m/s]')\n",
    "ax2.set_title('Swing Speed for Varying Masses of the Golf Club - 3D Constant Hub (L=0.00)')\n",
    "ax2.set_xticks(range(len(labels)))\n",
    "ax2.set_xticklabels(['0.250', '0.280', '0.310', '0.340', '0.370', '0.400'])\n",
    "ax2.grid(True, linestyle = 'dashed', color = 'darkgray', alpha = 0.25)\n",
    "ax2.plot(range(len(ss_impacts)), ss_impacts, color = 'black', marker = 'o', markerfacecolor = 'white', label = 'Impact')\n",
    "ax2.plot(range(len(ss_maxes)), ss_maxes, color = 'red', marker = 's', markerfacecolor = 'white', label = 'Maximum')\n",
    "legend2 = ax2.legend(loc = 'upper right', fancybox = False)\n",
    "frame2 = legend2.get_frame()\n",
    "frame2.set_facecolor('white')\n",
    "frame2.set_edgecolor('black')\n",
    "frame2.set_linewidth(1)\n",
    "fig2.savefig('c:/Users/Tucker Knaak/Downloads/3D_CHL00_ClubMassPlot2.png', bbox_inches = 'tight')\n",
    "\n",
    "'''Third figure --> Plot of KE vs m_2'''\n",
    "ax3.set_xlabel('$m_2$ [kg]')\n",
    "ax3.set_ylabel('KE [J]')\n",
    "ax3.set_title('Kinetic Energy for Varying Masses of the Golf Club - 3D Constant Hub (L=0.00)')\n",
    "ax3.set_xticks(range(len(labels)))\n",
    "ax3.set_xticklabels(['0.250', '0.280', '0.310', '0.340', '0.370', '0.400'])\n",
    "ax3.grid(True, linestyle = 'dashed', color = 'darkgray', alpha = 0.25)\n",
    "ax3.plot(range(len(ke_impacts)), ke_impacts, color = 'black', marker = 'o', markerfacecolor = 'white')\n",
    "fig3.savefig('c:/Users/Tucker Knaak/Downloads/3D_CHL00_ClubMassPlot3.png', bbox_inches = 'tight')\n",
    "\n",
    "'''Fourth figure --> Table of relevant data'''\n",
    "ax4.axis('off')\n",
    "for index, model in enumerate(models):\n",
    "    model_color = colors[index] if index != 2 else 'white'\n",
    "    ke_impact_color = 'limegreen' if ke_impacts[index] == max(ke_impacts) else 'white'\n",
    "    ss_impact_color = 'limegreen' if ss_impacts[index] == max(ss_impacts) else 'white'\n",
    "    ss_max_color = 'limegreen' if ss_maxes[index] == max(ss_maxes) else 'white'\n",
    "    row = [labels[index], f'{aoas[index]}\\u00B0', f'{club_paths[index]}\\u00B0', f'{ke_impacts[index]:.2f}',\n",
    "           '{ss:.2f} ({time}s)'.format(ss = ss_impacts[index], time = t_impacts[index]),\n",
    "           '{ss:.2f} ({time}s)'.format(ss = ss_maxes[index], time = t_ss_maxes[index])]\n",
    "    cell_color = [model_color, 'white', 'white', ke_impact_color, ss_impact_color, ss_max_color]\n",
    "    table.append(row)\n",
    "    cell_colors.append(cell_color)\n",
    "the_table = ax4.table(cellText = table, colLabels = columns, cellColours = cell_colors, loc = 'center', cellLoc = 'center')\n",
    "the_table.scale(1.25, 2.25)\n",
    "fig4.savefig('c:/Users/Tucker Knaak/Downloads/3D_CHL00_ClubMassTable.png', bbox_inches = 'tight')"
   ]
  },
  {
   "cell_type": "markdown",
   "id": "243348b1",
   "metadata": {},
   "source": [
    "#### This cell compares the swing speed and relevant data of each model with an accelerating hub."
   ]
  },
  {
   "cell_type": "code",
   "execution_count": null,
   "id": "c181d88e",
   "metadata": {
    "scrolled": false
   },
   "outputs": [],
   "source": [
    "'''Create table, columns, and colors'''\n",
    "table = []\n",
    "columns = ['Model', 'A.o.A', 'Club Path', 'KE - Impact [J]', 'SS - Impact [m/s]', 'SS - Max [m/s]']\n",
    "cell_colors = []\n",
    "\n",
    "'''Models and labels'''\n",
    "models = [AHL075_m2250, AHL075_m2280, AHL075_m2310, AHL075_m2340, AHL075_m2370, AHL075_m2400]\n",
    "labels = ['$m_2=0.250\\,$kg', '$m_2=0.280\\,$kg', '$m_2=0.310\\,$kg', '$m_2=0.340\\,$kg', '$m_2=0.370\\,$kg', '$m_2=0.400\\,$kg']\n",
    "colors = list(plt.cm.viridis(np.linspace(0.9, 0.1, 6)))\n",
    "colors[2] = 'black'\n",
    "\n",
    "'''Create lists of relevant data for each model'''\n",
    "masses = [0.250, 0.280, 0.310, 0.340, 0.370, 0.400]\n",
    "aoas = [model.aoa for model in models]\n",
    "club_paths = [model.club_path for model in models]\n",
    "t_impacts = [model.t_impact for model in models]\n",
    "ss_impacts = [model.ss_impact for model in models]\n",
    "ke_impacts = [0.5 * m * model.ss_impact**2 for m, model in zip(masses, models)]\n",
    "t_ss_maxes = [model.t_ss_max for model in models]\n",
    "ss_maxes = [model.ss_max for model in models]\n",
    "\n",
    "'''Create figures'''\n",
    "fig1, ax1 = plt.subplots(figsize = (9, 5))\n",
    "fig2, ax2 = plt.subplots(figsize = (9, 5))\n",
    "fig3, ax3 = plt.subplots(figsize = (9, 5))\n",
    "fig4, ax4 = plt.subplots(figsize = (9, 5))\n",
    "fig1.tight_layout(pad = 2)\n",
    "fig2.tight_layout(pad = 2)\n",
    "fig3.tight_layout(pad = 2)\n",
    "fig4.tight_layout(pad = 2)\n",
    "\n",
    "'''First figure --> Plot of SS during downswing'''\n",
    "ax1.set_xlabel('$t$ [s]')\n",
    "ax1.set_ylabel('Speed [m/s]')\n",
    "ax1.set_title('Swing Speed During the Downswing - Mass of the Golf Club - 2D Accelerating Hub (L=0.75)')\n",
    "ax1.grid(True, linestyle = 'dashed', color = 'darkgray', alpha = 0.25)\n",
    "for index, model in enumerate(models):\n",
    "    linestyle = 'dashed' if index == 2 else 'solid'\n",
    "    ax1.plot(model.t_points, model.ss_points, linestyle = linestyle, color = colors[index], label = labels[index])\n",
    "    ax1.plot(t_impacts[index], ss_impacts[index], 'ko', markersize = 4, zorder = 10)\n",
    "ax1.plot([], [], 'ko', markersize = 4, label = 'Impact')\n",
    "legend = ax1.legend(loc = 'upper left', fancybox = False)\n",
    "frame = legend.get_frame()\n",
    "frame.set_facecolor('white')\n",
    "frame.set_edgecolor('black')\n",
    "frame.set_linewidth(1)\n",
    "fig1.savefig('c:/Users/Tucker Knaak/Downloads/3D_AHL075_ClubMassPlot1.png', bbox_inches = 'tight')\n",
    "\n",
    "'''Second figure --> Plot of SS vs m_2'''\n",
    "ax2.set_xlabel('$m_2$ [kg]')\n",
    "ax2.set_ylabel('Speed [m/s]')\n",
    "ax2.set_title('Swing Speed for Varying Masses of the Golf Club - 3D Accelerating Hub (L=0.75)')\n",
    "ax2.set_xticks(range(len(labels)))\n",
    "ax2.set_xticklabels(['0.250', '0.280', '0.310', '0.340', '0.370', '0.400'])\n",
    "ax2.grid(True, linestyle = 'dashed', color = 'darkgray', alpha = 0.25)\n",
    "ax2.plot(range(len(ss_impacts)), ss_impacts, color = 'black', marker = 'o', markerfacecolor = 'white', label = 'Impact')\n",
    "ax2.plot(range(len(ss_maxes)), ss_maxes, color = 'red', marker = 's', markerfacecolor = 'white', label = 'Maximum')\n",
    "legend2 = ax2.legend(loc = 'upper right', fancybox = False)\n",
    "frame2 = legend2.get_frame()\n",
    "frame2.set_facecolor('white')\n",
    "frame2.set_edgecolor('black')\n",
    "frame2.set_linewidth(1)\n",
    "fig2.savefig('c:/Users/Tucker Knaak/Downloads/3D_AHL075_ClubMassPlot2.png', bbox_inches = 'tight')\n",
    "\n",
    "'''Third figure --> Plot of KE vs m_2'''\n",
    "ax3.set_xlabel('$m_2$ [kg]')\n",
    "ax3.set_ylabel('KE [J]')\n",
    "ax3.set_title('Kinetic Energy for Varying Masses of the Golf Club - 3D Accelerating Hub (L=0.75)')\n",
    "ax3.set_xticks(range(len(labels)))\n",
    "ax3.set_xticklabels(['0.250', '0.280', '0.310', '0.340', '0.370', '0.400'])\n",
    "ax3.grid(True, linestyle = 'dashed', color = 'darkgray', alpha = 0.25)\n",
    "ax3.plot(range(len(ke_impacts)), ke_impacts, color = 'black', marker = 'o', markerfacecolor = 'white')\n",
    "fig3.savefig('c:/Users/Tucker Knaak/Downloads/3D_AHL075_ClubMassPlot3.png', bbox_inches = 'tight')\n",
    "\n",
    "'''Fourth figure --> Table of relevant data'''\n",
    "ax4.axis('off')\n",
    "for index, model in enumerate(models):\n",
    "    model_color = colors[index] if index != 2 else 'white'\n",
    "    ke_impact_color = 'limegreen' if ke_impacts[index] == max(ke_impacts) else 'white'\n",
    "    ss_impact_color = 'limegreen' if ss_impacts[index] == max(ss_impacts) else 'white'\n",
    "    ss_max_color = 'limegreen' if ss_maxes[index] == max(ss_maxes) else 'white'\n",
    "    row = [labels[index], f'{aoas[index]}\\u00B0', f'{club_paths[index]}\\u00B0', f'{ke_impacts[index]:.2f}',\n",
    "           '{ss:.2f} ({time}s)'.format(ss = ss_impacts[index], time = t_impacts[index]),\n",
    "           '{ss:.2f} ({time}s)'.format(ss = ss_maxes[index], time = t_ss_maxes[index])]\n",
    "    cell_color = [model_color, 'white', 'white', ke_impact_color, ss_impact_color, ss_max_color]\n",
    "    table.append(row)\n",
    "    cell_colors.append(cell_color)\n",
    "the_table = ax4.table(cellText = table, colLabels = columns, cellColours = cell_colors, loc = 'center', cellLoc = 'center')\n",
    "the_table.scale(1.25, 2.25)\n",
    "fig4.savefig('c:/Users/Tucker Knaak/Downloads/3D_AHL075_ClubMassTable.png', bbox_inches = 'tight')"
   ]
  },
  {
   "cell_type": "code",
   "execution_count": null,
   "id": "109f6cb1",
   "metadata": {},
   "outputs": [],
   "source": []
  }
 ],
 "metadata": {
  "kernelspec": {
   "display_name": "Python 3 (ipykernel)",
   "language": "python",
   "name": "python3"
  },
  "language_info": {
   "codemirror_mode": {
    "name": "ipython",
    "version": 3
   },
   "file_extension": ".py",
   "mimetype": "text/x-python",
   "name": "python",
   "nbconvert_exporter": "python",
   "pygments_lexer": "ipython3",
   "version": "3.11.3"
  }
 },
 "nbformat": 4,
 "nbformat_minor": 5
}
