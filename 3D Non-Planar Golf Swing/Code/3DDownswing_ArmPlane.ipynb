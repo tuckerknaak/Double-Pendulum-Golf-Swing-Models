{
 "cells": [
  {
   "cell_type": "markdown",
   "id": "80cd11f5",
   "metadata": {},
   "source": [
    "# 3D Non-Planar Double Pendulum Golf Swing - Arm Plane Angle\n",
    "\n",
    "## Tucker Knaak - Department of Physics, Creighton University - 2022/2024\n",
    "\n",
    "#### The arm plane angle $\\theta_1$ is defined as the angle of golfer's arms counterclockwise from the $y-$axis in the $yz-$plane.  Elite golfers utilize many different arm plane angles in their respective swings, such that some golfers' arm planes are flat (large $\\theta_1$) and some golfers' arm planes are steep (small $\\theta_1$).\n",
    "\n",
    "#### This code is used to compare the swing speed of both constant hub ($L=0.0$) and accelerating hub ($L=0.75$) models for arm plane angles ranging between $\\theta_1=0^{\\circ}$ and $\\theta_1=50^{\\circ}$  in $10^{\\circ}$ intervals."
   ]
  },
  {
   "cell_type": "markdown",
   "id": "9c1d5b1d",
   "metadata": {},
   "source": [
    "#### This cell runs the Jupyter notebook containing the Downswing3D class used to model the 3D Non-Planar Double Pendulum Golf Swing."
   ]
  },
  {
   "cell_type": "code",
   "execution_count": null,
   "id": "43546359",
   "metadata": {},
   "outputs": [],
   "source": [
    "%run 3DDownswing_YoshidaPC.ipynb"
   ]
  },
  {
   "cell_type": "markdown",
   "id": "1a5c6e4a",
   "metadata": {},
   "source": [
    "#### This cell sets the parameters of the golfer and the initial conditions which are the same for each model tested."
   ]
  },
  {
   "cell_type": "code",
   "execution_count": null,
   "id": "4d1aa23b",
   "metadata": {},
   "outputs": [],
   "source": [
    "'''Parameters of the golfer'''\n",
    "r1 = 0.700   #length of the golfer's arms [m]\n",
    "m1 = 7.000   #mass of the golfer's arms [kg]\n",
    "r2 = 1.156   #length of the golf club [m]\n",
    "m2 = 0.310   #mass of the golf club [kg]\n",
    "tau_b = 225  #torque of the body [N * m]\n",
    "\n",
    "'''Initial conditions'''\n",
    "phi1_0 = np.radians(0)       #angle of the golfer's arms ccw from the y-axis in the xy-plane [rad]\n",
    "phi2_0 = np.radians(270)     #angle of the golf club ccw from the y-axis in the xy-plane [rad]\n",
    "theta2_0 = np.radians(0)     #angle of the golf club ccw from the y-axis in the yz-plane [rad]\n",
    "theta2dot_0 = np.radians(0)  #angular velocity of the golf club ccw from the y-axis in the yz-plane [rad / s]"
   ]
  },
  {
   "cell_type": "markdown",
   "id": "3795bceb",
   "metadata": {},
   "source": [
    "#### The following cells solve the equations of motion, plot the relevant data, and animate the golf swing for both a constant hub ($L=0.0$) and an accelerating hub ($L=0.75$) model with an arm plane angle of $\\theta_1=0^{\\circ}$."
   ]
  },
  {
   "cell_type": "code",
   "execution_count": null,
   "id": "983108d2",
   "metadata": {},
   "outputs": [],
   "source": [
    "'''Constant Hub'''\n",
    "CHL00_theta100 = Downswing3D('3D_CHL00_theta100')\n",
    "CHL00_theta100.golfer(r1, m1, r2, m2)\n",
    "CHL00_theta100.solve_odes('c', 0.0, tau_b, phi1_0, phi2_0, np.radians(0), theta2_0, theta2dot_0)\n",
    "CHL00_theta100.print_data()\n",
    "CHL00_theta100.plot_data('$L=0.0$, $\\u03B8_1=0\\u00B0$')"
   ]
  },
  {
   "cell_type": "code",
   "execution_count": null,
   "id": "18ba075e",
   "metadata": {},
   "outputs": [],
   "source": [
    "CHL00_theta100.animate_swing()\n",
    "CHL00_theta100.still_shot()"
   ]
  },
  {
   "cell_type": "code",
   "execution_count": null,
   "id": "f37be173",
   "metadata": {},
   "outputs": [],
   "source": [
    "'''Accelerating Hub'''\n",
    "AHL075_theta100 = Downswing3D('3D_AHL075_theta100')\n",
    "AHL075_theta100.golfer(r1, m1, r2, m2)\n",
    "AHL075_theta100.solve_odes('a', 0.75, tau_b, phi1_0, phi2_0, np.radians(0), theta2_0, theta2dot_0)\n",
    "AHL075_theta100.print_data()\n",
    "AHL075_theta100.plot_data('$L=0.75$, $\\u03B8_1=0\\u00B0$')"
   ]
  },
  {
   "cell_type": "code",
   "execution_count": null,
   "id": "68f38409",
   "metadata": {},
   "outputs": [],
   "source": [
    "AHL075_theta100.animate_swing()\n",
    "AHL075_theta100.still_shot()"
   ]
  },
  {
   "cell_type": "markdown",
   "id": "d8fb0126",
   "metadata": {},
   "source": [
    "#### The following cells solve the equations of motion, plot the relevant data, and animate the golf swing for both a constant hub ($L=0.0$) and an accelerating hub ($L=0.75$) model with an arm plane angle of $\\theta_1=10^{\\circ}$."
   ]
  },
  {
   "cell_type": "code",
   "execution_count": null,
   "id": "6fcdb089",
   "metadata": {},
   "outputs": [],
   "source": [
    "'''Constant Hub'''\n",
    "CHL00_theta110 = Downswing3D('3D_CHL00_theta110')\n",
    "CHL00_theta110.golfer(r1, m1, r2, m2)\n",
    "CHL00_theta110.solve_odes('c', 0.0, tau_b, phi1_0, phi2_0, np.radians(10), theta2_0, theta2dot_0)\n",
    "CHL00_theta110.print_data()\n",
    "CHL00_theta110.plot_data('$L=0.0$, $\\u03B8_1=10\\u00B0$')"
   ]
  },
  {
   "cell_type": "code",
   "execution_count": null,
   "id": "0d130c09",
   "metadata": {},
   "outputs": [],
   "source": [
    "CHL00_theta110.animate_swing()\n",
    "CHL00_theta110.still_shot()"
   ]
  },
  {
   "cell_type": "code",
   "execution_count": null,
   "id": "f3fa68b2",
   "metadata": {},
   "outputs": [],
   "source": [
    "'''Accelerating Hub'''\n",
    "AHL075_theta110 = Downswing3D('3D_AHL075_theta110')\n",
    "AHL075_theta110.golfer(r1, m1, r2, m2)\n",
    "AHL075_theta110.solve_odes('a', 0.75, tau_b, phi1_0, phi2_0, np.radians(10), theta2_0, theta2dot_0)\n",
    "AHL075_theta110.print_data()\n",
    "AHL075_theta110.plot_data('$L=0.75$, $\\u03B8_1=10\\u00B0$')"
   ]
  },
  {
   "cell_type": "code",
   "execution_count": null,
   "id": "7a97f2d4",
   "metadata": {},
   "outputs": [],
   "source": [
    "AHL075_theta110.animate_swing()\n",
    "AHL075_theta110.still_shot()"
   ]
  },
  {
   "cell_type": "markdown",
   "id": "c46471c2",
   "metadata": {},
   "source": [
    "#### The following cells solve the equations of motion, plot the relevant data, and animate the golf swing for both a constant hub ($L=0.0$) and an accelerating hub ($L=0.75$) model with an arm plane angle of $\\theta_1=20^{\\circ}$."
   ]
  },
  {
   "cell_type": "code",
   "execution_count": null,
   "id": "e56a0f37",
   "metadata": {},
   "outputs": [],
   "source": [
    "'''Constant Hub'''\n",
    "CHL00_theta120 = Downswing3D('3D_CHL00_theta120')\n",
    "CHL00_theta120.golfer(r1, m1, r2, m2)\n",
    "CHL00_theta120.solve_odes('c', 0.0, tau_b, phi1_0, phi2_0, np.radians(20), theta2_0, theta2dot_0)\n",
    "CHL00_theta120.print_data()\n",
    "CHL00_theta120.plot_data('$L=0.0$, $\\u03B8_1=20\\u00B0$')"
   ]
  },
  {
   "cell_type": "code",
   "execution_count": null,
   "id": "5f15268a",
   "metadata": {},
   "outputs": [],
   "source": [
    "CHL00_theta120.animate_swing()\n",
    "CHL00_theta120.still_shot()"
   ]
  },
  {
   "cell_type": "code",
   "execution_count": null,
   "id": "428c5bd5",
   "metadata": {},
   "outputs": [],
   "source": [
    "'''Accelerating Hub'''\n",
    "AHL075_theta120 = Downswing3D('3D_AHL075_theta120')\n",
    "AHL075_theta120.golfer(r1, m1, r2, m2)\n",
    "AHL075_theta120.solve_odes('a', 0.75, tau_b, phi1_0, phi2_0, np.radians(20), theta2_0, theta2dot_0)\n",
    "AHL075_theta120.print_data()\n",
    "AHL075_theta120.plot_data('$L=0.75$, $\\u03B8_1=20\\u00B0$')"
   ]
  },
  {
   "cell_type": "code",
   "execution_count": null,
   "id": "5084f6e9",
   "metadata": {},
   "outputs": [],
   "source": [
    "AHL075_theta120.animate_swing()\n",
    "AHL075_theta120.still_shot()"
   ]
  },
  {
   "cell_type": "markdown",
   "id": "e5229f17",
   "metadata": {},
   "source": [
    "#### The following cells solve the equations of motion, plot the relevant data, and animate the golf swing for both a constant hub ($L=0.0$) and an accelerating hub ($L=0.75$) model with an arm plane angle of $\\theta_1=30^{\\circ}$."
   ]
  },
  {
   "cell_type": "code",
   "execution_count": null,
   "id": "ccb97b5c",
   "metadata": {},
   "outputs": [],
   "source": [
    "'''Constant Hub'''\n",
    "CHL00_theta130 = Downswing3D('3D_CHL00_theta130')\n",
    "CHL00_theta130.golfer(r1, m1, r2, m2)\n",
    "CHL00_theta130.solve_odes('c', 0.0, tau_b, phi1_0, phi2_0, np.radians(30), theta2_0, theta2dot_0)\n",
    "CHL00_theta130.print_data()\n",
    "CHL00_theta130.plot_data('$L=0.0$, $\\u03B8_1=30\\u00B0$')"
   ]
  },
  {
   "cell_type": "code",
   "execution_count": null,
   "id": "a5423a74",
   "metadata": {},
   "outputs": [],
   "source": [
    "CHL00_theta130.animate_swing()\n",
    "CHL00_theta130.still_shot()"
   ]
  },
  {
   "cell_type": "code",
   "execution_count": null,
   "id": "8483ec80",
   "metadata": {},
   "outputs": [],
   "source": [
    "'''Accelerating Hub'''\n",
    "AHL075_theta130 = Downswing3D('3D_AHL075_theta130')\n",
    "AHL075_theta130.golfer(r1, m1, r2, m2)\n",
    "AHL075_theta130.solve_odes('a', 0.75, tau_b, phi1_0, phi2_0, np.radians(30), theta2_0, theta2dot_0)\n",
    "AHL075_theta130.print_data()\n",
    "AHL075_theta130.plot_data('$L=0.75$, $\\u03B8_1=30\\u00B0$')"
   ]
  },
  {
   "cell_type": "code",
   "execution_count": null,
   "id": "ff6dfe48",
   "metadata": {},
   "outputs": [],
   "source": [
    "AHL075_theta130.animate_swing()\n",
    "AHL075_theta130.still_shot()"
   ]
  },
  {
   "cell_type": "markdown",
   "id": "6129bbec",
   "metadata": {},
   "source": [
    "#### The following cells solve the equations of motion, plot the relevant data, and animate the golf swing for both a constant hub ($L=0.0$) and an accelerating hub ($L=0.75$) model with an arm plane angle of $\\theta_1=40^{\\circ}$."
   ]
  },
  {
   "cell_type": "code",
   "execution_count": null,
   "id": "5258f19c",
   "metadata": {},
   "outputs": [],
   "source": [
    "'''Constant Hub'''\n",
    "CHL00_theta140 = Downswing3D('3D_CHL00_theta140')\n",
    "CHL00_theta140.golfer(r1, m1, r2, m2)\n",
    "CHL00_theta140.solve_odes('c', 0.0, tau_b, phi1_0, phi2_0, np.radians(40), theta2_0, theta2dot_0)\n",
    "CHL00_theta140.print_data()\n",
    "CHL00_theta140.plot_data('$L=0.0$, $\\u03B8_1=40\\u00B0$')"
   ]
  },
  {
   "cell_type": "code",
   "execution_count": null,
   "id": "3a0eb94b",
   "metadata": {},
   "outputs": [],
   "source": [
    "CHL00_theta140.animate_swing()\n",
    "CHL00_theta140.still_shot()"
   ]
  },
  {
   "cell_type": "code",
   "execution_count": null,
   "id": "358c1881",
   "metadata": {},
   "outputs": [],
   "source": [
    "'''Accelerating Hub'''\n",
    "AHL075_theta140 = Downswing3D('3D_AHL075_theta140')\n",
    "AHL075_theta140.golfer(r1, m1, r2, m2)\n",
    "AHL075_theta140.solve_odes('a', 0.75, tau_b, phi1_0, phi2_0, np.radians(40), theta2_0, theta2dot_0)\n",
    "AHL075_theta140.print_data()\n",
    "AHL075_theta140.plot_data('$L=0.75$, $\\u03B8_1=40\\u00B0$')"
   ]
  },
  {
   "cell_type": "code",
   "execution_count": null,
   "id": "3269407d",
   "metadata": {},
   "outputs": [],
   "source": [
    "AHL075_theta140.animate_swing()\n",
    "AHL075_theta140.still_shot()"
   ]
  },
  {
   "cell_type": "markdown",
   "id": "e7ec985e",
   "metadata": {},
   "source": [
    "#### The following cells solve the equations of motion, plot the relevant data, and animate the golf swing for both a constant hub ($L=0.0$) and an accelerating hub ($L=0.75$) model with an arm plane angle of $\\theta_1=50^{\\circ}$."
   ]
  },
  {
   "cell_type": "code",
   "execution_count": null,
   "id": "2eace7f9",
   "metadata": {},
   "outputs": [],
   "source": [
    "'''Constant Hub'''\n",
    "CHL00_theta150 = Downswing3D('3D_CHL00_theta150')\n",
    "CHL00_theta150.golfer(r1, m1, r2, m2)\n",
    "CHL00_theta150.solve_odes('c', 0.0, tau_b, phi1_0, phi2_0, np.radians(50), theta2_0, theta2dot_0)\n",
    "CHL00_theta150.print_data()\n",
    "CHL00_theta150.plot_data('$L=0.0$, $\\u03B8_1=50\\u00B0$')"
   ]
  },
  {
   "cell_type": "code",
   "execution_count": null,
   "id": "baa134b3",
   "metadata": {},
   "outputs": [],
   "source": [
    "CHL00_theta150.animate_swing()\n",
    "CHL00_theta150.still_shot()"
   ]
  },
  {
   "cell_type": "code",
   "execution_count": null,
   "id": "ecf2c388",
   "metadata": {},
   "outputs": [],
   "source": [
    "'''Accelerating Hub'''\n",
    "AHL075_theta150 = Downswing3D('3D_AHL075_theta150')\n",
    "AHL075_theta150.golfer(r1, m1, r2, m2)\n",
    "AHL075_theta150.solve_odes('a', 0.75, tau_b, phi1_0, phi2_0, np.radians(50), theta2_0, theta2dot_0)\n",
    "AHL075_theta150.print_data()\n",
    "AHL075_theta150.plot_data('$L=0.75$, $\\u03B8_1=50\\u00B0$')"
   ]
  },
  {
   "cell_type": "code",
   "execution_count": null,
   "id": "16e0ebd4",
   "metadata": {},
   "outputs": [],
   "source": [
    "AHL075_theta150.animate_swing()\n",
    "AHL075_theta150.still_shot()"
   ]
  },
  {
   "cell_type": "markdown",
   "id": "117c5912",
   "metadata": {},
   "source": [
    "#### This cell compares the swing speed and relevant data of each model with a constant hub."
   ]
  },
  {
   "cell_type": "code",
   "execution_count": null,
   "id": "7d81b1db",
   "metadata": {},
   "outputs": [],
   "source": [
    "'''Create table, columns, and colors'''\n",
    "table = []\n",
    "columns = ['Model', 'A.o.A', 'Club Path', 'SS - Impact [m/s]', 'SS - Max [m/s]']\n",
    "cell_colors = []\n",
    "\n",
    "'''Models and labels'''\n",
    "models = [CHL00_theta100, CHL00_theta110, CHL00_theta120, CHL00_theta130, CHL00_theta140, CHL00_theta150]\n",
    "labels = ['$\\u03B8_1=0\\u00B0$', '$\\u03B8_1=10\\u00B0$', '$\\u03B8_1=20\\u00B0$',\n",
    "          '$\\u03B8_1=30\\u00B0$', '$\\u03B8_1=40\\u00B0$', '$\\u03B8_1=50\\u00B0$']\n",
    "colors = list(plt.cm.viridis(np.linspace(0.9, 0.1, 6)))\n",
    "colors[0] = 'black'\n",
    "\n",
    "'''Create lists of relevant data for each model'''\n",
    "aoas = [model.aoa for model in models]\n",
    "club_paths = [model.club_path for model in models]\n",
    "t_impacts = [model.t_impact for model in models]\n",
    "ss_impacts = [model.ss_impact for model in models]\n",
    "t_ss_maxes = [model.t_ss_max for model in models]\n",
    "ss_maxes = [model.ss_max for model in models]\n",
    "\n",
    "'''Create figures'''\n",
    "fig1, ax1 = plt.subplots(figsize = (9, 5))\n",
    "fig2, ax2 = plt.subplots(figsize = (9, 5))\n",
    "fig3, ax3 = plt.subplots(figsize = (9, 5))\n",
    "fig1.tight_layout(pad = 2)\n",
    "fig2.tight_layout(pad = 2)\n",
    "fig3.tight_layout(pad = 2)\n",
    "\n",
    "'''First figure --> Plot of SS during downswing'''\n",
    "ax1.set_xlabel('$t$ [s]')\n",
    "ax1.set_ylabel('Speed [m/s]')\n",
    "ax1.set_title('Swing Speed During the Downswing - Arm Plane Angle - 3D Constant Hub (L=0.00)')\n",
    "ax1.grid(True, linestyle = 'dashed', color = 'darkgray', alpha = 0.25)\n",
    "for index, model in enumerate(models):\n",
    "    linestyle = 'dashed' if index == 0 else 'solid'\n",
    "    ax1.plot(model.t_points, model.ss_points, linestyle = linestyle, color = colors[index], label = labels[index])\n",
    "    ax1.plot(t_impacts[index], ss_impacts[index], 'ko', markersize = 4, zorder = 10)\n",
    "ax1.plot([], [], 'ko', markersize = 4, label = 'Impact')\n",
    "legend1 = ax1.legend(loc = 'upper left', fancybox = False)\n",
    "frame1 = legend1.get_frame()\n",
    "frame1.set_facecolor('white')\n",
    "frame1.set_edgecolor('black')\n",
    "frame1.set_linewidth(1)\n",
    "fig1.savefig('c:/Users/Tucker Knaak/Downloads/3D_CHL00_ArmPlanePlot1.png', bbox_inches = 'tight')\n",
    "\n",
    "'''Second figure --> Plot of SS vs Theta1'''\n",
    "ax2.set_xlabel('$\\u03B8_1$ [\\u00B0]')\n",
    "ax2.set_ylabel('Speed [m/s]')\n",
    "ax2.set_title('Swing Speed for Varying Arm Plane Angles - 3D Constant Hub (L=0.00)')\n",
    "ax2.set_xticks(range(len(labels)))\n",
    "ax2.set_xticklabels(['0', '10', '20', '30', '40', '50'])\n",
    "ax2.grid(True, linestyle = 'dashed', color = 'darkgray', alpha = 0.25)\n",
    "ax2.plot(range(len(ss_impacts)), ss_impacts, color = 'black', marker = 'o', markerfacecolor = 'white', label = 'Impact')\n",
    "ax2.plot(range(len(ss_maxes)), ss_maxes, color = 'red', marker = 's', markerfacecolor = 'white', label = 'Maximum')\n",
    "legend2 = ax2.legend(loc = 'upper left', fancybox = False)\n",
    "frame2 = legend2.get_frame()\n",
    "frame2.set_facecolor('white')\n",
    "frame2.set_edgecolor('black')\n",
    "frame2.set_linewidth(1)\n",
    "fig2.savefig('c:/Users/Tucker Knaak/Downloads/3D_CHL00_ArmPlanePlot2.png', bbox_inches = 'tight')\n",
    "\n",
    "'''Third figure --> Table of relevant data'''\n",
    "ax3.axis('off')\n",
    "for index, model in enumerate(models):\n",
    "    model_color = colors[index] if index != 0 else 'white'\n",
    "    ss_impact_color = 'limegreen' if ss_impacts[index] == max(ss_impacts) else 'white'\n",
    "    ss_max_color = 'limegreen' if ss_maxes[index] == max(ss_maxes) else 'white'\n",
    "    row = [labels[index], f'{aoas[index]}\\u00B0', f'{club_paths[index]}\\u00B0',\n",
    "           '{ss:.2f} ({time}s)'.format(ss = ss_impacts[index], time = t_impacts[index]),\n",
    "           '{ss:.2f} ({time}s)'.format(ss = ss_maxes[index], time = t_ss_maxes[index])]\n",
    "    cell_color = [model_color, 'white', 'white', ss_impact_color, ss_max_color]\n",
    "    table.append(row)\n",
    "    cell_colors.append(cell_color)\n",
    "the_table = ax3.table(cellText = table, colLabels = columns, cellColours = cell_colors, loc = 'center', cellLoc = 'center')\n",
    "the_table.scale(1.25, 2.25)\n",
    "fig3.savefig('c:/Users/Tucker Knaak/Downloads/3D_CHL00_ArmPlaneTable.png', bbox_inches = 'tight')"
   ]
  },
  {
   "cell_type": "markdown",
   "id": "788e61e7",
   "metadata": {},
   "source": [
    "#### This cell compares the swing speed and relevant data of each model with an accelerating hub."
   ]
  },
  {
   "cell_type": "code",
   "execution_count": null,
   "id": "b45c001c",
   "metadata": {},
   "outputs": [],
   "source": [
    "'''Create table, columns, and colors'''\n",
    "table = []\n",
    "columns = ['Model', 'A.o.A', 'Club Path', 'SS - Impact [m/s]', 'SS - Max [m/s]']\n",
    "cell_colors = []\n",
    "\n",
    "'''Models and labels'''\n",
    "models = [AHL075_theta100, AHL075_theta110, AHL075_theta120, AHL075_theta130, AHL075_theta140, AHL075_theta150]\n",
    "labels = ['$\\u03B8_1=0\\u00B0$', '$\\u03B8_1=10\\u00B0$', '$\\u03B8_1=20\\u00B0$',\n",
    "          '$\\u03B8_1=30\\u00B0$', '$\\u03B8_1=40\\u00B0$', '$\\u03B8_1=50\\u00B0$']\n",
    "colors = list(plt.cm.viridis(np.linspace(0.9, 0.1, 6)))\n",
    "colors[0] = 'black'\n",
    "\n",
    "'''Create lists of relevant data for each model'''\n",
    "aoas = [model.aoa for model in models]\n",
    "club_paths = [model.club_path for model in models]\n",
    "t_impacts = [model.t_impact for model in models]\n",
    "t_impacts[3] = AHL075_theta130.t_points[AHL075_theta130.num_steps_impact + 1]\n",
    "ss_impacts = [model.ss_impact for model in models]\n",
    "ss_impacts[3] = AHL075_theta130.ss_points[AHL075_theta130.num_steps_impact + 1]\n",
    "t_ss_maxes = [model.t_ss_max for model in models]\n",
    "ss_maxes = [model.ss_max for model in models]\n",
    "\n",
    "'''Create figures'''\n",
    "fig1, ax1 = plt.subplots(figsize = (9, 5))\n",
    "fig2, ax2 = plt.subplots(figsize = (9, 5))\n",
    "fig3, ax3 = plt.subplots(figsize = (9, 5))\n",
    "fig1.tight_layout(pad = 2)\n",
    "fig2.tight_layout(pad = 2)\n",
    "fig3.tight_layout(pad = 2)\n",
    "\n",
    "'''First figure --> Plot of SS during downswing'''\n",
    "ax1.set_xlabel('$t$ [s]')\n",
    "ax1.set_ylabel('Speed [m/s]')\n",
    "ax1.set_title('Swing Speed During the Downswing - Arm Plane Angle - 3D Accelerating Hub (L=0.75)')\n",
    "ax1.grid(True, linestyle = 'dashed', color = 'darkgray', alpha = 0.25)\n",
    "for index, model in enumerate(models):\n",
    "    linestyle = 'dashed' if index == 0 else 'solid'\n",
    "    ax1.plot(model.t_points, model.ss_points, linestyle = linestyle, color = colors[index], label = labels[index])\n",
    "    ax1.plot(t_impacts[index], ss_impacts[index], 'ko', markersize = 4, zorder = 10)\n",
    "ax1.plot([], [], 'ko', markersize = 4, label = 'Impact')\n",
    "legend1 = ax1.legend(loc = 'upper left', fancybox = False)\n",
    "frame1 = legend1.get_frame()\n",
    "frame1.set_facecolor('white')\n",
    "frame1.set_edgecolor('black')\n",
    "frame1.set_linewidth(1)\n",
    "fig1.savefig('c:/Users/Tucker Knaak/Downloads/3D_AHL075_ArmPlanePlot1.png', bbox_inches = 'tight')\n",
    "\n",
    "'''Second figure --> Plot of SS vs Theta1'''\n",
    "ax2.set_xlabel('$\\u03B8_1$ [\\u00B0]')\n",
    "ax2.set_ylabel('Speed [m/s]')\n",
    "ax2.set_title('Swing Speed for Varying Arm Plane Angles - 3D Accelerating Hub (L=0.75)')\n",
    "ax2.set_xticks(range(len(labels)))\n",
    "ax2.set_xticklabels(['0', '10', '20', '30', '40', '50'])\n",
    "ax2.grid(True, linestyle = 'dashed', color = 'darkgray', alpha = 0.25)\n",
    "ax2.plot(range(len(ss_impacts)), ss_impacts, color = 'black', marker = 'o', markerfacecolor = 'white', label = 'Impact')\n",
    "ax2.plot(range(len(ss_maxes)), ss_maxes, color = 'red', marker = 's', markerfacecolor = 'white', label = 'Maximum')\n",
    "legend2 = ax2.legend(loc = 'upper right', fancybox = False)\n",
    "frame2 = legend2.get_frame()\n",
    "frame2.set_facecolor('white')\n",
    "frame2.set_edgecolor('black')\n",
    "frame2.set_linewidth(1)\n",
    "fig2.savefig('c:/Users/Tucker Knaak/Downloads/3D_AHL075_ArmPlanePlot2.png', bbox_inches = 'tight')\n",
    "\n",
    "'''Third figure --> Table of relevant data'''\n",
    "ax3.axis('off')\n",
    "for index, model in enumerate(models):\n",
    "    model_color = colors[index] if index != 0 else 'white'\n",
    "    ss_impact_color = 'limegreen' if ss_impacts[index] == max(ss_impacts) else 'white'\n",
    "    ss_max_color = 'limegreen' if ss_maxes[index] == max(ss_maxes) else 'white'\n",
    "    row = [labels[index], f'{aoas[index]}\\u00B0', f'{club_paths[index]}\\u00B0',\n",
    "           '{ss:.2f} ({time}s)'.format(ss = ss_impacts[index], time = t_impacts[index]),\n",
    "           '{ss:.2f} ({time}s)'.format(ss = ss_maxes[index], time = t_ss_maxes[index])]\n",
    "    cell_color = [model_color, 'white', 'white', ss_impact_color, ss_max_color]\n",
    "    table.append(row)\n",
    "    cell_colors.append(cell_color)\n",
    "the_table = ax3.table(cellText = table, colLabels = columns, cellColours = cell_colors, loc = 'center', cellLoc = 'center')\n",
    "the_table.scale(1.25, 2.25)\n",
    "fig3.savefig('c:/Users/Tucker Knaak/Downloads/3D_AHL075_ArmPlaneTable.png', bbox_inches = 'tight')"
   ]
  },
  {
   "cell_type": "code",
   "execution_count": null,
   "id": "ff453901",
   "metadata": {},
   "outputs": [],
   "source": []
  }
 ],
 "metadata": {
  "kernelspec": {
   "display_name": "Python 3 (ipykernel)",
   "language": "python",
   "name": "python3"
  },
  "language_info": {
   "codemirror_mode": {
    "name": "ipython",
    "version": 3
   },
   "file_extension": ".py",
   "mimetype": "text/x-python",
   "name": "python",
   "nbconvert_exporter": "python",
   "pygments_lexer": "ipython3",
   "version": "3.11.3"
  }
 },
 "nbformat": 4,
 "nbformat_minor": 5
}
