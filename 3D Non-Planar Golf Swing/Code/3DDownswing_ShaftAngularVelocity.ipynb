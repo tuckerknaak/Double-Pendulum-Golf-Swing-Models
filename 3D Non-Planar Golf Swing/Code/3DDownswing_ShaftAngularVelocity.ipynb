{
 "cells": [
  {
   "cell_type": "markdown",
   "id": "3b0419b6",
   "metadata": {},
   "source": [
    "# 3D Non-Planar Double Pendulum Golf Swing - Shaft Angular Velocity\n",
    "\n",
    "## Tucker Knaak - Department of Physics, Creighton University - 2022/2024\n",
    "\n",
    "#### The shaft angle $\\theta_2$ is defined as the angle of the golf club counterclockwise from the $y-$axis in the $yz-$plane.  The motivation for the 3D Non-Planar Double Pendulum Golf Swing was derived from the commonality of elite golfers to flatten the shaft during the downswing (increasing $\\theta_2$).\n",
    "\n",
    "#### This code is used to compare the swing speed of both constant hub and accelerating hub models for shaft angular velocities ranging between $\\dot{\\theta}_2=0^{\\circ}$ and $\\dot{\\theta}_2=90^{\\circ}$ in $15^{\\circ}$ intervals."
   ]
  },
  {
   "cell_type": "markdown",
   "id": "7be7986e",
   "metadata": {},
   "source": [
    "#### This cell runs the Jupyter notebook containing the Downswing3D class used to model the 3D Non-Planar Double Pendulum Golf Swing."
   ]
  },
  {
   "cell_type": "code",
   "execution_count": null,
   "id": "9c10b16b",
   "metadata": {},
   "outputs": [],
   "source": [
    "%run 3DDownswing_YoshidaPC.ipynb"
   ]
  },
  {
   "cell_type": "markdown",
   "id": "814224f4",
   "metadata": {},
   "source": [
    "#### This cell sets the parameters of the golfer and the initial conditions which are the same for each model tested."
   ]
  },
  {
   "cell_type": "code",
   "execution_count": null,
   "id": "eabf6193",
   "metadata": {},
   "outputs": [],
   "source": [
    "'''Parameters of the golfer'''\n",
    "r1 = 0.700   #length of the golfer's arms [m]\n",
    "m1 = 7.000   #mass of the golfer's arms [kg]\n",
    "r2 = 1.156   #length of the golf club [m]\n",
    "m2 = 0.310   #mass of the golf club [kg]\n",
    "tau_b = 225  #torque of the body [N * m]\n",
    "\n",
    "'''Initial conditions'''\n",
    "phi1_0 = np.radians(0)     #angle of the golfer's arms ccw from the y-axis in the xy-plane [rad]\n",
    "phi2_0 = np.radians(270)   #angle of the golf club ccw from the y-axis in the xy-plane [rad]\n",
    "theta1_0 = np.radians(30)  #angle of the golfer's arms ccw from the y-axis in the yz-plane [rad]\n",
    "theta2_0 = np.radians(0)   #angle of the golf club ccw from the y-axis in the yz-plane [rad]"
   ]
  },
  {
   "cell_type": "markdown",
   "id": "b51bb4c2",
   "metadata": {},
   "source": [
    "#### The following cells solve the equations of motion, plot the relevant data, and animate the golf swing for both a constant hub ($L=0.0$) and an accelerating hub ($L=0.75$) model with a shaft angular velocity of $\\dot{\\theta}_2=0^{\\circ}$."
   ]
  },
  {
   "cell_type": "code",
   "execution_count": null,
   "id": "50c92ccd",
   "metadata": {},
   "outputs": [],
   "source": [
    "'''Constant Hub'''\n",
    "CHL00_theta2dot00 = Downswing3D('3D_CHL00_theta2dot00')\n",
    "CHL00_theta2dot00.golfer(r1, m1, r2, m2)\n",
    "CHL00_theta2dot00.solve_odes('c', 0.0, tau_b, phi1_0, phi2_0, theta1_0, theta2_0, np.radians(0))\n",
    "CHL00_theta2dot00.print_data()\n",
    "CHL00_theta2dot00.plot_data('$L=0.0$, $\\dot{\\u03B8}_2=0\\u00B0$/s')"
   ]
  },
  {
   "cell_type": "code",
   "execution_count": null,
   "id": "0f9496b1",
   "metadata": {},
   "outputs": [],
   "source": [
    "CHL00_theta2dot00.animate_swing()\n",
    "CHL00_theta2dot00.still_shot()"
   ]
  },
  {
   "cell_type": "code",
   "execution_count": null,
   "id": "afb6233f",
   "metadata": {},
   "outputs": [],
   "source": [
    "'''Accelerating Hub'''\n",
    "AHL075_theta2dot00 = Downswing3D('3D_AHL075_theta2dot00')\n",
    "AHL075_theta2dot00.golfer(r1, m1, r2, m2)\n",
    "AHL075_theta2dot00.solve_odes('a', 0.75, tau_b, phi1_0, phi2_0, theta1_0, theta2_0, np.radians(0))\n",
    "AHL075_theta2dot00.print_data()\n",
    "AHL075_theta2dot00.plot_data('$L=0.75$, $\\dot{\\u03B8}_2=0\\u00B0$/s')"
   ]
  },
  {
   "cell_type": "code",
   "execution_count": null,
   "id": "e0a1fd38",
   "metadata": {},
   "outputs": [],
   "source": [
    "AHL075_theta2dot00.animate_swing()\n",
    "AHL075_theta2dot00.still_shot()"
   ]
  },
  {
   "cell_type": "markdown",
   "id": "4035a82d",
   "metadata": {},
   "source": [
    "#### The following cells solve the equations of motion, plot the relevant data, and animate the golf swing for both a constant hub ($L=0.0$) and an accelerating hub ($L=0.75$) model with a shaft angular velocity of $\\dot{\\theta}_2=15^{\\circ}$."
   ]
  },
  {
   "cell_type": "code",
   "execution_count": null,
   "id": "1f92faad",
   "metadata": {},
   "outputs": [],
   "source": [
    "'''Constant Hub'''\n",
    "CHL00_theta2dot15 = Downswing3D('3D_CHL00_theta2dot15')\n",
    "CHL00_theta2dot15.golfer(r1, m1, r2, m2)\n",
    "CHL00_theta2dot15.solve_odes('c', 0.0, tau_b, phi1_0, phi2_0, theta1_0, theta2_0, np.radians(15))\n",
    "CHL00_theta2dot15.print_data()\n",
    "CHL00_theta2dot15.plot_data('$L=0.0$, $\\dot{\\u03B8}_2=15\\u00B0$/s')"
   ]
  },
  {
   "cell_type": "code",
   "execution_count": null,
   "id": "d2a69438",
   "metadata": {},
   "outputs": [],
   "source": [
    "CHL00_theta2dot15.animate_swing()\n",
    "CHL00_theta2dot15.still_shot()"
   ]
  },
  {
   "cell_type": "code",
   "execution_count": null,
   "id": "0ead92b1",
   "metadata": {},
   "outputs": [],
   "source": [
    "'''Accelerating Hub'''\n",
    "AHL075_theta2dot15 = Downswing3D('3D_AHL075_theta2dot15')\n",
    "AHL075_theta2dot15.golfer(r1, m1, r2, m2)\n",
    "AHL075_theta2dot15.solve_odes('a', 0.75, tau_b, phi1_0, phi2_0, theta1_0, theta2_0, np.radians(15))\n",
    "AHL075_theta2dot15.print_data()\n",
    "AHL075_theta2dot15.plot_data('$L=0.75$, $\\dot{\\u03B8}_2=15\\u00B0$/s')"
   ]
  },
  {
   "cell_type": "code",
   "execution_count": null,
   "id": "ddf4053f",
   "metadata": {},
   "outputs": [],
   "source": [
    "AHL075_theta2dot15.animate_swing()\n",
    "AHL075_theta2dot15.still_shot()"
   ]
  },
  {
   "cell_type": "markdown",
   "id": "92de6835",
   "metadata": {},
   "source": [
    "#### The following cells solve the equations of motion, plot the relevant data, and animate the golf swing for both a constant hub ($L=0.0$) and an accelerating hub ($L=0.75$) model with a shaft angular velocity of $\\dot{\\theta}_2=30^{\\circ}$."
   ]
  },
  {
   "cell_type": "code",
   "execution_count": null,
   "id": "b1abffa8",
   "metadata": {},
   "outputs": [],
   "source": [
    "'''Constant Hub'''\n",
    "CHL00_theta2dot30 = Downswing3D('3D_CHL00_theta2dot30')\n",
    "CHL00_theta2dot30.golfer(r1, m1, r2, m2)\n",
    "CHL00_theta2dot30.solve_odes('c', 0.0, tau_b, phi1_0, phi2_0, theta1_0, theta2_0, np.radians(30))\n",
    "CHL00_theta2dot30.print_data()\n",
    "CHL00_theta2dot30.plot_data('$L=0.0$, $\\dot{\\u03B8}_2=30\\u00B0$/s')"
   ]
  },
  {
   "cell_type": "code",
   "execution_count": null,
   "id": "a1816b36",
   "metadata": {},
   "outputs": [],
   "source": [
    "CHL00_theta2dot30.animate_swing()\n",
    "CHL00_theta2dot30.still_shot()"
   ]
  },
  {
   "cell_type": "code",
   "execution_count": null,
   "id": "23f0e8ae",
   "metadata": {},
   "outputs": [],
   "source": [
    "'''Accelerating Hub'''\n",
    "AHL075_theta2dot30 = Downswing3D('3D_AHL075_theta2dot30')\n",
    "AHL075_theta2dot30.golfer(r1, m1, r2, m2)\n",
    "AHL075_theta2dot30.solve_odes('a', 0.75, tau_b, phi1_0, phi2_0, theta1_0, theta2_0, np.radians(30))\n",
    "AHL075_theta2dot30.print_data()\n",
    "AHL075_theta2dot30.plot_data('$L=0.75$, $\\dot{\\u03B8}_2=30\\u00B0$/s')"
   ]
  },
  {
   "cell_type": "code",
   "execution_count": null,
   "id": "b1c7816e",
   "metadata": {},
   "outputs": [],
   "source": [
    "AHL075_theta2dot30.animate_swing()\n",
    "AHL075_theta2dot30.still_shot()"
   ]
  },
  {
   "cell_type": "markdown",
   "id": "74c5a7b4",
   "metadata": {},
   "source": [
    "#### The following cells solve the equations of motion, plot the relevant data, and animate the golf swing for both a constant hub ($L=0.0$) and an accelerating hub ($L=0.75$) model with a shaft angular velocity of $\\dot{\\theta}_2=45^{\\circ}$."
   ]
  },
  {
   "cell_type": "code",
   "execution_count": null,
   "id": "933aa5aa",
   "metadata": {},
   "outputs": [],
   "source": [
    "'''Constant Hub'''\n",
    "CHL00_theta2dot45 = Downswing3D('3D_CHL00_theta2dot45')\n",
    "CHL00_theta2dot45.golfer(r1, m1, r2, m2)\n",
    "CHL00_theta2dot45.solve_odes('c', 0.0, tau_b, phi1_0, phi2_0, theta1_0, theta2_0, np.radians(45))\n",
    "CHL00_theta2dot45.print_data()\n",
    "CHL00_theta2dot45.plot_data('$L=0.0$, $\\dot{\\u03B8}_2=45\\u00B0$/s')"
   ]
  },
  {
   "cell_type": "code",
   "execution_count": null,
   "id": "65f7915a",
   "metadata": {},
   "outputs": [],
   "source": [
    "CHL00_theta2dot45.animate_swing()\n",
    "CHL00_theta2dot45.still_shot()"
   ]
  },
  {
   "cell_type": "code",
   "execution_count": null,
   "id": "ef67ca36",
   "metadata": {},
   "outputs": [],
   "source": [
    "'''Accelerating Hub'''\n",
    "AHL075_theta2dot45 = Downswing3D('3D_AHL075_theta2dot45')\n",
    "AHL075_theta2dot45.golfer(r1, m1, r2, m2)\n",
    "AHL075_theta2dot45.solve_odes('a', 0.75, tau_b, phi1_0, phi2_0, theta1_0, theta2_0, np.radians(45))\n",
    "AHL075_theta2dot45.print_data()\n",
    "AHL075_theta2dot45.plot_data('$L=0.75$, $\\dot{\\u03B8}_2=45\\u00B0$/s')"
   ]
  },
  {
   "cell_type": "code",
   "execution_count": null,
   "id": "bb8a0774",
   "metadata": {},
   "outputs": [],
   "source": [
    "AHL075_theta2dot45.animate_swing()\n",
    "AHL075_theta2dot45.still_shot()"
   ]
  },
  {
   "cell_type": "markdown",
   "id": "2341a614",
   "metadata": {},
   "source": [
    "#### The following cells solve the equations of motion, plot the relevant data, and animate the golf swing for both a constant hub ($L=0.0$) and an accelerating hub ($L=0.75$) model with a shaft angular velocity of $\\dot{\\theta}_2=60^{\\circ}$."
   ]
  },
  {
   "cell_type": "code",
   "execution_count": null,
   "id": "7a59751a",
   "metadata": {},
   "outputs": [],
   "source": [
    "'''Constant Hub'''\n",
    "CHL00_theta2dot60 = Downswing3D('3D_CHL00_theta2dot60')\n",
    "CHL00_theta2dot60.golfer(r1, m1, r2, m2)\n",
    "CHL00_theta2dot60.solve_odes('c', 0.0, tau_b, phi1_0, phi2_0, theta1_0, theta2_0, np.radians(60))\n",
    "CHL00_theta2dot60.print_data()\n",
    "CHL00_theta2dot60.plot_data('$L=0.0$, $\\dot{\\u03B8}_2=60\\u00B0$/s')"
   ]
  },
  {
   "cell_type": "code",
   "execution_count": null,
   "id": "dcf886a9",
   "metadata": {},
   "outputs": [],
   "source": [
    "CHL00_theta2dot60.animate_swing()\n",
    "CHL00_theta2dot60.still_shot()"
   ]
  },
  {
   "cell_type": "code",
   "execution_count": null,
   "id": "0d3a2b50",
   "metadata": {},
   "outputs": [],
   "source": [
    "'''Accelerating Hub'''\n",
    "AHL075_theta2dot60 = Downswing3D('3D_AHL075_theta2dot60')\n",
    "AHL075_theta2dot60.golfer(r1, m1, r2, m2)\n",
    "AHL075_theta2dot60.solve_odes('a', 0.75, tau_b, phi1_0, phi2_0, theta1_0, theta2_0, np.radians(60))\n",
    "AHL075_theta2dot60.print_data()\n",
    "AHL075_theta2dot60.plot_data('$L=0.75$, $\\dot{\\u03B8}_2=60\\u00B0$/s')"
   ]
  },
  {
   "cell_type": "code",
   "execution_count": null,
   "id": "65cc7a07",
   "metadata": {},
   "outputs": [],
   "source": [
    "AHL075_theta2dot60.animate_swing()\n",
    "AHL075_theta2dot60.still_shot()"
   ]
  },
  {
   "cell_type": "markdown",
   "id": "07e4198a",
   "metadata": {},
   "source": [
    "#### The following cells solve the equations of motion, plot the relevant data, and animate the golf swing for both a constant hub ($L=0.0$) and an accelerating hub ($L=0.75$) model with a shaft angular velocity of $\\dot{\\theta}_2=75^{\\circ}$."
   ]
  },
  {
   "cell_type": "code",
   "execution_count": null,
   "id": "2562c4fa",
   "metadata": {},
   "outputs": [],
   "source": [
    "'''Constant Hub'''\n",
    "CHL00_theta2dot75 = Downswing3D('3D_CHL00_theta2dot75')\n",
    "CHL00_theta2dot75.golfer(r1, m1, r2, m2)\n",
    "CHL00_theta2dot75.solve_odes('c', 0.0, tau_b, phi1_0, phi2_0, theta1_0, theta2_0, np.radians(75))\n",
    "CHL00_theta2dot75.print_data()\n",
    "CHL00_theta2dot75.plot_data('$L=0.0$, $\\dot{\\u03B8}_2=75\\u00B0$/s')"
   ]
  },
  {
   "cell_type": "code",
   "execution_count": null,
   "id": "bbbebe77",
   "metadata": {},
   "outputs": [],
   "source": [
    "CHL00_theta2dot75.animate_swing()\n",
    "CHL00_theta2dot75.still_shot()"
   ]
  },
  {
   "cell_type": "code",
   "execution_count": null,
   "id": "72b84644",
   "metadata": {},
   "outputs": [],
   "source": [
    "'''Accelerating Hub'''\n",
    "AHL075_theta2dot75 = Downswing3D('3D_AHL075_theta2dot75')\n",
    "AHL075_theta2dot75.golfer(r1, m1, r2, m2)\n",
    "AHL075_theta2dot75.solve_odes('a', 0.75, tau_b, phi1_0, phi2_0, theta1_0, theta2_0, np.radians(75))\n",
    "AHL075_theta2dot75.print_data()\n",
    "AHL075_theta2dot75.plot_data('$L=0.75$, $\\dot{\\u03B8}_2=75\\u00B0$/s')"
   ]
  },
  {
   "cell_type": "code",
   "execution_count": null,
   "id": "7f0b986e",
   "metadata": {},
   "outputs": [],
   "source": [
    "AHL075_theta2dot75.animate_swing()\n",
    "AHL075_theta2dot75.still_shot()"
   ]
  },
  {
   "cell_type": "markdown",
   "id": "0ca60f36",
   "metadata": {},
   "source": [
    "#### The following cells solve the equations of motion, plot the relevant data, and animate the golf swing for both a constant hub ($L=0.0$) and an accelerating hub ($L=0.75$) model with a shaft angular velocity of $\\dot{\\theta}_2=90^{\\circ}$."
   ]
  },
  {
   "cell_type": "code",
   "execution_count": null,
   "id": "4a814fa3",
   "metadata": {},
   "outputs": [],
   "source": [
    "'''Constant Hub'''\n",
    "CHL00_theta2dot90 = Downswing3D('3D_CHL00_theta2dot90')\n",
    "CHL00_theta2dot90.golfer(r1, m1, r2, m2)\n",
    "CHL00_theta2dot90.solve_odes('c', 0.0, tau_b, phi1_0, phi2_0, theta1_0, theta2_0, np.radians(90))\n",
    "CHL00_theta2dot90.print_data()\n",
    "CHL00_theta2dot90.plot_data('$L=0.0$, $\\dot{\\u03B8}_2=90\\u00B0$/s')"
   ]
  },
  {
   "cell_type": "code",
   "execution_count": null,
   "id": "45409df6",
   "metadata": {},
   "outputs": [],
   "source": [
    "CHL00_theta2dot90.animate_swing()\n",
    "CHL00_theta2dot90.still_shot()"
   ]
  },
  {
   "cell_type": "code",
   "execution_count": null,
   "id": "f4066906",
   "metadata": {},
   "outputs": [],
   "source": [
    "'''Accelerating Hub'''\n",
    "AHL075_theta2dot90 = Downswing3D('3D_AHL075_theta2dot90')\n",
    "AHL075_theta2dot90.golfer(r1, m1, r2, m2)\n",
    "AHL075_theta2dot90.solve_odes('a', 0.75, tau_b, phi1_0, phi2_0, theta1_0, theta2_0, np.radians(90))\n",
    "AHL075_theta2dot90.print_data()\n",
    "AHL075_theta2dot90.plot_data('$L=0.75$, $\\dot{\\u03B8}_2=90\\u00B0$/s')"
   ]
  },
  {
   "cell_type": "code",
   "execution_count": null,
   "id": "2db9dcd7",
   "metadata": {},
   "outputs": [],
   "source": [
    "AHL075_theta2dot90.animate_swing()\n",
    "AHL075_theta2dot90.still_shot()"
   ]
  },
  {
   "cell_type": "markdown",
   "id": "eca40fea",
   "metadata": {},
   "source": [
    "#### This cell compares the swing speed and relevant data of each model with a constant hub."
   ]
  },
  {
   "cell_type": "code",
   "execution_count": null,
   "id": "6e59ddf6",
   "metadata": {},
   "outputs": [],
   "source": [
    "'''Create table, columns, and colors'''\n",
    "table = []\n",
    "columns = ['Model', 'A.o.A', 'Club Path', 'SS - Impact [m/s]', 'SS - Max [m/s]']\n",
    "cell_colors = []\n",
    "\n",
    "'''Models and labels'''\n",
    "models = [CHL00_theta2dot00, CHL00_theta2dot15, CHL00_theta2dot30, CHL00_theta2dot45,\n",
    "          CHL00_theta2dot60, CHL00_theta2dot75, CHL00_theta2dot90]\n",
    "labels = ['$\\dot{\\u03B8}_2=0\\u00B0$/s', '$\\dot{\\u03B8}_2=15\\u00B0$/s', '$\\dot{\\u03B8}_2=30\\u00B0$/s',\n",
    "          '$\\dot{\\u03B8}_2=45\\u00B0$/s', '$\\dot{\\u03B8}_2=60\\u00B0$/s', '$\\dot{\\u03B8}_2=75\\u00B0$/s',\n",
    "          '$\\dot{\\u03B8}_2=90\\u00B0$/s']\n",
    "colors = list(plt.cm.viridis(np.linspace(0.9, 0.1, 7)))\n",
    "colors[0] = 'black'\n",
    "\n",
    "'''Create lists of relevant data for each model'''\n",
    "aoas = [model.aoa for model in models]\n",
    "club_paths = [model.club_path for model in models]\n",
    "t_impacts = [model.t_impact for model in models]\n",
    "ss_impacts = [model.ss_impact for model in models]\n",
    "t_ss_maxes = [model.t_ss_max for model in models]\n",
    "ss_maxes = [model.ss_max for model in models]\n",
    "\n",
    "'''Create figures'''\n",
    "fig1, ax1 = plt.subplots(figsize = (9, 5))\n",
    "fig2, ax2 = plt.subplots(figsize = (9, 5))\n",
    "fig3, ax3 = plt.subplots(figsize = (9, 5))\n",
    "fig1.tight_layout(pad = 2)\n",
    "fig2.tight_layout(pad = 2)\n",
    "fig3.tight_layout(pad = 2)\n",
    "\n",
    "'''First figure --> Plot of SS during downswing'''\n",
    "ax1.set_xlabel('$t$ [s]')\n",
    "ax1.set_ylabel('Speed [m/s]')\n",
    "ax1.set_title('Swing Speed During the Downswing - Shaft Angular Velocity - 3D Constant Hub (L=0.00)')\n",
    "ax1.grid(True, linestyle = 'dashed', color = 'darkgray', alpha = 0.25)\n",
    "for index, model in enumerate(models):\n",
    "    linestyle = 'dashed' if index == 0 else 'solid'\n",
    "    ax1.plot(model.t_points, model.ss_points, linestyle = linestyle, color = colors[index], label = labels[index])\n",
    "    ax1.plot(t_impacts[index], ss_impacts[index], 'ko', markersize = 4, zorder = 10)\n",
    "ax1.plot([], [], 'ko', markersize = 4, label = 'Impact')\n",
    "legend1 = ax1.legend(loc = 'upper left', fancybox = False)\n",
    "frame1 = legend1.get_frame()\n",
    "frame1.set_facecolor('white')\n",
    "frame1.set_edgecolor('black')\n",
    "frame1.set_linewidth(1)\n",
    "fig1.savefig('c:/Users/Tucker Knaak/Downloads/3D_CHL00_ShaftAngularVelocityPlot1.png', bbox_inches = 'tight')\n",
    "\n",
    "'''Second figure --> Plot of SS vs Theta2dot'''\n",
    "ax2.set_xlabel('$\\dot{\\u03B8}_2$ [\\u00B0/$\\,$s]')\n",
    "ax2.set_ylabel('Speed [m/s]')\n",
    "ax2.set_title('Swing Speed for Varying Shaft Angular Velocities - 3D Constant Hub (L=0.00)')\n",
    "ax2.set_xticks(range(len(labels)))\n",
    "ax2.set_xticklabels(['0', '15', '30', '45', '60', '75', '90'])\n",
    "ax2.grid(True, linestyle = 'dashed', color = 'darkgray', alpha = 0.25)\n",
    "ax2.plot(range(len(ss_impacts)), ss_impacts, color = 'black', marker = 'o', markerfacecolor = 'white', label = 'Impact')\n",
    "ax2.plot(range(len(ss_maxes)), ss_maxes, color = 'red', marker = 's', markerfacecolor = 'white', label = 'Maximum')\n",
    "legend2 = ax2.legend(loc = 'upper left', fancybox = False)\n",
    "frame2 = legend2.get_frame()\n",
    "frame2.set_facecolor('white')\n",
    "frame2.set_edgecolor('black')\n",
    "frame2.set_linewidth(1)\n",
    "fig2.savefig('c:/Users/Tucker Knaak/Downloads/3D_CHL00_ShaftAngularVelocityPlot2.png', bbox_inches = 'tight')\n",
    "\n",
    "'''Third figure --> Table of relevant data'''\n",
    "ax3.axis('off')\n",
    "for index, model in enumerate(models):\n",
    "    model_color = colors[index] if index != 0 else 'white'\n",
    "    ss_impact_color = 'limegreen' if ss_impacts[index] == max(ss_impacts) else 'white'\n",
    "    ss_max_color = 'limegreen' if ss_maxes[index] == max(ss_maxes) else 'white'\n",
    "    row = [labels[index], f'{aoas[index]}\\u00B0', f'{club_paths[index]}\\u00B0',\n",
    "           '{ss:.2f} ({time}s)'.format(ss = ss_impacts[index], time = t_impacts[index]),\n",
    "           '{ss:.2f} ({time}s)'.format(ss = ss_maxes[index], time = t_ss_maxes[index])]\n",
    "    cell_color = [model_color, 'white', 'white', ss_impact_color, ss_max_color]\n",
    "    table.append(row)\n",
    "    cell_colors.append(cell_color)\n",
    "the_table = ax3.table(cellText = table, colLabels = columns, cellColours = cell_colors, loc = 'center', cellLoc = 'center')\n",
    "the_table.scale(1.25, 2.25)\n",
    "fig3.savefig('c:/Users/Tucker Knaak/Downloads/3D_CHL00_ShaftAngularVelocityTable.png', bbox_inches = 'tight')"
   ]
  },
  {
   "cell_type": "markdown",
   "id": "b90ab0be",
   "metadata": {},
   "source": [
    "#### This cell compares the swing speed and relevant data of each model with an accelerating hub."
   ]
  },
  {
   "cell_type": "code",
   "execution_count": null,
   "id": "101e1b4e",
   "metadata": {},
   "outputs": [],
   "source": [
    "'''Create table, columns, and colors'''\n",
    "table = []\n",
    "columns = ['Model', 'A.o.A', 'Club Path', 'SS - Impact [m/s]', 'SS - Max [m/s]']\n",
    "cell_colors = []\n",
    "\n",
    "'''Models and labels'''\n",
    "models = [AHL075_theta2dot00, AHL075_theta2dot15, AHL075_theta2dot30, AHL075_theta2dot45,\n",
    "          AHL075_theta2dot60, AHL075_theta2dot75, AHL075_theta2dot90]\n",
    "labels = ['$\\dot{\\u03B8}_2=0\\u00B0$/s', '$\\dot{\\u03B8}_2=15\\u00B0$/s', '$\\dot{\\u03B8}_2=30\\u00B0$/s',\n",
    "          '$\\dot{\\u03B8}_2=45\\u00B0$/s', '$\\dot{\\u03B8}_2=60\\u00B0$/s', '$\\dot{\\u03B8}_2=75\\u00B0$/s',\n",
    "          '$\\dot{\\u03B8}_2=90\\u00B0$/s']\n",
    "colors = list(plt.cm.viridis(np.linspace(0.9, 0.1, 7)))\n",
    "colors[0] = 'black'\n",
    "\n",
    "'''Create lists of relevant data for each model'''\n",
    "aoas = [model.aoa for model in models]\n",
    "club_paths = [model.club_path for model in models]\n",
    "t_impacts = [model.t_impact for model in models]\n",
    "ss_impacts = [model.ss_impact for model in models]\n",
    "t_ss_maxes = [model.t_ss_max for model in models]\n",
    "ss_maxes = [model.ss_max for model in models]\n",
    "\n",
    "'''Create figures'''\n",
    "fig1, ax1 = plt.subplots(figsize = (9, 5))\n",
    "fig2, ax2 = plt.subplots(figsize = (9, 5))\n",
    "fig3, ax3 = plt.subplots(figsize = (9, 5))\n",
    "fig1.tight_layout(pad = 2)\n",
    "fig2.tight_layout(pad = 2)\n",
    "fig3.tight_layout(pad = 2)\n",
    "\n",
    "'''First figure --> Plot of SS during downswing'''\n",
    "ax1.set_xlabel('$t$ [s]')\n",
    "ax1.set_ylabel('Speed [m/s]')\n",
    "ax1.set_title('Swing Speed During the Downswing - Shaft Angular Velocity - 3D Accelerating Hub (L=0.75)')\n",
    "ax1.grid(True, linestyle = 'dashed', color = 'darkgray', alpha = 0.25)\n",
    "for index, model in enumerate(models):\n",
    "    linestyle = 'dashed' if index == 0 else 'solid'\n",
    "    ax1.plot(model.t_points, model.ss_points, linestyle = linestyle, color = colors[index], label = labels[index])\n",
    "    ax1.plot(t_impacts[index], ss_impacts[index], 'ko', markersize = 4, zorder = 10)\n",
    "ax1.plot([], [], 'ko', markersize = 4, label = 'Impact')\n",
    "legend1 = ax1.legend(loc = 'upper left', fancybox = False)\n",
    "frame1 = legend1.get_frame()\n",
    "frame1.set_facecolor('white')\n",
    "frame1.set_edgecolor('black')\n",
    "frame1.set_linewidth(1)\n",
    "fig1.savefig('c:/Users/Tucker Knaak/Downloads/3D_AHL075_ShaftAngularVelocityPlot1.png', bbox_inches = 'tight')\n",
    "\n",
    "'''Second figure --> Plot of SS vs Theta2dot'''\n",
    "ax2.set_xlabel('$\\dot{\\u03B8}_2$ [\\u00B0/$\\,$s]')\n",
    "ax2.set_ylabel('Speed [m/s]')\n",
    "ax2.set_title('Swing Speed for Varying Shaft Angular Velocities - 3D Accelerating Hub (L=0.75)')\n",
    "ax2.set_xticks(range(len(labels)))\n",
    "ax2.set_xticklabels(['0', '15', '30', '45', '60', '75', '90'])\n",
    "ax2.grid(True, linestyle = 'dashed', color = 'darkgray', alpha = 0.25)\n",
    "ax2.plot(range(len(ss_impacts)), ss_impacts, color = 'black', marker = 'o', markerfacecolor = 'white', label = 'Impact')\n",
    "ax2.plot(range(len(ss_maxes)), ss_maxes, color = 'red', marker = 's', markerfacecolor = 'white', label = 'Maximum')\n",
    "legend2 = ax2.legend(loc = 'upper left', fancybox = False)\n",
    "frame2 = legend2.get_frame()\n",
    "frame2.set_facecolor('white')\n",
    "frame2.set_edgecolor('black')\n",
    "frame2.set_linewidth(1)\n",
    "fig2.savefig('c:/Users/Tucker Knaak/Downloads/3D_AHL075_ShaftAngularVelocityPlot2.png', bbox_inches = 'tight')\n",
    "\n",
    "'''Third figure --> Table of relevant data'''\n",
    "ax3.axis('off')\n",
    "for index, model in enumerate(models):\n",
    "    model_color = colors[index] if index != 0 else 'white'\n",
    "    ss_impact_color = 'limegreen' if ss_impacts[index] == max(ss_impacts) else 'white'\n",
    "    ss_max_color = 'limegreen' if ss_maxes[index] == max(ss_maxes) else 'white'\n",
    "    row = [labels[index], f'{aoas[index]}\\u00B0', f'{club_paths[index]}\\u00B0',\n",
    "           '{ss:.2f} ({time}s)'.format(ss = ss_impacts[index], time = t_impacts[index]),\n",
    "           '{ss:.2f} ({time}s)'.format(ss = ss_maxes[index], time = t_ss_maxes[index])]\n",
    "    cell_color = [model_color, 'white', 'white', ss_impact_color, ss_max_color]\n",
    "    table.append(row)\n",
    "    cell_colors.append(cell_color)\n",
    "the_table = ax3.table(cellText = table, colLabels = columns, cellColours = cell_colors, loc = 'center', cellLoc = 'center')\n",
    "the_table.scale(1.25, 2.25)\n",
    "fig3.savefig('c:/Users/Tucker Knaak/Downloads/3D_AHL075_ShaftAngularVelocityTable.png', bbox_inches = 'tight')"
   ]
  },
  {
   "cell_type": "code",
   "execution_count": null,
   "id": "cce4c0b7",
   "metadata": {},
   "outputs": [],
   "source": []
  }
 ],
 "metadata": {
  "kernelspec": {
   "display_name": "Python 3 (ipykernel)",
   "language": "python",
   "name": "python3"
  },
  "language_info": {
   "codemirror_mode": {
    "name": "ipython",
    "version": 3
   },
   "file_extension": ".py",
   "mimetype": "text/x-python",
   "name": "python",
   "nbconvert_exporter": "python",
   "pygments_lexer": "ipython3",
   "version": "3.11.3"
  }
 },
 "nbformat": 4,
 "nbformat_minor": 5
}
