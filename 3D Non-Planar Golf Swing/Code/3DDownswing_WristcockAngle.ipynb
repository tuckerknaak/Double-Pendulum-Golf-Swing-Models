{
 "cells": [
  {
   "cell_type": "markdown",
   "id": "839c863e",
   "metadata": {},
   "source": [
    "# 3D Non-Planar Double Pendulum Golf Swing - Wristcock Angle\n",
    "\n",
    "## Tucker Knaak - Department of Physics, Creighton University - 2022/2024\n",
    "\n",
    "#### The wristcock angle $\\phi_3$ is defined as the difference in the angle of the golf club $\\phi_2$ and the angle of golfer's arms $\\phi_1$ counterclockwise from the $y-$axis.  Elite long-drive competitors tend to have a much smaller wristcock angle compared to that of golfers with more conventional swings.\n",
    "\n",
    "#### This code is used to compare the swing speed of both constant hub ($L=0.0$) and accelerating hub ($L=0.75$) models for wristcock angles ranging between $\\phi_3=240^{\\circ}$ and $\\phi_3=300^{\\circ}$  in $10^{\\circ}$ intervals."
   ]
  },
  {
   "cell_type": "markdown",
   "id": "45c543d7",
   "metadata": {},
   "source": [
    "#### This cell runs the Jupyter notebook containing the Downswing3D class used to model the 3D Non-Planar Double Pendulum Golf Swing."
   ]
  },
  {
   "cell_type": "code",
   "execution_count": null,
   "id": "d26ace35",
   "metadata": {},
   "outputs": [],
   "source": [
    "%run 3DDownswing_YoshidaPC.ipynb"
   ]
  },
  {
   "cell_type": "markdown",
   "id": "b500b77f",
   "metadata": {},
   "source": [
    "#### This cell sets the parameters of the golfer and the initial conditions which are the same for each model tested."
   ]
  },
  {
   "cell_type": "code",
   "execution_count": null,
   "id": "15813e2e",
   "metadata": {},
   "outputs": [],
   "source": [
    "'''Parameters of the golfer'''\n",
    "r1 = 0.700   #length of the golfer's arms [m]\n",
    "m1 = 7.000   #mass of the golfer's arms [kg]\n",
    "r2 = 1.156   #length of the golf club [m]\n",
    "m2 = 0.310   #mass of the golf club [kg]\n",
    "tau_b = 225  #torque of the body [N * m]\n",
    "\n",
    "'''Initial conditions'''\n",
    "phi1_0 = np.radians(0)        #angle of the golfer's arms ccw from the y-axis in the xy-plane [rad]\n",
    "theta1_0 = np.radians(30)     #angle of the golfer's arms ccw from the y-axis in the yz-plane [rad]\n",
    "theta2_0 = np.radians(0)      #angle of the golf club ccw from the y-axis in the yz-plane [rad]\n",
    "theta2dot_0 = np.radians(90)  #angular velocity of the golf club ccw from the y-axis in the yz-plane [rad / s]"
   ]
  },
  {
   "cell_type": "markdown",
   "id": "29fbb33e",
   "metadata": {},
   "source": [
    "#### The following cells solve the equations of motion, plot the relevant data, and animate the golf swing for both a constant hub ($L=0.0$) and an accelerating hub ($L=0.75$) model with a wristcock angle of $\\phi_3=240^{\\circ}$."
   ]
  },
  {
   "cell_type": "code",
   "execution_count": null,
   "id": "205c9616",
   "metadata": {},
   "outputs": [],
   "source": [
    "'''Constant Hub'''\n",
    "CHL00_phi3240 = Downswing3D('3D_CHL00_phi3240')\n",
    "CHL00_phi3240.golfer(r1, m1, r2, m2)\n",
    "CHL00_phi3240.solve_odes('c', 0.0, tau_b, phi1_0, np.radians(240), theta1_0, theta2_0, theta2dot_0)\n",
    "CHL00_phi3240.print_data()\n",
    "CHL00_phi3240.plot_data('$L=0.0$, $\\u03C6_3=240\\u00B0$')"
   ]
  },
  {
   "cell_type": "code",
   "execution_count": null,
   "id": "c9b1f549",
   "metadata": {},
   "outputs": [],
   "source": [
    "CHL00_phi3240.animate_swing()\n",
    "CHL00_phi3240.still_shot()"
   ]
  },
  {
   "cell_type": "code",
   "execution_count": null,
   "id": "624893c2",
   "metadata": {},
   "outputs": [],
   "source": [
    "'''Accelerating Hub'''\n",
    "AHL075_phi3240 = Downswing3D('3D_AHL075_phi3240')\n",
    "AHL075_phi3240.golfer(r1, m1, r2, m2)\n",
    "AHL075_phi3240.solve_odes('a', 0.75, tau_b, phi1_0, np.radians(240), theta1_0, theta2_0, theta2dot_0)\n",
    "AHL075_phi3240.print_data()\n",
    "AHL075_phi3240.plot_data('$L=0.75$, $\\u03C6_3=240\\u00B0$')"
   ]
  },
  {
   "cell_type": "code",
   "execution_count": null,
   "id": "08b1f004",
   "metadata": {},
   "outputs": [],
   "source": [
    "AHL075_phi3240.animate_swing()\n",
    "AHL075_phi3240.still_shot()"
   ]
  },
  {
   "cell_type": "markdown",
   "id": "939b2255",
   "metadata": {},
   "source": [
    "#### The following cells solve the equations of motion, plot the relevant data, and animate the golf swing for both a constant hub ($L=0.0$) and an accelerating hub ($L=0.75$) model with a wristcock angle of $\\phi_3=250^{\\circ}$."
   ]
  },
  {
   "cell_type": "code",
   "execution_count": null,
   "id": "1d948ad1",
   "metadata": {},
   "outputs": [],
   "source": [
    "'''Constant Hub'''\n",
    "CHL00_phi3250 = Downswing3D('3D_CHL00_phi3250')\n",
    "CHL00_phi3250.golfer(r1, m1, r2, m2)\n",
    "CHL00_phi3250.solve_odes('c', 0.0, tau_b, phi1_0, np.radians(250), theta1_0, theta2_0, theta2dot_0)\n",
    "CHL00_phi3250.print_data()\n",
    "CHL00_phi3250.plot_data('$L=0.0$, $\\u03C6_3=250\\u00B0$')"
   ]
  },
  {
   "cell_type": "code",
   "execution_count": null,
   "id": "87b069cc",
   "metadata": {},
   "outputs": [],
   "source": [
    "CHL00_phi3250.animate_swing()\n",
    "CHL00_phi3250.still_shot()"
   ]
  },
  {
   "cell_type": "code",
   "execution_count": null,
   "id": "eadea9f6",
   "metadata": {},
   "outputs": [],
   "source": [
    "'''Accelerating Hub'''\n",
    "AHL075_phi3250 = Downswing3D('3D_AHL075_phi3250')\n",
    "AHL075_phi3250.golfer(r1, m1, r2, m2)\n",
    "AHL075_phi3250.solve_odes('a', 0.75, tau_b, phi1_0, np.radians(250), theta1_0, theta2_0, theta2dot_0)\n",
    "AHL075_phi3250.print_data()\n",
    "AHL075_phi3250.plot_data('$L=0.75$, $\\u03C6_3=250\\u00B0$')"
   ]
  },
  {
   "cell_type": "code",
   "execution_count": null,
   "id": "76ee239d",
   "metadata": {},
   "outputs": [],
   "source": [
    "AHL075_phi3250.animate_swing()\n",
    "AHL075_phi3250.still_shot()"
   ]
  },
  {
   "cell_type": "markdown",
   "id": "c631b1c1",
   "metadata": {},
   "source": [
    "#### The following cells solve the equations of motion, plot the relevant data, and animate the golf swing for both a constant hub ($L=0.0$) and an accelerating hub ($L=0.75$) model with a wristcock angle of $\\phi_3=260^{\\circ}$."
   ]
  },
  {
   "cell_type": "code",
   "execution_count": null,
   "id": "4ed3f34d",
   "metadata": {},
   "outputs": [],
   "source": [
    "'''Constant Hub'''\n",
    "CHL00_phi3260 = Downswing3D('3D_CHL00_phi3260')\n",
    "CHL00_phi3260.golfer(r1, m1, r2, m2)\n",
    "CHL00_phi3260.solve_odes('c', 0.0, tau_b, phi1_0, np.radians(260), theta1_0, theta2_0, theta2dot_0)\n",
    "CHL00_phi3260.print_data()\n",
    "CHL00_phi3260.plot_data('$L=0.0$, $\\u03C6_3=260\\u00B0$')"
   ]
  },
  {
   "cell_type": "code",
   "execution_count": null,
   "id": "9c1fcf7c",
   "metadata": {},
   "outputs": [],
   "source": [
    "CHL00_phi3260.animate_swing()\n",
    "CHL00_phi3260.still_shot()"
   ]
  },
  {
   "cell_type": "code",
   "execution_count": null,
   "id": "6dfcdb16",
   "metadata": {},
   "outputs": [],
   "source": [
    "'''Accelerating Hub'''\n",
    "AHL075_phi3260 = Downswing3D('3D_AHL075_phi3260')\n",
    "AHL075_phi3260.golfer(r1, m1, r2, m2)\n",
    "AHL075_phi3260.solve_odes('a', 0.75, tau_b, phi1_0, np.radians(260), theta1_0, theta2_0, theta2dot_0)\n",
    "AHL075_phi3260.print_data()\n",
    "AHL075_phi3260.plot_data('$L=0.75$, $\\u03C6_3=260\\u00B0$')"
   ]
  },
  {
   "cell_type": "code",
   "execution_count": null,
   "id": "9a99b2fe",
   "metadata": {},
   "outputs": [],
   "source": [
    "AHL075_phi3260.animate_swing()\n",
    "AHL075_phi3260.still_shot()"
   ]
  },
  {
   "cell_type": "markdown",
   "id": "fa4eab2f",
   "metadata": {},
   "source": [
    "#### The following cells solve the equations of motion, plot the relevant data, and animate the golf swing for both a constant hub ($L=0.0$) and an accelerating hub ($L=0.75$) model with a wristcock angle of $\\phi_3=270^{\\circ}$."
   ]
  },
  {
   "cell_type": "code",
   "execution_count": null,
   "id": "b05f4fd5",
   "metadata": {},
   "outputs": [],
   "source": [
    "'''Constant Hub'''\n",
    "CHL00_phi3270 = Downswing3D('3D_CHL00_phi3270')\n",
    "CHL00_phi3270.golfer(r1, m1, r2, m2)\n",
    "CHL00_phi3270.solve_odes('c', 0.0, tau_b, phi1_0, np.radians(270), theta1_0, theta2_0, theta2dot_0)\n",
    "CHL00_phi3270.print_data()\n",
    "CHL00_phi3270.plot_data('$L=0.0$, $\\u03C6_3=270\\u00B0$')"
   ]
  },
  {
   "cell_type": "code",
   "execution_count": null,
   "id": "b77a25bf",
   "metadata": {},
   "outputs": [],
   "source": [
    "CHL00_phi3270.animate_swing()\n",
    "CHL00_phi3270.still_shot()"
   ]
  },
  {
   "cell_type": "code",
   "execution_count": null,
   "id": "4d0199fa",
   "metadata": {},
   "outputs": [],
   "source": [
    "'''Accelerating Hub'''\n",
    "AHL075_phi3270 = Downswing3D('3D_AHL075_phi3270')\n",
    "AHL075_phi3270.golfer(r1, m1, r2, m2)\n",
    "AHL075_phi3270.solve_odes('a', 0.75, tau_b, phi1_0, np.radians(270), theta1_0, theta2_0, theta2dot_0)\n",
    "AHL075_phi3270.print_data()\n",
    "AHL075_phi3270.plot_data('$L=0.75$, $\\u03C6_3=270\\u00B0$')"
   ]
  },
  {
   "cell_type": "code",
   "execution_count": null,
   "id": "129bc3d1",
   "metadata": {},
   "outputs": [],
   "source": [
    "AHL075_phi3270.animate_swing()\n",
    "AHL075_phi3270.still_shot()"
   ]
  },
  {
   "cell_type": "markdown",
   "id": "9088e079",
   "metadata": {},
   "source": [
    "#### The following cells solve the equations of motion, plot the relevant data, and animate the golf swing for both a constant hub ($L=0.0$) and an accelerating hub ($L=0.75$) model with a wristcock angle of $\\phi_3=280^{\\circ}$."
   ]
  },
  {
   "cell_type": "code",
   "execution_count": null,
   "id": "450a704c",
   "metadata": {},
   "outputs": [],
   "source": [
    "'''Constant Hub'''\n",
    "CHL00_phi3280 = Downswing3D('3D_CHL00_phi3280')\n",
    "CHL00_phi3280.golfer(r1, m1, r2, m2)\n",
    "CHL00_phi3280.solve_odes('c', 0.0, tau_b, phi1_0, np.radians(280), theta1_0, theta2_0, theta2dot_0)\n",
    "CHL00_phi3280.print_data()\n",
    "CHL00_phi3280.plot_data('$L=0.0$, $\\u03C6_3=280\\u00B0$')"
   ]
  },
  {
   "cell_type": "code",
   "execution_count": null,
   "id": "6dd75e28",
   "metadata": {},
   "outputs": [],
   "source": [
    "CHL00_phi3280.animate_swing()\n",
    "CHL00_phi3280.still_shot()"
   ]
  },
  {
   "cell_type": "code",
   "execution_count": null,
   "id": "b826a392",
   "metadata": {},
   "outputs": [],
   "source": [
    "'''Accelerating Hub'''\n",
    "AHL075_phi3280 = Downswing3D('3D_AHL075_phi3280')\n",
    "AHL075_phi3280.golfer(r1, m1, r2, m2)\n",
    "AHL075_phi3280.solve_odes('a', 0.75, tau_b, phi1_0, np.radians(280), theta1_0, theta2_0, theta2dot_0)\n",
    "AHL075_phi3280.print_data()\n",
    "AHL075_phi3280.plot_data('$L=0.75$, $\\u03C6_3=280\\u00B0$')"
   ]
  },
  {
   "cell_type": "code",
   "execution_count": null,
   "id": "cbac96ac",
   "metadata": {},
   "outputs": [],
   "source": [
    "AHL075_phi3280.animate_swing()\n",
    "AHL075_phi3280.still_shot()"
   ]
  },
  {
   "cell_type": "markdown",
   "id": "03a2a089",
   "metadata": {},
   "source": [
    "#### The following cells solve the equations of motion, plot the relevant data, and animate the golf swing for both a constant hub ($L=0.0$) and an accelerating hub ($L=0.75$) model with a wristcock angle of $\\phi_3=290^{\\circ}$."
   ]
  },
  {
   "cell_type": "code",
   "execution_count": null,
   "id": "8ffddac3",
   "metadata": {},
   "outputs": [],
   "source": [
    "'''Constant Hub'''\n",
    "CHL00_phi3290 = Downswing3D('3D_CHL00_phi3290')\n",
    "CHL00_phi3290.golfer(r1, m1, r2, m2)\n",
    "CHL00_phi3290.solve_odes('c', 0.0, tau_b, phi1_0, np.radians(290), theta1_0, theta2_0, theta2dot_0)\n",
    "CHL00_phi3290.print_data()\n",
    "CHL00_phi3290.plot_data('$L=0.0$, $\\u03C6_3=290\\u00B0$')"
   ]
  },
  {
   "cell_type": "code",
   "execution_count": null,
   "id": "d0060f24",
   "metadata": {},
   "outputs": [],
   "source": [
    "CHL00_phi3290.animate_swing()\n",
    "CHL00_phi3290.still_shot()"
   ]
  },
  {
   "cell_type": "code",
   "execution_count": null,
   "id": "d410bcd8",
   "metadata": {},
   "outputs": [],
   "source": [
    "'''Accelerating Hub'''\n",
    "AHL075_phi3290 = Downswing3D('3D_AHL075_phi3290')\n",
    "AHL075_phi3290.golfer(r1, m1, r2, m2)\n",
    "AHL075_phi3290.solve_odes('a', 0.75, tau_b, phi1_0, np.radians(290), theta1_0, theta2_0, theta2dot_0)\n",
    "AHL075_phi3290.print_data()\n",
    "AHL075_phi3290.plot_data('$L=0.75$, $\\u03C6_3=290\\u00B0$')"
   ]
  },
  {
   "cell_type": "code",
   "execution_count": null,
   "id": "e4bba674",
   "metadata": {},
   "outputs": [],
   "source": [
    "AHL075_phi3290.animate_swing()\n",
    "AHL075_phi3290.still_shot()"
   ]
  },
  {
   "cell_type": "markdown",
   "id": "7067be37",
   "metadata": {},
   "source": [
    "#### The following cells solve the equations of motion, plot the relevant data, and animate the golf swing for both a constant hub ($L=0.0$) and an accelerating hub ($L=0.75$) model with a wristcock angle of $\\phi_3=300^{\\circ}$."
   ]
  },
  {
   "cell_type": "code",
   "execution_count": null,
   "id": "00fb79fc",
   "metadata": {},
   "outputs": [],
   "source": [
    "'''Constant Hub'''\n",
    "CHL00_phi3300 = Downswing3D('3D_CHL00_phi3300')\n",
    "CHL00_phi3300.golfer(r1, m1, r2, m2)\n",
    "CHL00_phi3300.solve_odes('c', 0.0, tau_b, phi1_0, np.radians(300), theta1_0, theta2_0, theta2dot_0)\n",
    "CHL00_phi3300.print_data()\n",
    "CHL00_phi3300.plot_data('$L=0.0$, $\\u03C6_3=300\\u00B0$')"
   ]
  },
  {
   "cell_type": "code",
   "execution_count": null,
   "id": "d7c57e3b",
   "metadata": {},
   "outputs": [],
   "source": [
    "CHL00_phi3300.animate_swing()\n",
    "CHL00_phi3300.still_shot()"
   ]
  },
  {
   "cell_type": "code",
   "execution_count": null,
   "id": "74d8c48a",
   "metadata": {},
   "outputs": [],
   "source": [
    "'''Accelerating Hub'''\n",
    "AHL075_phi3300 = Downswing3D('3D_AHL075_phi3300')\n",
    "AHL075_phi3300.golfer(r1, m1, r2, m2)\n",
    "AHL075_phi3300.solve_odes('a', 0.75, tau_b, phi1_0, np.radians(300), theta1_0, theta2_0, theta2dot_0)\n",
    "AHL075_phi3300.print_data()\n",
    "AHL075_phi3300.plot_data('$L=0.75$, $\\u03C6_3=300\\u00B0$')"
   ]
  },
  {
   "cell_type": "code",
   "execution_count": null,
   "id": "5f229a71",
   "metadata": {},
   "outputs": [],
   "source": [
    "AHL075_phi3300.animate_swing()\n",
    "AHL075_phi3300.still_shot()"
   ]
  },
  {
   "cell_type": "markdown",
   "id": "a938f6f5",
   "metadata": {},
   "source": [
    "#### This cell compares the swing speed and relevant data of each model with a constant hub."
   ]
  },
  {
   "cell_type": "code",
   "execution_count": null,
   "id": "b1803ca9",
   "metadata": {},
   "outputs": [],
   "source": [
    "'''Create table, columns, and colors'''\n",
    "table = []\n",
    "columns = ['Model', 'A.o.A', 'Club Path', 'SS - Impact [m/s]', 'SS - Max [m/s]']\n",
    "cell_colors = []\n",
    "\n",
    "'''Models and labels'''\n",
    "models = [CHL00_phi3240, CHL00_phi3250, CHL00_phi3260, CHL00_phi3270, CHL00_phi3280, CHL00_phi3290, CHL00_phi3300]\n",
    "labels = ['$\\u03C6_3=240\\u00B0$', '$\\u03C6_3=250\\u00B0$', '$\\u03C6_3=260\\u00B0$', '$\\u03C6_3=270\\u00B0$',\n",
    "          '$\\u03C6_3=280\\u00B0$', '$\\u03C6_3=290\\u00B0$', '$\\u03C6_3=300\\u00B0$']\n",
    "colors = list(plt.cm.viridis(np.linspace(0.9, 0.1, 7)))\n",
    "colors[3] = 'black'\n",
    "\n",
    "'''Create lists of relevant data for each model'''\n",
    "aoas = [model.aoa for model in models]\n",
    "club_paths = [model.club_path for model in models]\n",
    "t_impacts = [model.t_impact for model in models]\n",
    "ss_impacts = [model.ss_impact for model in models]\n",
    "t_ss_maxes = [model.t_ss_max for model in models]\n",
    "ss_maxes = [model.ss_max for model in models]\n",
    "\n",
    "'''Create figures'''\n",
    "fig1, ax1 = plt.subplots(figsize = (9, 5))\n",
    "fig2, ax2 = plt.subplots(figsize = (9, 5))\n",
    "fig3, ax3 = plt.subplots(figsize = (9, 5))\n",
    "fig1.tight_layout(pad = 2)\n",
    "fig2.tight_layout(pad = 2)\n",
    "fig3.tight_layout(pad = 2)\n",
    "\n",
    "'''First figure --> Plot of SS during downswing'''\n",
    "ax1.set_xlabel('$t$ [s]')\n",
    "ax1.set_ylabel('Speed [m/s]')\n",
    "ax1.set_title('Swing Speed During the Downswing - Wristcock Angle - 3D Constant Hub (L=0.00)')\n",
    "ax1.grid(True, linestyle = 'dashed', color = 'darkgray', alpha = 0.25)\n",
    "for index, model in enumerate(models):\n",
    "    linestyle = 'dashed' if index == 3 else 'solid'\n",
    "    ax1.plot(model.t_points, model.ss_points, linestyle = linestyle, color = colors[index], label = labels[index])\n",
    "    ax1.plot(t_impacts[index], ss_impacts[index], 'ko', markersize = 4, zorder = 10)\n",
    "ax1.plot([], [], 'ko', markersize = 4, label = 'Impact')\n",
    "legend = ax1.legend(loc = 'upper left', fancybox = False)\n",
    "frame = legend.get_frame()\n",
    "frame.set_facecolor('white')\n",
    "frame.set_edgecolor('black')\n",
    "frame.set_linewidth(1)\n",
    "fig1.savefig('c:/Users/Tucker Knaak/Downloads/3D_CHL00_WristcockAnglePlot1.png', bbox_inches = 'tight')\n",
    "\n",
    "'''Second figure --> Plot of SS vs phi_3'''\n",
    "ax2.set_xlabel('$\\u03C6_3$ [\\u00B0]')\n",
    "ax2.set_ylabel('Speed [m/s]')\n",
    "ax2.set_title('Swing Speed for Varying Wristcock Angles - 3D Constant Hub (L=0.00)')\n",
    "ax2.set_xticks(range(len(labels)))\n",
    "ax2.set_xticklabels(['240', '250', '260', '270', '280', '290', '300'])\n",
    "ax2.grid(True, linestyle = 'dashed', color = 'darkgray', alpha = 0.25)\n",
    "ax2.plot(range(len(ss_impacts)), ss_impacts, color = 'black', marker = 'o', markerfacecolor = 'white', label = 'Impact')\n",
    "ax2.plot(range(len(ss_maxes)), ss_maxes, color = 'red', marker = 's', markerfacecolor = 'white', label = 'Maximum')\n",
    "legend2 = ax2.legend(loc = 'upper right', fancybox = False)\n",
    "frame2 = legend2.get_frame()\n",
    "frame2.set_facecolor('white')\n",
    "frame2.set_edgecolor('black')\n",
    "frame2.set_linewidth(1)\n",
    "fig2.savefig('c:/Users/Tucker Knaak/Downloads/3D_CHL00_WristcockAnglePlot2.png', bbox_inches = 'tight')\n",
    "\n",
    "'''Third figure --> Table of relevant data'''\n",
    "ax3.axis('off')\n",
    "for index, model in enumerate(models):\n",
    "    model_color = colors[index] if index != 3 else 'white'\n",
    "    ss_impact_color = 'limegreen' if ss_impacts[index] == max(ss_impacts) else 'white'\n",
    "    ss_max_color = 'limegreen' if ss_maxes[index] == max(ss_maxes) else 'white'\n",
    "    row = [labels[index], f'{aoas[index]}\\u00B0', f'{club_paths[index]}\\u00B0',\n",
    "           '{ss:.2f} ({time}s)'.format(ss = ss_impacts[index], time = t_impacts[index]),\n",
    "           '{ss:.2f} ({time}s)'.format(ss = ss_maxes[index], time = t_ss_maxes[index])]\n",
    "    cell_color = [model_color, 'white', 'white', ss_impact_color, ss_max_color]\n",
    "    table.append(row)\n",
    "    cell_colors.append(cell_color)\n",
    "the_table = ax3.table(cellText = table, colLabels = columns, cellColours = cell_colors, loc = 'center', cellLoc = 'center')\n",
    "the_table.scale(1.25, 2.25)\n",
    "fig3.savefig('c:/Users/Tucker Knaak/Downloads/3D_CHL00_WristcockAngleTable.png', bbox_inches = 'tight')"
   ]
  },
  {
   "cell_type": "markdown",
   "id": "c0cc49e4",
   "metadata": {},
   "source": [
    "#### This cell compares the swing speed and relevant data of each model with an accelerating hub."
   ]
  },
  {
   "cell_type": "code",
   "execution_count": null,
   "id": "a3177291",
   "metadata": {},
   "outputs": [],
   "source": [
    "'''Create table, columns, and colors'''\n",
    "table = []\n",
    "columns = ['Model', 'A.o.A', 'Club Path', 'SS - Impact [m/s]', 'SS - Max [m/s]']\n",
    "cell_colors = []\n",
    "\n",
    "'''Models and labels'''\n",
    "models = [AHL075_phi3240, AHL075_phi3250, AHL075_phi3260, AHL075_phi3270, AHL075_phi3280, AHL075_phi3290, AHL075_phi3300]\n",
    "labels = ['$\\u03C6_3=240\\u00B0$', '$\\u03C6_3=250\\u00B0$', '$\\u03C6_3=260\\u00B0$', '$\\u03C6_3=270\\u00B0$',\n",
    "          '$\\u03C6_3=280\\u00B0$', '$\\u03C6_3=290\\u00B0$', '$\\u03C6_3=300\\u00B0$']\n",
    "colors = list(plt.cm.viridis(np.linspace(0.9, 0.1, 7)))\n",
    "colors[3] = 'black'\n",
    "\n",
    "'''Create lists of relevant data for each model'''\n",
    "aoas = [model.aoa for model in models]\n",
    "club_paths = [model.club_path for model in models]\n",
    "t_impacts = [model.t_impact for model in models]\n",
    "ss_impacts = [model.ss_impact for model in models]\n",
    "t_ss_maxes = [model.t_ss_max for model in models]\n",
    "ss_maxes = [model.ss_max for model in models]\n",
    "\n",
    "'''Create figures'''\n",
    "fig1, ax1 = plt.subplots(figsize = (9, 5))\n",
    "fig2, ax2 = plt.subplots(figsize = (9, 5))\n",
    "fig3, ax3 = plt.subplots(figsize = (9, 5))\n",
    "fig1.tight_layout(pad = 2)\n",
    "fig2.tight_layout(pad = 2)\n",
    "fig3.tight_layout(pad = 2)\n",
    "\n",
    "'''First figure --> Plot of SS during downswing'''\n",
    "ax1.set_xlabel('$t$ [s]')\n",
    "ax1.set_ylabel('Speed [m/s]')\n",
    "ax1.set_title('Swing Speed During the Downswing - Wristcock Angle - 3D accelerating Hub (L=0.75)')\n",
    "ax1.grid(True, linestyle = 'dashed', color = 'darkgray', alpha = 0.25)\n",
    "for index, model in enumerate(models):\n",
    "    linestyle = 'dashed' if index == 3 else 'solid'\n",
    "    ax1.plot(model.t_points, model.ss_points, linestyle = linestyle, color = colors[index], label = labels[index])\n",
    "    ax1.plot(t_impacts[index], ss_impacts[index], 'ko', markersize = 4, zorder = 10)\n",
    "ax1.plot([], [], 'ko', markersize = 4, label = 'Impact')\n",
    "legend = ax1.legend(loc = 'upper left', fancybox = False)\n",
    "frame = legend.get_frame()\n",
    "frame.set_facecolor('white')\n",
    "frame.set_edgecolor('black')\n",
    "frame.set_linewidth(1)\n",
    "fig1.savefig('c:/Users/Tucker Knaak/Downloads/3D_AHL075_WristcockAnglePlot1.png', bbox_inches = 'tight')\n",
    "\n",
    "'''Second figure --> Plot of SS vs phi_3'''\n",
    "ax2.set_xlabel('$\\u03C6_3$ [\\u00B0]')\n",
    "ax2.set_ylabel('Speed [m/s]')\n",
    "ax2.set_title('Swing Speed for Varying Wristcock Angles - 3D accelerating Hub (L=0.75)')\n",
    "ax2.set_xticks(range(len(labels)))\n",
    "ax2.set_xticklabels(['240', '250', '260', '270', '280', '290', '300'])\n",
    "ax2.grid(True, linestyle = 'dashed', color = 'darkgray', alpha = 0.25)\n",
    "ax2.plot(range(len(ss_impacts)), ss_impacts, color = 'black', marker = 'o', markerfacecolor = 'white', label = 'Impact')\n",
    "ax2.plot(range(len(ss_maxes)), ss_maxes, color = 'red', marker = 's', markerfacecolor = 'white', label = 'Maximum')\n",
    "legend2 = ax2.legend(loc = 'upper right', fancybox = False)\n",
    "frame2 = legend2.get_frame()\n",
    "frame2.set_facecolor('white')\n",
    "frame2.set_edgecolor('black')\n",
    "frame2.set_linewidth(1)\n",
    "fig2.savefig('c:/Users/Tucker Knaak/Downloads/3D_AHL075_WristcockAnglePlot2.png', bbox_inches = 'tight')\n",
    "\n",
    "'''Third figure --> Table of relevant data'''\n",
    "ax3.axis('off')\n",
    "for index, model in enumerate(models):\n",
    "    model_color = colors[index] if index != 3 else 'white'\n",
    "    ss_impact_color = 'limegreen' if ss_impacts[index] == max(ss_impacts) else 'white'\n",
    "    ss_max_color = 'limegreen' if ss_maxes[index] == max(ss_maxes) else 'white'\n",
    "    row = [labels[index], f'{aoas[index]}\\u00B0', f'{club_paths[index]}\\u00B0',\n",
    "           '{ss:.2f} ({time}s)'.format(ss = ss_impacts[index], time = t_impacts[index]),\n",
    "           '{ss:.2f} ({time}s)'.format(ss = ss_maxes[index], time = t_ss_maxes[index])]\n",
    "    cell_color = [model_color, 'white', 'white', ss_impact_color, ss_max_color]\n",
    "    table.append(row)\n",
    "    cell_colors.append(cell_color)\n",
    "the_table = ax3.table(cellText = table, colLabels = columns, cellColours = cell_colors, loc = 'center', cellLoc = 'center')\n",
    "the_table.scale(1.25, 2.25)\n",
    "fig3.savefig('c:/Users/Tucker Knaak/Downloads/3D_AHL075_WristcockAngleTable.png', bbox_inches = 'tight')"
   ]
  },
  {
   "cell_type": "code",
   "execution_count": null,
   "id": "8d243baf",
   "metadata": {},
   "outputs": [],
   "source": []
  }
 ],
 "metadata": {
  "kernelspec": {
   "display_name": "Python 3 (ipykernel)",
   "language": "python",
   "name": "python3"
  },
  "language_info": {
   "codemirror_mode": {
    "name": "ipython",
    "version": 3
   },
   "file_extension": ".py",
   "mimetype": "text/x-python",
   "name": "python",
   "nbconvert_exporter": "python",
   "pygments_lexer": "ipython3",
   "version": "3.11.3"
  }
 },
 "nbformat": 4,
 "nbformat_minor": 5
}
