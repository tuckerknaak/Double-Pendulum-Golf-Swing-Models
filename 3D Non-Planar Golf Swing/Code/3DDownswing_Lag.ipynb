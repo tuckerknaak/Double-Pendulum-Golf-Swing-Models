{
 "cells": [
  {
   "cell_type": "markdown",
   "id": "e7351f41",
   "metadata": {},
   "source": [
    "# 3D Non-Planar Double Pendulum Golf Swing - Lag\n",
    "\n",
    "## Tucker Knaak - Department of Physics, Creighton University - 2022/2024\n",
    "\n",
    "#### In Phase 1, the golfer's wristcock angle is constant.  Elite golfers tend to hold this initial wristcock angle constant for a longer period of time during the golf swing, and this is commonly referred to as creating \"lag\".  The lag parameter $L$ controls the critical arm angle $\\phi_{1_{\\text{crit}}}$ required for the golfer to enter Phase 2.\n",
    "\n",
    "#### This code is used to compare the swing speed of both constant hub and accelerating hub models for lag parameters ranging between $L=0.0$ and $L=1.5$ in $0.25$ intervals."
   ]
  },
  {
   "cell_type": "markdown",
   "id": "ddb92f4f",
   "metadata": {},
   "source": [
    "#### This cell runs the Jupyter notebook containing the Downswing3D class used to model the 3D Non-Planar Double Pendulum Golf Swing."
   ]
  },
  {
   "cell_type": "code",
   "execution_count": null,
   "id": "040374f6",
   "metadata": {},
   "outputs": [],
   "source": [
    "%run 3DDownswing_YoshidaPC.ipynb"
   ]
  },
  {
   "cell_type": "markdown",
   "id": "4ad01cbc",
   "metadata": {},
   "source": [
    "#### This cell sets the parameters of the golfer and the initial conditions which are the same for each model tested."
   ]
  },
  {
   "cell_type": "code",
   "execution_count": null,
   "id": "247b0cd4",
   "metadata": {},
   "outputs": [],
   "source": [
    "'''Parameters of the golfer'''\n",
    "r1 = 0.700   #length of the golfer's arms [m]\n",
    "m1 = 7.000   #mass of the golfer's arms [kg]\n",
    "r2 = 1.156   #length of the golf club [m]\n",
    "m2 = 0.310   #mass of the golf club [kg]\n",
    "tau_b = 225  #torque of the body [N * m]\n",
    "\n",
    "'''Initial conditions'''\n",
    "phi1_0 = np.radians(0)       #angle of the golfer's arms ccw from the y-axis in the xy-plane [rad]\n",
    "phi2_0 = np.radians(270)     #angle of the golf club ccw from the y-axis in the xy-plane [rad]\n",
    "theta1_0 = np.radians(0)     #angle of the golfer's arms ccw from the y-axis in the yz-plane [rad]\n",
    "theta2_0 = np.radians(0)     #angle of the golf club ccw from the y-axis in the yz-plane [rad]\n",
    "theta2dot_0 = np.radians(0)  #angular velocity of the golf club ccw from the y-axis in the yz-plane [rad / s]"
   ]
  },
  {
   "cell_type": "markdown",
   "id": "7388e772",
   "metadata": {},
   "source": [
    "#### The following cells solve the equations of motion, plot the relevant data, and animate the golf swing for both a constant hub and an accelerating hub model with a lag parameter of $L=0.0$."
   ]
  },
  {
   "cell_type": "code",
   "execution_count": null,
   "id": "d335f131",
   "metadata": {},
   "outputs": [],
   "source": [
    "'''Constant Hub'''\n",
    "CHL000 = Downswing3D('3D_CHL000')\n",
    "CHL000.golfer(r1, m1, r2, m2)\n",
    "CHL000.solve_odes('c', 0.0, tau_b, phi1_0, phi2_0, theta1_0, theta2_0, theta2dot_0)\n",
    "CHL000.print_data()\n",
    "CHL000.plot_data('L = 0.0')"
   ]
  },
  {
   "cell_type": "code",
   "execution_count": null,
   "id": "0023a1dd",
   "metadata": {},
   "outputs": [],
   "source": [
    "#CHL000.animate_swing()\n",
    "CHL000.still_shot()"
   ]
  },
  {
   "cell_type": "code",
   "execution_count": null,
   "id": "0cecd92a",
   "metadata": {},
   "outputs": [],
   "source": [
    "'''Accelerating Hub'''\n",
    "AHL000 = Downswing3D('3D_AHL000')\n",
    "AHL000.golfer(r1, m1, r2, m2)\n",
    "AHL000.solve_odes('a', 0.0, tau_b, phi1_0, phi2_0, theta1_0, theta2_0, theta2dot_0)\n",
    "AHL000.print_data()\n",
    "AHL000.plot_data('L = 0.0')"
   ]
  },
  {
   "cell_type": "code",
   "execution_count": null,
   "id": "08cf47da",
   "metadata": {},
   "outputs": [],
   "source": [
    "AHL000.animate_swing()\n",
    "AHL000.still_shot()"
   ]
  },
  {
   "cell_type": "markdown",
   "id": "94424ab7",
   "metadata": {},
   "source": [
    "#### The following cells solve the equations of motion, plot the relevant data, and animate the golf swing for both a constant hub and an accelerating hub model with a lag parameter of $L=0.25$."
   ]
  },
  {
   "cell_type": "code",
   "execution_count": null,
   "id": "908bab34",
   "metadata": {},
   "outputs": [],
   "source": [
    "'''Constant Hub'''\n",
    "CHL025 = Downswing3D('3D_CHL025')\n",
    "CHL025.golfer(r1, m1, r2, m2)\n",
    "CHL025.solve_odes('c', 0.25, tau_b, phi1_0, phi2_0, theta1_0, theta2_0, theta2dot_0)\n",
    "CHL025.print_data()\n",
    "CHL025.plot_data('L = 0.25')"
   ]
  },
  {
   "cell_type": "code",
   "execution_count": null,
   "id": "f029987c",
   "metadata": {},
   "outputs": [],
   "source": [
    "CHL025.animate_swing()\n",
    "CHL025.still_shot()"
   ]
  },
  {
   "cell_type": "code",
   "execution_count": null,
   "id": "5f77b393",
   "metadata": {},
   "outputs": [],
   "source": [
    "'''Accelerating Hub'''\n",
    "AHL025 = Downswing3D('3D_AHL025')\n",
    "AHL025.golfer(r1, m1, r2, m2)\n",
    "AHL025.solve_odes('a', 0.25, tau_b, phi1_0, phi2_0, theta1_0, theta2_0, theta2dot_0)\n",
    "AHL025.print_data()\n",
    "AHL025.plot_data('L = 0.25')"
   ]
  },
  {
   "cell_type": "code",
   "execution_count": null,
   "id": "5b93023e",
   "metadata": {},
   "outputs": [],
   "source": [
    "AHL025.animate_swing()\n",
    "AHL025.still_shot()"
   ]
  },
  {
   "cell_type": "markdown",
   "id": "88399347",
   "metadata": {},
   "source": [
    "#### The following cells solve the equations of motion, plot the relevant data, and animate the golf swing for both a constant hub and an accelerating hub model with a lag parameter of $L=0.5$."
   ]
  },
  {
   "cell_type": "code",
   "execution_count": null,
   "id": "8f8c028a",
   "metadata": {},
   "outputs": [],
   "source": [
    "'''Constant Hub'''\n",
    "CHL050 = Downswing3D('3D_CHL050')\n",
    "CHL050.golfer(r1, m1, r2, m2)\n",
    "CHL050.solve_odes('c', 0.5, tau_b, phi1_0, phi2_0, theta1_0, theta2_0, theta2dot_0)\n",
    "CHL050.print_data()\n",
    "CHL050.plot_data('L = 0.5')"
   ]
  },
  {
   "cell_type": "code",
   "execution_count": null,
   "id": "bf50ddeb",
   "metadata": {},
   "outputs": [],
   "source": [
    "CHL050.animate_swing()\n",
    "CHL050.still_shot()"
   ]
  },
  {
   "cell_type": "code",
   "execution_count": null,
   "id": "e7b9b437",
   "metadata": {},
   "outputs": [],
   "source": [
    "'''Accelerating Hub'''\n",
    "AHL050 = Downswing3D('3D_AHL050')\n",
    "AHL050.golfer(r1, m1, r2, m2)\n",
    "AHL050.solve_odes('a', 0.5, tau_b, phi1_0, phi2_0, theta1_0, theta2_0, theta2dot_0)\n",
    "AHL050.print_data()\n",
    "AHL050.plot_data('L = 0.5')"
   ]
  },
  {
   "cell_type": "code",
   "execution_count": null,
   "id": "f6d7a5f6",
   "metadata": {},
   "outputs": [],
   "source": [
    "AHL050.animate_swing()\n",
    "AHL050.still_shot()"
   ]
  },
  {
   "cell_type": "markdown",
   "id": "51851c28",
   "metadata": {},
   "source": [
    "#### The following cells solve the equations of motion, plot the relevant data, and animate the golf swing for both a constant hub and an accelerating hub model with a lag parameter of $L=0.75$."
   ]
  },
  {
   "cell_type": "code",
   "execution_count": null,
   "id": "81007e4c",
   "metadata": {},
   "outputs": [],
   "source": [
    "'''Constant Hub'''\n",
    "CHL075 = Downswing3D('3D_CHL075')\n",
    "CHL075.golfer(r1, m1, r2, m2)\n",
    "CHL075.solve_odes('c', 0.75, tau_b, phi1_0, phi2_0, theta1_0, theta2_0, theta2dot_0)\n",
    "CHL075.print_data()\n",
    "CHL075.plot_data('L = 0.75')"
   ]
  },
  {
   "cell_type": "code",
   "execution_count": null,
   "id": "cdff39fc",
   "metadata": {},
   "outputs": [],
   "source": [
    "CHL075.animate_swing()\n",
    "CHL075.still_shot()"
   ]
  },
  {
   "cell_type": "code",
   "execution_count": null,
   "id": "af0314b1",
   "metadata": {},
   "outputs": [],
   "source": [
    "'''Accelerating Hub'''\n",
    "AHL075 = Downswing3D('3D_AHL075')\n",
    "AHL075.golfer(r1, m1, r2, m2)\n",
    "AHL075.solve_odes('a', 0.75, tau_b, phi1_0, phi2_0, theta1_0, theta2_0, theta2dot_0)\n",
    "AHL075.print_data()\n",
    "AHL075.plot_data('L = 0.75')"
   ]
  },
  {
   "cell_type": "code",
   "execution_count": null,
   "id": "64d9753d",
   "metadata": {},
   "outputs": [],
   "source": [
    "AHL075.animate_swing()\n",
    "AHL075.still_shot()"
   ]
  },
  {
   "cell_type": "markdown",
   "id": "6ba9d333",
   "metadata": {},
   "source": [
    "#### The following cells solve the equations of motion, plot the relevant data, and animate the golf swing for both a constant hub and an accelerating hub model with a lag parameter of $L=1.0$."
   ]
  },
  {
   "cell_type": "code",
   "execution_count": null,
   "id": "e04a94b1",
   "metadata": {},
   "outputs": [],
   "source": [
    "'''Constant Hub'''\n",
    "CHL100 = Downswing3D('3D_CHL100')\n",
    "CHL100.golfer(r1, m1, r2, m2)\n",
    "CHL100.solve_odes('c', 1.0, tau_b, phi1_0, phi2_0, theta1_0, theta2_0, theta2dot_0)\n",
    "CHL100.print_data()\n",
    "CHL100.plot_data('L = 1.0')"
   ]
  },
  {
   "cell_type": "code",
   "execution_count": null,
   "id": "ca760503",
   "metadata": {},
   "outputs": [],
   "source": [
    "CHL100.animate_swing()\n",
    "CHL100.still_shot()"
   ]
  },
  {
   "cell_type": "code",
   "execution_count": null,
   "id": "8e401a81",
   "metadata": {},
   "outputs": [],
   "source": [
    "'''Accelerating Hub'''\n",
    "AHL100 = Downswing3D('3D_AHL100')\n",
    "AHL100.golfer(r1, m1, r2, m2)\n",
    "AHL100.solve_odes('a', 1.0, tau_b, phi1_0, phi2_0, theta1_0, theta2_0, theta2dot_0)\n",
    "AHL100.print_data()\n",
    "AHL100.plot_data('L = 1.0')"
   ]
  },
  {
   "cell_type": "code",
   "execution_count": null,
   "id": "5a2dfdc7",
   "metadata": {},
   "outputs": [],
   "source": [
    "AHL100.animate_swing()\n",
    "AHL100.still_shot()"
   ]
  },
  {
   "cell_type": "markdown",
   "id": "faa6e9ce",
   "metadata": {},
   "source": [
    "#### The following cells solve the equations of motion, plot the relevant data, and animate the golf swing for both a constant hub and an accelerating hub model with a lag parameter of $L=1.25$."
   ]
  },
  {
   "cell_type": "code",
   "execution_count": null,
   "id": "4efcdf86",
   "metadata": {},
   "outputs": [],
   "source": [
    "'''Constant Hub'''\n",
    "CHL125 = Downswing3D('3D_CHL125')\n",
    "CHL125.golfer(r1, m1, r2, m2)\n",
    "CHL125.solve_odes('c', 1.25, tau_b, phi1_0, phi2_0, theta1_0, theta2_0, theta2dot_0)\n",
    "CHL125.print_data()\n",
    "CHL125.plot_data('L = 1.25')"
   ]
  },
  {
   "cell_type": "code",
   "execution_count": null,
   "id": "825ab037",
   "metadata": {},
   "outputs": [],
   "source": [
    "CHL125.animate_swing()\n",
    "CHL125.still_shot()"
   ]
  },
  {
   "cell_type": "code",
   "execution_count": null,
   "id": "9283d2b7",
   "metadata": {},
   "outputs": [],
   "source": [
    "'''Accelerating Hub'''\n",
    "AHL125 = Downswing3D('3D_AHL125')\n",
    "AHL125.golfer(r1, m1, r2, m2)\n",
    "AHL125.solve_odes('a', 1.25, tau_b, phi1_0, phi2_0, theta1_0, theta2_0, theta2dot_0)\n",
    "AHL125.print_data()\n",
    "AHL125.plot_data('L = 1.25')"
   ]
  },
  {
   "cell_type": "code",
   "execution_count": null,
   "id": "a105eefd",
   "metadata": {},
   "outputs": [],
   "source": [
    "AHL125.animate_swing()\n",
    "AHL125.still_shot()"
   ]
  },
  {
   "cell_type": "markdown",
   "id": "ce9553ed",
   "metadata": {},
   "source": [
    "#### The following cells solve the equations of motion, plot the relevant data, and animate the golf swing for both a constant hub and an accelerating hub model with a lag parameter of $L=1.5$."
   ]
  },
  {
   "cell_type": "code",
   "execution_count": null,
   "id": "267ae25a",
   "metadata": {},
   "outputs": [],
   "source": [
    "'''Constant Hub'''\n",
    "CHL150 = Downswing3D('3D_CHL150')\n",
    "CHL150.golfer(r1, m1, r2, m2)\n",
    "CHL150.solve_odes('c', 1.5, tau_b, phi1_0, phi2_0, theta1_0, theta2_0, theta2dot_0)\n",
    "CHL150.print_data()\n",
    "CHL150.plot_data('L = 1.5')"
   ]
  },
  {
   "cell_type": "code",
   "execution_count": null,
   "id": "57c6f860",
   "metadata": {},
   "outputs": [],
   "source": [
    "CHL150.animate_swing()\n",
    "CHL150.still_shot()"
   ]
  },
  {
   "cell_type": "code",
   "execution_count": null,
   "id": "4a8863c1",
   "metadata": {},
   "outputs": [],
   "source": [
    "'''Accelerating Hub'''\n",
    "AHL150 = Downswing3D('3D_AHL150')\n",
    "AHL150.golfer(r1, m1, r2, m2)\n",
    "AHL150.solve_odes('a', 1.5, tau_b, phi1_0, phi2_0, theta1_0, theta2_0, theta2dot_0)\n",
    "AHL150.print_data()\n",
    "AHL150.plot_data('L = 1.5')"
   ]
  },
  {
   "cell_type": "code",
   "execution_count": null,
   "id": "5404ab31",
   "metadata": {},
   "outputs": [],
   "source": [
    "AHL150.animate_swing()\n",
    "AHL150.still_shot()"
   ]
  },
  {
   "cell_type": "markdown",
   "id": "49b0a664",
   "metadata": {},
   "source": [
    "#### This cell compares the swing speed and relevant data of each model with a constant hub."
   ]
  },
  {
   "cell_type": "code",
   "execution_count": null,
   "id": "a0eab4bc",
   "metadata": {},
   "outputs": [],
   "source": [
    "'''Create table, columns, and colors'''\n",
    "table = []\n",
    "columns = ['Model', 'A.o.A', 'Club Path', 'Phi1 Crit.', 'SS - Impact [m/s]', 'SS - Max [m/s]']\n",
    "cell_colors = []\n",
    "\n",
    "'''Models and labels'''\n",
    "models = [CHL000, CHL025, CHL050, CHL075, CHL100, CHL125, CHL150]\n",
    "labels = ['$L=0.0$', '$L=0.25$', '$L=0.5$', '$L=0.75$', '$L=1.0$', '$L=1.25$', '$L=1.5$']\n",
    "colors = list(plt.cm.viridis(np.linspace(0.9, 0.1, 7)))\n",
    "colors[0] = 'black'\n",
    "\n",
    "'''Create lists of relevant data for each model'''\n",
    "aoas = [model.aoa for model in models]\n",
    "club_paths = [model.club_path for model in models]\n",
    "phi1_crits = [model.phi1_crit for model in models]\n",
    "t_impacts = [model.t_impact for model in models]\n",
    "ss_impacts = [model.ss_impact for model in models]\n",
    "t_ss_maxes = [model.t_ss_max for model in models]\n",
    "ss_maxes = [model.ss_max for model in models]\n",
    "\n",
    "'''Create figures'''\n",
    "fig1, ax1 = plt.subplots(figsize = (9, 5))\n",
    "fig2, ax2 = plt.subplots(figsize = (9, 5))\n",
    "fig3, ax3 = plt.subplots(figsize = (9, 5))\n",
    "fig1.tight_layout(pad = 2)\n",
    "fig2.tight_layout(pad = 2)\n",
    "fig3.tight_layout(pad = 2)\n",
    "\n",
    "'''First figure --> Plot of SS during downswing'''\n",
    "ax1.set_xlabel('$t$ [s]')\n",
    "ax1.set_ylabel('Speed [m/s]')\n",
    "ax1.set_title('Swing Speed During the Downswing - Lag Parameter - 3D Constant Hub')\n",
    "ax1.grid(True, linestyle = 'dashed', color = 'darkgray', alpha = 0.25)\n",
    "for index, model in enumerate(models):\n",
    "    linestyle = 'dashed' if index == 0 else 'solid'\n",
    "    ax1.plot(model.t_points, model.ss_points, linestyle = linestyle, color = colors[index], label = labels[index])\n",
    "    ax1.plot(t_impacts[index], ss_impacts[index], 'ko', markersize = 4, zorder = 10)\n",
    "ax1.plot([], [], 'ko', markersize = 4, label = 'Impact')\n",
    "legend1 = ax1.legend(loc = 'upper left', fancybox = False)\n",
    "frame1 = legend1.get_frame()\n",
    "frame1.set_facecolor('white')\n",
    "frame1.set_edgecolor('black')\n",
    "frame1.set_linewidth(1)\n",
    "fig1.savefig('c:/Users/Tucker Knaak/Downloads/3D_CH_LagPlot1.png', bbox_inches = 'tight')\n",
    "\n",
    "'''Second figure --> Plot of SS vs L'''\n",
    "ax2.set_xlabel('$L$')\n",
    "ax2.set_ylabel('Speed [m/s]')\n",
    "ax2.set_title('Swing Speed for Varying Lag Parameters - 3D Constant Hub')\n",
    "ax2.set_xticks(range(len(labels)))\n",
    "ax2.set_xticklabels(['0.00', '0.25', '0.50', '0.75', '1.00', '1.25', '1.50'])\n",
    "ax2.grid(True, linestyle = 'dashed', color = 'darkgray', alpha = 0.25)\n",
    "ax2.plot(range(len(ss_impacts)), ss_impacts, color = 'black', marker = 'o', markerfacecolor = 'white', label = 'Impact')\n",
    "ax2.plot(range(len(ss_maxes)), ss_maxes, color = 'red', marker = 's', markerfacecolor = 'white', label = 'Maximum')\n",
    "legend2 = ax2.legend(loc = 'upper left', fancybox = False)\n",
    "frame2 = legend2.get_frame()\n",
    "frame2.set_facecolor('white')\n",
    "frame2.set_edgecolor('black')\n",
    "frame2.set_linewidth(1)\n",
    "fig2.savefig('c:/Users/Tucker Knaak/Downloads/3D_CH_LagPlot2.png', bbox_inches = 'tight')\n",
    "\n",
    "'''Third figure --> Table of relevant data'''\n",
    "ax3.axis('off')\n",
    "for index, model in enumerate(models):\n",
    "    model_color = colors[index] if index != 0 else 'white'\n",
    "    ss_impact_color = 'limegreen' if ss_impacts[index] == max(ss_impacts) else 'white'\n",
    "    ss_max_color = 'limegreen' if ss_maxes[index] == max(ss_maxes) else 'white'\n",
    "    row = [labels[index], f'{aoas[index]}\\u00B0', f'{club_paths[index]}\\u00B0', f'{phi1_crits[index]}\\u00B0',\n",
    "           '{ss:.2f} ({time}s)'.format(ss = ss_impacts[index], time = t_impacts[index]),\n",
    "           '{ss:.2f} ({time}s)'.format(ss = ss_maxes[index], time = t_ss_maxes[index])]\n",
    "    cell_color = [model_color, 'white', 'white', 'white', ss_impact_color, ss_max_color]\n",
    "    table.append(row)\n",
    "    cell_colors.append(cell_color)\n",
    "the_table = ax3.table(cellText = table, colLabels = columns, cellColours = cell_colors, loc = 'center', cellLoc = 'center')\n",
    "the_table.scale(1.25, 2.25)\n",
    "fig3.savefig('c:/Users/Tucker Knaak/Downloads/3D_CH_LagTable.png', bbox_inches = 'tight')"
   ]
  },
  {
   "cell_type": "markdown",
   "id": "4f6a4a04",
   "metadata": {},
   "source": [
    "#### This cell compares the swing speed and relevant data of each model with an accelerating hub."
   ]
  },
  {
   "cell_type": "code",
   "execution_count": null,
   "id": "8cd02853",
   "metadata": {},
   "outputs": [],
   "source": [
    "'''Create table, columns, and colors'''\n",
    "table = []\n",
    "columns = ['Model', 'A.o.A', 'Club Path', 'Phi1 Crit.', 'SS - Impact [m/s]', 'SS - Max [m/s]']\n",
    "cell_colors = []\n",
    "\n",
    "'''Models and labels'''\n",
    "models = [AHL000, AHL025, AHL050, AHL075, AHL100, AHL125, AHL150]\n",
    "labels = ['$L=0.0$', '$L=0.25$', '$L=0.5$', '$L=0.75$', '$L=1.0$', '$L=1.25$', '$L=1.5$']\n",
    "colors = list(plt.cm.viridis(np.linspace(0.9, 0.1, 7)))\n",
    "colors[0] = 'black'\n",
    "\n",
    "'''Create lists of relevant data for each model'''\n",
    "aoas = [model.aoa for model in models]\n",
    "club_paths = [model.club_path for model in models]\n",
    "phi1_crits = [model.phi1_crit for model in models]\n",
    "t_impacts = [model.t_impact for model in models]\n",
    "ss_impacts = [model.ss_impact for model in models]\n",
    "t_ss_maxes = [model.t_ss_max for model in models]\n",
    "ss_maxes = [model.ss_max for model in models]\n",
    "\n",
    "'''Create figures'''\n",
    "fig1, ax1 = plt.subplots(figsize = (9, 5))\n",
    "fig2, ax2 = plt.subplots(figsize = (9, 5))\n",
    "fig3, ax3 = plt.subplots(figsize = (9, 5))\n",
    "fig1.tight_layout(pad = 2)\n",
    "fig2.tight_layout(pad = 2)\n",
    "fig3.tight_layout(pad = 2)\n",
    "\n",
    "'''First figure --> Plot of SS during downswing'''\n",
    "ax1.set_xlabel('$t$ [s]')\n",
    "ax1.set_ylabel('Speed [m/s]')\n",
    "ax1.set_title('Swing Speed During the Downswing - Lag Parameter - 3D Accelerating Hub')\n",
    "ax1.grid(True, linestyle = 'dashed', color = 'darkgray', alpha = 0.25)\n",
    "for index, model in enumerate(models):\n",
    "    linestyle = 'dashed' if index == 0 else 'solid'\n",
    "    ax1.plot(model.t_points, model.ss_points, linestyle = linestyle, color = colors[index], label = labels[index])\n",
    "    ax1.plot(t_impacts[index], ss_impacts[index], 'ko', markersize = 4, zorder = 10)\n",
    "ax1.plot([], [], 'ko', markersize = 4, label = 'Impact')\n",
    "legend1 = ax1.legend(loc = 'upper left', fancybox = False)\n",
    "frame1 = legend1.get_frame()\n",
    "frame1.set_facecolor('white')\n",
    "frame1.set_edgecolor('black')\n",
    "frame1.set_linewidth(1)\n",
    "fig1.savefig('c:/Users/Tucker Knaak/Downloads/3D_AH_LagPlot1.png', bbox_inches = 'tight')\n",
    "\n",
    "'''Second figure --> Plot of SS vs L'''\n",
    "ax2.set_xlabel('$L$')\n",
    "ax2.set_ylabel('Speed [m/s]')\n",
    "ax2.set_title('Swing Speed for Varying Lag Parameters - 3D Accelerating Hub')\n",
    "ax2.set_xticks(range(len(labels)))\n",
    "ax2.set_xticklabels(['0.00', '0.25', '0.50', '0.75', '1.00', '1.25', '1.50'])\n",
    "ax2.grid(True, linestyle = 'dashed', color = 'darkgray', alpha = 0.25)\n",
    "ax2.plot(range(len(ss_impacts)), ss_impacts, color = 'black', marker = 'o', markerfacecolor = 'white', label = 'Impact')\n",
    "ax2.plot(range(len(ss_maxes)), ss_maxes, color = 'red', marker = 's', markerfacecolor = 'white', label = 'Maximum')\n",
    "legend2 = ax2.legend(loc = 'upper left', fancybox = False)\n",
    "frame2 = legend2.get_frame()\n",
    "frame2.set_facecolor('white')\n",
    "frame2.set_edgecolor('black')\n",
    "frame2.set_linewidth(1)\n",
    "fig2.savefig('c:/Users/Tucker Knaak/Downloads/3D_AH_LagPlot2.png', bbox_inches = 'tight')\n",
    "\n",
    "'''Third figure --> Table of relevant data'''\n",
    "ax3.axis('off')\n",
    "for index, model in enumerate(models):\n",
    "    model_color = colors[index] if index != 0 else 'white'\n",
    "    ss_impact_color = 'limegreen' if ss_impacts[index] == max(ss_impacts) else 'white'\n",
    "    ss_max_color = 'limegreen' if ss_maxes[index] == max(ss_maxes) else 'white'\n",
    "    row = [labels[index], f'{aoas[index]}\\u00B0', f'{club_paths[index]}\\u00B0', f'{phi1_crits[index]}\\u00B0',\n",
    "           '{ss:.2f} ({time}s)'.format(ss = ss_impacts[index], time = t_impacts[index]),\n",
    "           '{ss:.2f} ({time}s)'.format(ss = ss_maxes[index], time = t_ss_maxes[index])]\n",
    "    cell_color = [model_color, 'white', 'white', 'white', ss_impact_color, ss_max_color]\n",
    "    table.append(row)\n",
    "    cell_colors.append(cell_color)\n",
    "the_table = ax3.table(cellText = table, colLabels = columns, cellColours = cell_colors, loc = 'center', cellLoc = 'center')\n",
    "the_table.scale(1.25, 2.25)\n",
    "fig3.savefig('c:/Users/Tucker Knaak/Downloads/3D_AH_LagTable.png', bbox_inches = 'tight')"
   ]
  },
  {
   "cell_type": "code",
   "execution_count": null,
   "id": "0b1c22c4",
   "metadata": {},
   "outputs": [],
   "source": []
  }
 ],
 "metadata": {
  "kernelspec": {
   "display_name": "Python 3 (ipykernel)",
   "language": "python",
   "name": "python3"
  },
  "language_info": {
   "codemirror_mode": {
    "name": "ipython",
    "version": 3
   },
   "file_extension": ".py",
   "mimetype": "text/x-python",
   "name": "python",
   "nbconvert_exporter": "python",
   "pygments_lexer": "ipython3",
   "version": "3.11.3"
  }
 },
 "nbformat": 4,
 "nbformat_minor": 5
}
