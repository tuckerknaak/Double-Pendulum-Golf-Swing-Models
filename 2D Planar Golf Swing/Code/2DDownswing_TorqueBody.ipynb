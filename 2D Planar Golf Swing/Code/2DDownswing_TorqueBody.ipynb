{
 "cells": [
  {
   "cell_type": "markdown",
   "id": "fd92a9cd",
   "metadata": {},
   "source": [
    "# 2D Planar Double Pendulum Golf Swing - Torque of the Body\n",
    "\n",
    "## Tucker Knaak - Department of Physics, Creighton University - 2022/2024\n",
    "\n",
    "#### The golfer uses their upper and lower body to create torques and increase rotation.  These torques are combined into one torque, defined as the torque of the body $\\tau_b$.\n",
    "\n",
    "#### This code is used to compare the swing speed of both constant hub ($L=0.0$) and accelerating hub ($L=0.75$) models for torques of the body ranging between $\\tau_b=150\\text{N}\\cdot\\text{m}$ and $\\tau_b=300\\text{N}\\cdot\\text{m}$  in $\\tau_b=25\\text{N}\\cdot\\text{m}$ intervals."
   ]
  },
  {
   "cell_type": "markdown",
   "id": "57d33d81",
   "metadata": {},
   "source": [
    "#### This cell runs the Jupyter notebook containing the Downswing2D class used to model the 2D Planar Double Pendulum Golf Swing."
   ]
  },
  {
   "cell_type": "code",
   "execution_count": null,
   "id": "81287eba",
   "metadata": {},
   "outputs": [],
   "source": [
    "%run 2DDownswing_YoshidaPC.ipynb"
   ]
  },
  {
   "cell_type": "markdown",
   "id": "858e3987",
   "metadata": {},
   "source": [
    "#### This cell sets the parameters of the golfer and the initial conditions which are the same for each model tested."
   ]
  },
  {
   "cell_type": "code",
   "execution_count": null,
   "id": "f1fd8e0f",
   "metadata": {},
   "outputs": [],
   "source": [
    "'''Parameters of the golfer'''\n",
    "r1 = 0.700  #length of the golfer's arms [m]\n",
    "m1 = 7.000  #mass of the golfer's arms [kg]\n",
    "r2 = 1.156  #length of the golf club [m]\n",
    "m2 = 0.310  #mass of the golf club [kg]\n",
    "\n",
    "'''Initial conditions'''\n",
    "phi1_0 = np.radians(0)    #angle of the golfer's arms ccw from the y-axis [rad]\n",
    "phi2_0 = np.radians(270)  #angle of the golf club ccw from the y-axis [rad]"
   ]
  },
  {
   "cell_type": "markdown",
   "id": "9766b671",
   "metadata": {},
   "source": [
    "#### The following cells solve the equations of motion, plot the relevant data, and animate the golf swing for both a constant hub ($L=0.0$) and an accelerating hub ($L=0.75$) model with a torque of the body of $\\tau_b=150\\text{N}\\cdot\\text{m}$."
   ]
  },
  {
   "cell_type": "code",
   "execution_count": null,
   "id": "9d908935",
   "metadata": {},
   "outputs": [],
   "source": [
    "'''Constant Hub'''\n",
    "CHL00_tb150 = Downswing2D('2D_CHL00_tb150')\n",
    "CHL00_tb150.golfer(r1, m1, r2, m2)\n",
    "CHL00_tb150.solve_odes('c', 0.0, 150, phi1_0, phi2_0)\n",
    "CHL00_tb150.print_data()\n",
    "CHL00_tb150.plot_data('$L=0.0$, $\\u03C4_b=150$N\\u00B7m')"
   ]
  },
  {
   "cell_type": "code",
   "execution_count": null,
   "id": "cd5526d8",
   "metadata": {},
   "outputs": [],
   "source": [
    "CHL00_tb150.animate_swing()\n",
    "CHL00_tb150.still_shot()"
   ]
  },
  {
   "cell_type": "code",
   "execution_count": null,
   "id": "ef7a3efe",
   "metadata": {},
   "outputs": [],
   "source": [
    "'''Accelerating Hub'''\n",
    "AHL075_tb150 = Downswing2D('2D_AHL075_tb150')\n",
    "AHL075_tb150.golfer(r1, m1, r2, m2)\n",
    "AHL075_tb150.solve_odes('a', 0.75, 150, phi1_0, phi2_0)\n",
    "AHL075_tb150.print_data()\n",
    "AHL075_tb150.plot_data('$L=0.75$, $\\u03C4_b=150$N\\u00B7m')"
   ]
  },
  {
   "cell_type": "code",
   "execution_count": null,
   "id": "45417b9d",
   "metadata": {},
   "outputs": [],
   "source": [
    "AHL075_tb150.animate_swing()\n",
    "AHL075_tb150.still_shot()"
   ]
  },
  {
   "cell_type": "markdown",
   "id": "820e59b9",
   "metadata": {},
   "source": [
    "#### The following cells solve the equations of motion, plot the relevant data, and animate the golf swing for both a constant hub ($L=0.0$) and an accelerating hub ($L=0.75$) model with a torque of the body of $\\tau_b=175\\text{N}\\cdot\\text{m}$."
   ]
  },
  {
   "cell_type": "code",
   "execution_count": null,
   "id": "b8725a3a",
   "metadata": {},
   "outputs": [],
   "source": [
    "'''Constant Hub'''\n",
    "CHL00_tb175 = Downswing2D('2D_CHL00_tb175')\n",
    "CHL00_tb175.golfer(r1, m1, r2, m2)\n",
    "CHL00_tb175.solve_odes('c', 0.0, 175, phi1_0, phi2_0)\n",
    "CHL00_tb175.print_data()\n",
    "CHL00_tb175.plot_data('$L=0.0$, $\\u03C4_b=175$N\\u00B7m')"
   ]
  },
  {
   "cell_type": "code",
   "execution_count": null,
   "id": "088f65a9",
   "metadata": {},
   "outputs": [],
   "source": [
    "CHL00_tb175.animate_swing()\n",
    "CHL00_tb175.still_shot()"
   ]
  },
  {
   "cell_type": "code",
   "execution_count": null,
   "id": "27b6e61a",
   "metadata": {},
   "outputs": [],
   "source": [
    "'''Accelerating Hub'''\n",
    "AHL075_tb175 = Downswing2D('2D_AHL075_tb175')\n",
    "AHL075_tb175.golfer(r1, m1, r2, m2)\n",
    "AHL075_tb175.solve_odes('a', 0.75, 175, phi1_0, phi2_0)\n",
    "AHL075_tb175.print_data()\n",
    "AHL075_tb175.plot_data('$L=0.75$, $\\u03C4_b=175$N\\u00B7m')"
   ]
  },
  {
   "cell_type": "code",
   "execution_count": null,
   "id": "8c2add4a",
   "metadata": {},
   "outputs": [],
   "source": [
    "AHL075_tb175.animate_swing()\n",
    "AHL075_tb175.still_shot()"
   ]
  },
  {
   "cell_type": "markdown",
   "id": "ae817098",
   "metadata": {},
   "source": [
    "#### The following cells solve the equations of motion, plot the relevant data, and animate the golf swing for both a constant hub ($L=0.0$) and an accelerating hub ($L=0.75$) model with a torque of the body of $\\tau_b=200\\text{N}\\cdot\\text{m}$."
   ]
  },
  {
   "cell_type": "code",
   "execution_count": null,
   "id": "a979c99e",
   "metadata": {},
   "outputs": [],
   "source": [
    "'''Constant Hub'''\n",
    "CHL00_tb200 = Downswing2D('2D_CHL00_tb200')\n",
    "CHL00_tb200.golfer(r1, m1, r2, m2)\n",
    "CHL00_tb200.solve_odes('c', 0.0, 200, phi1_0, phi2_0)\n",
    "CHL00_tb200.print_data()\n",
    "CHL00_tb200.plot_data('$L=0.0$, $\\u03C4_b=200$N\\u00B7m')"
   ]
  },
  {
   "cell_type": "code",
   "execution_count": null,
   "id": "a2844926",
   "metadata": {},
   "outputs": [],
   "source": [
    "CHL00_tb200.animate_swing()\n",
    "CHL00_tb200.still_shot()"
   ]
  },
  {
   "cell_type": "code",
   "execution_count": null,
   "id": "6dd27d3b",
   "metadata": {},
   "outputs": [],
   "source": [
    "'''Accelerating Hub'''\n",
    "AHL075_tb200 = Downswing2D('2D_AHL075_tb200')\n",
    "AHL075_tb200.golfer(r1, m1, r2, m2)\n",
    "AHL075_tb200.solve_odes('a', 0.75, 200, phi1_0, phi2_0)\n",
    "AHL075_tb200.print_data()\n",
    "AHL075_tb200.plot_data('$L=0.75$, $\\u03C4_b=200$N\\u00B7m')"
   ]
  },
  {
   "cell_type": "code",
   "execution_count": null,
   "id": "d87e0bc7",
   "metadata": {},
   "outputs": [],
   "source": [
    "AHL075_tb200.animate_swing()\n",
    "AHL075_tb200.still_shot()"
   ]
  },
  {
   "cell_type": "markdown",
   "id": "6adbc801",
   "metadata": {},
   "source": [
    "#### The following cells solve the equations of motion, plot the relevant data, and animate the golf swing for both a constant hub ($L=0.0$) and an accelerating hub ($L=0.75$) model with a torque of the body of $\\tau_b=225\\text{N}\\cdot\\text{m}$."
   ]
  },
  {
   "cell_type": "code",
   "execution_count": null,
   "id": "5840dbbd",
   "metadata": {},
   "outputs": [],
   "source": [
    "'''Constant Hub'''\n",
    "CHL00_tb225 = Downswing2D('2D_CHL00_tb225')\n",
    "CHL00_tb225.golfer(r1, m1, r2, m2)\n",
    "CHL00_tb225.solve_odes('c', 0.0, 225, phi1_0, phi2_0)\n",
    "CHL00_tb225.print_data()\n",
    "CHL00_tb225.plot_data('$L=0.0$, $\\u03C4_b=225$N\\u00B7m')"
   ]
  },
  {
   "cell_type": "code",
   "execution_count": null,
   "id": "4c7358d5",
   "metadata": {},
   "outputs": [],
   "source": [
    "CHL00_tb225.animate_swing()\n",
    "CHL00_tb225.still_shot()"
   ]
  },
  {
   "cell_type": "code",
   "execution_count": null,
   "id": "f27ab1c5",
   "metadata": {},
   "outputs": [],
   "source": [
    "'''Accelerating Hub'''\n",
    "AHL075_tb225 = Downswing2D('2D_AHL075_tb225')\n",
    "AHL075_tb225.golfer(r1, m1, r2, m2)\n",
    "AHL075_tb225.solve_odes('a', 0.75, 225, phi1_0, phi2_0)\n",
    "AHL075_tb225.print_data()\n",
    "AHL075_tb225.plot_data('$L=0.75$, $\\u03C4_b=225$N\\u00B7m')"
   ]
  },
  {
   "cell_type": "code",
   "execution_count": null,
   "id": "92c5a10a",
   "metadata": {},
   "outputs": [],
   "source": [
    "AHL075_tb225.animate_swing()\n",
    "AHL075_tb225.still_shot()"
   ]
  },
  {
   "cell_type": "markdown",
   "id": "f22aaf1a",
   "metadata": {},
   "source": [
    "#### The following cells solve the equations of motion, plot the relevant data, and animate the golf swing for both a constant hub ($L=0.0$) and an accelerating hub ($L=0.75$) model with a torque of the body of $\\tau_b=250\\text{N}\\cdot\\text{m}$."
   ]
  },
  {
   "cell_type": "code",
   "execution_count": null,
   "id": "64d89af8",
   "metadata": {},
   "outputs": [],
   "source": [
    "'''Constant Hub'''\n",
    "CHL00_tb250 = Downswing2D('2D_CHL00_tb250')\n",
    "CHL00_tb250.golfer(r1, m1, r2, m2)\n",
    "CHL00_tb250.solve_odes('c', 0.0, 250, phi1_0, phi2_0)\n",
    "CHL00_tb250.print_data()\n",
    "CHL00_tb250.plot_data('$L=0.0$, $\\u03C4_b=250$N\\u00B7m')"
   ]
  },
  {
   "cell_type": "code",
   "execution_count": null,
   "id": "d1d2e9d7",
   "metadata": {},
   "outputs": [],
   "source": [
    "CHL00_tb250.animate_swing()\n",
    "CHL00_tb250.still_shot()"
   ]
  },
  {
   "cell_type": "code",
   "execution_count": null,
   "id": "b57cfe15",
   "metadata": {},
   "outputs": [],
   "source": [
    "'''Accelerating Hub'''\n",
    "AHL075_tb250 = Downswing2D('2D_AHL075_tb250')\n",
    "AHL075_tb250.golfer(r1, m1, r2, m2)\n",
    "AHL075_tb250.solve_odes('a', 0.75, 250, phi1_0, phi2_0)\n",
    "AHL075_tb250.print_data()\n",
    "AHL075_tb250.plot_data('$L=0.75$, $\\u03C4_b=250$N\\u00B7m')"
   ]
  },
  {
   "cell_type": "code",
   "execution_count": null,
   "id": "1c836be3",
   "metadata": {},
   "outputs": [],
   "source": [
    "AHL075_tb250.animate_swing()\n",
    "AHL075_tb250.still_shot()"
   ]
  },
  {
   "cell_type": "markdown",
   "id": "b508d453",
   "metadata": {},
   "source": [
    "#### The following cells solve the equations of motion, plot the relevant data, and animate the golf swing for both a constant hub ($L=0.0$) and an accelerating hub ($L=0.75$) model with a torque of the body of $\\tau_b=275\\text{N}\\cdot\\text{m}$."
   ]
  },
  {
   "cell_type": "code",
   "execution_count": null,
   "id": "eebf61e3",
   "metadata": {},
   "outputs": [],
   "source": [
    "'''Constant Hub'''\n",
    "CHL00_tb275 = Downswing2D('2D_CHL00_tb275')\n",
    "CHL00_tb275.golfer(r1, m1, r2, m2)\n",
    "CHL00_tb275.solve_odes('c', 0.0, 275, phi1_0, phi2_0)\n",
    "CHL00_tb275.print_data()\n",
    "CHL00_tb275.plot_data('$L=0.0$, $\\u03C4_b=275$N\\u00B7m')"
   ]
  },
  {
   "cell_type": "code",
   "execution_count": null,
   "id": "2d9afb24",
   "metadata": {},
   "outputs": [],
   "source": [
    "CHL00_tb275.animate_swing()\n",
    "CHL00_tb275.still_shot()"
   ]
  },
  {
   "cell_type": "code",
   "execution_count": null,
   "id": "0ca36e0a",
   "metadata": {},
   "outputs": [],
   "source": [
    "'''Accelerating Hub'''\n",
    "AHL075_tb275 = Downswing2D('2D_AHL075_tb275')\n",
    "AHL075_tb275.golfer(r1, m1, r2, m2)\n",
    "AHL075_tb275.solve_odes('a', 0.75, 275, phi1_0, phi2_0)\n",
    "AHL075_tb275.print_data()\n",
    "AHL075_tb275.plot_data('$L=0.75$, $\\u03C4_b=275$N\\u00B7m')"
   ]
  },
  {
   "cell_type": "code",
   "execution_count": null,
   "id": "0c4f4c09",
   "metadata": {},
   "outputs": [],
   "source": [
    "AHL075_tb275.animate_swing()\n",
    "AHL075_tb275.still_shot()"
   ]
  },
  {
   "cell_type": "markdown",
   "id": "4bb08fcc",
   "metadata": {},
   "source": [
    "#### The following cells solve the equations of motion, plot the relevant data, and animate the golf swing for both a constant hub ($L=0.0$) and an accelerating hub ($L=0.75$) model with a torque of the body of $\\tau_b=300\\text{N}\\cdot\\text{m}$."
   ]
  },
  {
   "cell_type": "code",
   "execution_count": null,
   "id": "c4758e7c",
   "metadata": {},
   "outputs": [],
   "source": [
    "'''Constant Hub'''\n",
    "CHL00_tb300 = Downswing2D('2D_CHL00_tb300')\n",
    "CHL00_tb300.golfer(r1, m1, r2, m2)\n",
    "CHL00_tb300.solve_odes('c', 0.0, 300, phi1_0, phi2_0)\n",
    "CHL00_tb300.print_data()\n",
    "CHL00_tb300.plot_data('$L=0.0$, $\\u03C4_b=300$N\\u00B7m')"
   ]
  },
  {
   "cell_type": "code",
   "execution_count": null,
   "id": "454e597f",
   "metadata": {},
   "outputs": [],
   "source": [
    "CHL00_tb300.animate_swing()\n",
    "CHL00_tb300.still_shot()"
   ]
  },
  {
   "cell_type": "code",
   "execution_count": null,
   "id": "ea3dce56",
   "metadata": {},
   "outputs": [],
   "source": [
    "'''Accelerating Hub'''\n",
    "AHL075_tb300 = Downswing2D('2D_AHL075_tb300')\n",
    "AHL075_tb300.golfer(r1, m1, r2, m2)\n",
    "AHL075_tb300.solve_odes('a', 0.75, 300, phi1_0, phi2_0)\n",
    "AHL075_tb300.print_data()\n",
    "AHL075_tb300.plot_data('$L=0.75$, $\\u03C4_b=300$N\\u00B7m')"
   ]
  },
  {
   "cell_type": "code",
   "execution_count": null,
   "id": "4a712eb4",
   "metadata": {},
   "outputs": [],
   "source": [
    "AHL075_tb300.animate_swing()\n",
    "AHL075_tb300.still_shot()"
   ]
  },
  {
   "cell_type": "markdown",
   "id": "0f15f09d",
   "metadata": {},
   "source": [
    "#### This cell compares the swing speed and relevant data of each model with a constant hub."
   ]
  },
  {
   "cell_type": "code",
   "execution_count": null,
   "id": "c5b98c20",
   "metadata": {},
   "outputs": [],
   "source": [
    "'''Create table, columns, and colors'''\n",
    "table = []\n",
    "columns = ['Model', 'A.o.A', 'SS - Impact [m/s]', 'SS - Max [m/s]']\n",
    "cell_colors = []\n",
    "\n",
    "'''Models and labels'''\n",
    "models = [CHL00_tb150, CHL00_tb175, CHL00_tb200, CHL00_tb225, CHL00_tb250, CHL00_tb275, CHL00_tb300]\n",
    "labels = ['$\\u03C4_h=150\\,$Nm', '$\\u03C4_h=175\\,$Nm', '$\\u03C4_h=200\\,$Nm', '$\\u03C4_h=225\\,$Nm',\n",
    "          '$\\u03C4_h=250\\,$Nm', '$\\u03C4_h=275\\,$Nm', '$\\u03C4_h=300\\,$Nm']\n",
    "colors = list(plt.cm.viridis(np.linspace(0.9, 0.1, 7)))\n",
    "colors[3] = 'black'\n",
    "\n",
    "'''Create lists of relevant data for each model'''\n",
    "torques = [150, 175, 200, 225, 250, 275, 300]\n",
    "aoas = [model.aoa for model in models]\n",
    "t_impacts = [model.t_impact for model in models]\n",
    "ss_impacts = [model.ss_impact for model in models]\n",
    "t_ss_maxes = [model.t_ss_max for model in models]\n",
    "ss_maxes = [model.ss_max for model in models]\n",
    "\n",
    "'''Create figures'''\n",
    "fig1, ax1 = plt.subplots(figsize = (9, 5))\n",
    "fig2, ax2 = plt.subplots(figsize = (9, 5))\n",
    "fig3, ax3 = plt.subplots(figsize = (9, 5))\n",
    "fig1.tight_layout(pad = 2)\n",
    "fig2.tight_layout(pad = 2)\n",
    "fig3.tight_layout(pad = 2)\n",
    "\n",
    "'''First figure --> Plot of SS during downswing'''\n",
    "ax1.set_xlabel('$t$ [s]')\n",
    "ax1.set_ylabel('Speed [m/s]')\n",
    "ax1.set_title('Swing Speed During the Downswing - Torque of the Body - 2D Constant Hub (L=0.00)')\n",
    "ax1.grid(True, linestyle = 'dashed', color = 'darkgray', alpha = 0.25)\n",
    "for index, model in enumerate(models):\n",
    "    linestyle = 'dashed' if index == 3 else 'solid'\n",
    "    ax1.plot(model.t_points, model.ss_points, linestyle = linestyle, color = colors[index], label = labels[index])\n",
    "    ax1.plot(t_impacts[index], ss_impacts[index], 'ko', markersize = 4, zorder = 10)\n",
    "ax1.plot([], [], 'ko', markersize = 4, label = 'Impact')\n",
    "legend = ax1.legend(loc = 'upper left', fancybox = False)\n",
    "frame = legend.get_frame()\n",
    "frame.set_facecolor('white')\n",
    "frame.set_edgecolor('black')\n",
    "frame.set_linewidth(1)\n",
    "fig1.savefig('c:/Users/Tucker Knaak/Downloads/2D_CHL00_TorqueBodyPlot1.png', bbox_inches = 'tight')\n",
    "\n",
    "'''Second figure --> Plot of SS vs tau_b'''\n",
    "ax2.set_xlabel('$\\u03C4_b$ [Nm]')\n",
    "ax2.set_ylabel('Speed [m/s]')\n",
    "ax2.set_title('Swing Speed for Varying Torques of the Body - 2D Constant Hub (L=0.00)')\n",
    "ax2.set_xticks(range(len(labels)))\n",
    "ax2.set_xticklabels(['150', '175', '200', '225', '250', '275', '300'])\n",
    "ax2.grid(True, linestyle = 'dashed', color = 'darkgray', alpha = 0.25)\n",
    "ax2.plot(range(len(ss_impacts)), ss_impacts, color = 'black', marker = 'o', markerfacecolor = 'white', label = 'Impact')\n",
    "ax2.plot(range(len(ss_maxes)), ss_maxes, color = 'red', marker = 's', markerfacecolor = 'white', label = 'Maximum')\n",
    "legend2 = ax2.legend(loc = 'upper left', fancybox = False)\n",
    "frame2 = legend2.get_frame()\n",
    "frame2.set_facecolor('white')\n",
    "frame2.set_edgecolor('black')\n",
    "frame2.set_linewidth(1)\n",
    "fig2.savefig('c:/Users/Tucker Knaak/Downloads/2D_CHL00_TorqueBodyPlot2.png', bbox_inches = 'tight')\n",
    "\n",
    "'''Third figure --> Table of relevant data'''\n",
    "ax3.axis('off')\n",
    "for index, model in enumerate(models):\n",
    "    model_color = colors[index] if index != 3 else 'white'\n",
    "    ss_impact_color = 'limegreen' if ss_impacts[index] == max(ss_impacts) else 'white'\n",
    "    ss_max_color = 'limegreen' if ss_maxes[index] == max(ss_maxes) else 'white'\n",
    "    row = [labels[index], f'{aoas[index]}\\u00B0',\n",
    "           '{ss:.2f} ({time}s)'.format(ss = ss_impacts[index], time = t_impacts[index]),\n",
    "           '{ss:.2f} ({time}s)'.format(ss = ss_maxes[index], time = t_ss_maxes[index])]\n",
    "    cell_color = [model_color, 'white', ss_impact_color, ss_max_color]\n",
    "    table.append(row)\n",
    "    cell_colors.append(cell_color)\n",
    "the_table = ax3.table(cellText = table, colLabels = columns, cellColours = cell_colors, loc = 'center', cellLoc = 'center')\n",
    "the_table.scale(1.25, 2.25)\n",
    "fig3.savefig('c:/Users/Tucker Knaak/Downloads/2D_CHL00_TorqueBodyTable.png', bbox_inches = 'tight')"
   ]
  },
  {
   "cell_type": "markdown",
   "id": "ac30e8ff",
   "metadata": {},
   "source": [
    "#### This cell compares the swing speed and relevant data of each model with an accelerating hub."
   ]
  },
  {
   "cell_type": "code",
   "execution_count": null,
   "id": "3d403fdc",
   "metadata": {},
   "outputs": [],
   "source": [
    "'''Create table, columns, and colors'''\n",
    "table = []\n",
    "columns = ['Model', 'A.o.A', 'SS - Impact [m/s]', 'SS - Max [m/s]']\n",
    "cell_colors = []\n",
    "\n",
    "'''Models and labels'''\n",
    "models = [AHL075_tb150, AHL075_tb175, AHL075_tb200, AHL075_tb225, AHL075_tb250, AHL075_tb275, AHL075_tb300]\n",
    "labels = ['$\\u03C4_h=150\\,$Nm', '$\\u03C4_h=175\\,$Nm', '$\\u03C4_h=200\\,$Nm', '$\\u03C4_h=225\\,$Nm',\n",
    "          '$\\u03C4_h=250\\,$Nm', '$\\u03C4_h=275\\,$Nm', '$\\u03C4_h=300\\,$Nm']\n",
    "colors = list(plt.cm.viridis(np.linspace(0.9, 0.1, 7)))\n",
    "colors[3] = 'black'\n",
    "\n",
    "'''Create lists of relevant data for each model'''\n",
    "torques = [150, 175, 200, 225, 250, 275, 300]\n",
    "aoas = [model.aoa for model in models]\n",
    "t_impacts = [model.t_impact for model in models]\n",
    "ss_impacts = [model.ss_impact for model in models]\n",
    "t_ss_maxes = [model.t_ss_max for model in models]\n",
    "ss_maxes = [model.ss_max for model in models]\n",
    "\n",
    "'''Create figures'''\n",
    "fig1, ax1 = plt.subplots(figsize = (9, 5))\n",
    "fig2, ax2 = plt.subplots(figsize = (9, 5))\n",
    "fig3, ax3 = plt.subplots(figsize = (9, 5))\n",
    "fig1.tight_layout(pad = 2)\n",
    "fig2.tight_layout(pad = 2)\n",
    "fig3.tight_layout(pad = 2)\n",
    "\n",
    "'''First figure --> Plot of SS during downswing'''\n",
    "ax1.set_xlabel('$t$ [s]')\n",
    "ax1.set_ylabel('Speed [m/s]')\n",
    "ax1.set_title('Swing Speed During the Downswing - Torque of the Body - 2D Accelerating Hub (L=0.75)')\n",
    "ax1.grid(True, linestyle = 'dashed', color = 'darkgray', alpha = 0.25)\n",
    "for index, model in enumerate(models):\n",
    "    linestyle = 'dashed' if index == 3 else 'solid'\n",
    "    ax1.plot(model.t_points, model.ss_points, linestyle = linestyle, color = colors[index], label = labels[index])\n",
    "    ax1.plot(t_impacts[index], ss_impacts[index], 'ko', markersize = 4, zorder = 10)\n",
    "ax1.plot([], [], 'ko', markersize = 4, label = 'Impact')\n",
    "legend = ax1.legend(loc = 'upper left', fancybox = False)\n",
    "frame = legend.get_frame()\n",
    "frame.set_facecolor('white')\n",
    "frame.set_edgecolor('black')\n",
    "frame.set_linewidth(1)\n",
    "fig1.savefig('c:/Users/Tucker Knaak/Downloads/2D_AHL075_TorqueBodyPlot1.png', bbox_inches = 'tight')\n",
    "\n",
    "'''Second figure --> Plot of SS vs tau_b'''\n",
    "ax2.set_xlabel('$\\u03C4_b$ [Nm]')\n",
    "ax2.set_ylabel('Speed [m/s]')\n",
    "ax2.set_title('Swing Speed for Varying Torques of the Body - 2D Accelerating Hub (L=0.75)')\n",
    "ax2.set_xticks(range(len(labels)))\n",
    "ax2.set_xticklabels(['150', '175', '200', '225', '250', '275', '300'])\n",
    "ax2.grid(True, linestyle = 'dashed', color = 'darkgray', alpha = 0.25)\n",
    "ax2.plot(range(len(ss_impacts)), ss_impacts, color = 'black', marker = 'o', markerfacecolor = 'white', label = 'Impact')\n",
    "ax2.plot(range(len(ss_maxes)), ss_maxes, color = 'red', marker = 's', markerfacecolor = 'white', label = 'Maximum')\n",
    "legend2 = ax2.legend(loc = 'upper left', fancybox = False)\n",
    "frame2 = legend2.get_frame()\n",
    "frame2.set_facecolor('white')\n",
    "frame2.set_edgecolor('black')\n",
    "frame2.set_linewidth(1)\n",
    "fig2.savefig('c:/Users/Tucker Knaak/Downloads/2D_AHL075_TorqueBodyPlot2.png', bbox_inches = 'tight')\n",
    "\n",
    "'''Third figure --> Table of relevant data'''\n",
    "ax3.axis('off')\n",
    "for index, model in enumerate(models):\n",
    "    model_color = colors[index] if index != 3 else 'white'\n",
    "    ss_impact_color = 'limegreen' if ss_impacts[index] == max(ss_impacts) else 'white'\n",
    "    ss_max_color = 'limegreen' if ss_maxes[index] == max(ss_maxes) else 'white'\n",
    "    row = [labels[index], f'{aoas[index]}\\u00B0',\n",
    "           '{ss:.2f} ({time}s)'.format(ss = ss_impacts[index], time = t_impacts[index]),\n",
    "           '{ss:.2f} ({time}s)'.format(ss = ss_maxes[index], time = t_ss_maxes[index])]\n",
    "    cell_color = [model_color, 'white', ss_impact_color, ss_max_color]\n",
    "    table.append(row)\n",
    "    cell_colors.append(cell_color)\n",
    "the_table = ax3.table(cellText = table, colLabels = columns, cellColours = cell_colors, loc = 'center', cellLoc = 'center')\n",
    "the_table.scale(1.25, 2.25)\n",
    "fig3.savefig('c:/Users/Tucker Knaak/Downloads/2D_AHL075_TorqueBodyTable.png', bbox_inches = 'tight')"
   ]
  },
  {
   "cell_type": "code",
   "execution_count": null,
   "id": "91867aff",
   "metadata": {},
   "outputs": [],
   "source": []
  }
 ],
 "metadata": {
  "kernelspec": {
   "display_name": "Python 3 (ipykernel)",
   "language": "python",
   "name": "python3"
  },
  "language_info": {
   "codemirror_mode": {
    "name": "ipython",
    "version": 3
   },
   "file_extension": ".py",
   "mimetype": "text/x-python",
   "name": "python",
   "nbconvert_exporter": "python",
   "pygments_lexer": "ipython3",
   "version": "3.11.3"
  }
 },
 "nbformat": 4,
 "nbformat_minor": 5
}
