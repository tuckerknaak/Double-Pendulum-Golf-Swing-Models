{
 "cells": [
  {
   "cell_type": "markdown",
   "id": "2358d978",
   "metadata": {},
   "source": [
    "# Double Pendulum Golf Swings - Numerical Method Comparison\n",
    "\n",
    "## Tucker Knaak - Department of Physics, Creighton University - 2022/2024\n",
    "\n",
    "#### The Lagrangians for Phase 2 of the Double Pendulum Golf Swings with a constant hub are implicit with respect to time.  Therefore, we expect the total energy of the system to be conserved.  The Lagrangians for Phase 2 of the Double Pendulum Golf Swings with an accelerating hub are explicit with respect to time.  Therefore, we expect the total energy of the system not to be conserved.\n",
    "\n",
    "#### The equations of motion for Phase 2 of the Double Pendulum Golf Swings have velocity-dependent accelerations.  Therefore, the typical numerical methods for solving systems of equations may not produce accurate results since they calculate accelerations based on position only.\n",
    "\n",
    "#### This code is used to compare four numerical methods for solving the equations of motion for Phase 2 of the downswing for both the 2D Planar and 3D Non-Planar Double Pendulum Golf Swings for various initial conditions.  The algorithm which best conserves the total energy of the system will determine the algorithm used in the subsequent investigations of the Double Pendulum Golf Swings."
   ]
  },
  {
   "cell_type": "markdown",
   "id": "3e5b139e",
   "metadata": {},
   "source": [
    "#### This cell defines a function to calculate the area under the curve of total energy versus time between release and impact with a right Riemann sum."
   ]
  },
  {
   "cell_type": "code",
   "execution_count": null,
   "id": "6732f347",
   "metadata": {},
   "outputs": [],
   "source": [
    "'''Function to calculate the area under the curve with a right Riemann sum'''\n",
    "def integrate(x: list, y: list):\n",
    "    area = 0\n",
    "    for index in range(len(x) - 1):\n",
    "        dx = x[index + 1] - x[index]\n",
    "        h = y[index + 1]\n",
    "        area += h * dx\n",
    "    return area"
   ]
  },
  {
   "cell_type": "markdown",
   "id": "c11493bd",
   "metadata": {},
   "source": [
    "#### This cell runs the Jupyter notebook containing the Downswing3D classes used to model the 2D Planar and the 3D Non-Planar Double Pendulum Golf Swings for each numerical method."
   ]
  },
  {
   "cell_type": "code",
   "execution_count": null,
   "id": "0d673dd2",
   "metadata": {},
   "outputs": [],
   "source": [
    "%run RungeKutta.ipynb\n",
    "%run VelocityVerlet.ipynb\n",
    "%run Yoshida.ipynb\n",
    "%run YoshidaPC.ipynb"
   ]
  },
  {
   "cell_type": "markdown",
   "id": "0643084f",
   "metadata": {},
   "source": [
    "#### This cell sets the parameters of the golfer and the initial conditions for the 2D Planar Double Pendulum Golf Swing."
   ]
  },
  {
   "cell_type": "code",
   "execution_count": null,
   "id": "785645e5",
   "metadata": {},
   "outputs": [],
   "source": [
    "'''Parameters of the golfer'''\n",
    "r1 = 0.700   #length of the golfer's arms [m]\n",
    "m1 = 7.000   #mass of the golfer's arms [kg]\n",
    "r2 = 1.156   #length of the golf club [m]\n",
    "m2 = 0.310   #mass of the golf club [kg]\n",
    "tau_b = 225  #torque of the body [N * m]\n",
    "\n",
    "'''Initial conditions'''\n",
    "phi1_0 = np.radians(0)       #angle of the golfer's arms ccw from the y-axis in the xy-plane [rad]\n",
    "phi2_0 = np.radians(270)     #angle of the golf club ccw from the y-axis in the xy-plane [rad]\n",
    "theta1_0 = np.radians(0)     #angle of the golfer's arms ccw from the y-axis in the yz-plane [rad]\n",
    "theta2_0 = np.radians(0)     #angle of the golf club ccw from the y-axis in the yz-plane [rad]\n",
    "theta2dot_0 = np.radians(0)  #angular velocity of the golf club ccw from the y-axis in the yz-plane [rad / s]"
   ]
  },
  {
   "cell_type": "markdown",
   "id": "b016ac39",
   "metadata": {},
   "source": [
    "#### The following cells solve the equations of motion, plot the relevant data, and animate the golf swing for both a 2D Planar constant hub and an accelerating hub model for the Runge Kutta algorithm."
   ]
  },
  {
   "cell_type": "code",
   "execution_count": null,
   "id": "c5aa1385",
   "metadata": {},
   "outputs": [],
   "source": [
    "'''Constant Hub'''\n",
    "CH_RK4_2D = Downswing3D_RK4('2D_CH_RK4')\n",
    "CH_RK4_2D.golfer(r1, m1, r2, m2)\n",
    "CH_RK4_2D.solve_odes('c', 0.0, tau_b, phi1_0, phi2_0, theta1_0, theta2_0, theta2dot_0)\n",
    "CH_RK4_2D.print_data()\n",
    "CH_RK4_2D.plot_data('Runge Kutta')"
   ]
  },
  {
   "cell_type": "code",
   "execution_count": null,
   "id": "59622d66",
   "metadata": {},
   "outputs": [],
   "source": [
    "CH_RK4_2D.animate_swing()\n",
    "CH_RK4_2D.still_shot()"
   ]
  },
  {
   "cell_type": "code",
   "execution_count": null,
   "id": "1c13889a",
   "metadata": {},
   "outputs": [],
   "source": [
    "'''Accelerating Hub'''\n",
    "AH_RK4_2D = Downswing3D_RK4('2D_AH_RK4')\n",
    "AH_RK4_2D.golfer(r1, m1, r2, m2)\n",
    "AH_RK4_2D.solve_odes('a', 0.75, tau_b, phi1_0, phi2_0, theta1_0, theta2_0, theta2dot_0)\n",
    "AH_RK4_2D.print_data()\n",
    "AH_RK4_2D.plot_data('Runge Kutta')"
   ]
  },
  {
   "cell_type": "code",
   "execution_count": null,
   "id": "6c66cd10",
   "metadata": {},
   "outputs": [],
   "source": [
    "AH_RK4_2D.animate_swing()\n",
    "AH_RK4_2D.still_shot()"
   ]
  },
  {
   "cell_type": "markdown",
   "id": "287405bd",
   "metadata": {},
   "source": [
    "#### The following cells solve the equations of motion, plot the relevant data, and animate the golf swing for both a 2D Planar constant hub and an accelerating hub model for the Velocity Verlet algorithm."
   ]
  },
  {
   "cell_type": "code",
   "execution_count": null,
   "id": "c2f6ae2b",
   "metadata": {},
   "outputs": [],
   "source": [
    "'''Constant Hub'''\n",
    "CH_VV_2D = Downswing3D_VV('2D_CH_VV')\n",
    "CH_VV_2D.golfer(r1, m1, r2, m2)\n",
    "CH_VV_2D.solve_odes('c', 0.0, tau_b, phi1_0, phi2_0, theta1_0, theta2_0, theta2dot_0)\n",
    "CH_VV_2D.print_data()\n",
    "CH_VV_2D.plot_data('Velocity Verlet')"
   ]
  },
  {
   "cell_type": "code",
   "execution_count": null,
   "id": "38222c80",
   "metadata": {},
   "outputs": [],
   "source": [
    "CH_VV_2D.animate_swing()\n",
    "CH_VV_2D.still_shot()"
   ]
  },
  {
   "cell_type": "code",
   "execution_count": null,
   "id": "05f67d5e",
   "metadata": {},
   "outputs": [],
   "source": [
    "'''Accelerating Hub'''\n",
    "AH_VV_2D = Downswing3D_VV('2D_AH_VV')\n",
    "AH_VV_2D.golfer(r1, m1, r2, m2)\n",
    "AH_VV_2D.solve_odes('a', 0.75, tau_b, phi1_0, phi2_0, theta1_0, theta2_0, theta2dot_0)\n",
    "AH_VV_2D.print_data()\n",
    "AH_VV_2D.plot_data('Velocity Verlet')"
   ]
  },
  {
   "cell_type": "code",
   "execution_count": null,
   "id": "2f9962c4",
   "metadata": {},
   "outputs": [],
   "source": [
    "AH_VV_2D.animate_swing()\n",
    "AH_VV_2D.still_shot()"
   ]
  },
  {
   "cell_type": "markdown",
   "id": "821ce7f5",
   "metadata": {},
   "source": [
    "#### The following cells solve the equations of motion, plot the relevant data, and animate the golf swing for both a 2D Planar constant hub and an accelerating hub model for the Yoshida algorithm."
   ]
  },
  {
   "cell_type": "code",
   "execution_count": null,
   "id": "1a618f67",
   "metadata": {},
   "outputs": [],
   "source": [
    "'''Constant Hub'''\n",
    "CH_Y_2D = Downswing3D_Y('2D_CH_Y')\n",
    "CH_Y_2D.golfer(r1, m1, r2, m2)\n",
    "CH_Y_2D.solve_odes('c', 0.0, tau_b, phi1_0, phi2_0, theta1_0, theta2_0, theta2dot_0)\n",
    "CH_Y_2D.print_data()\n",
    "CH_Y_2D.plot_data('Yoshida')"
   ]
  },
  {
   "cell_type": "code",
   "execution_count": null,
   "id": "8ce0c0a1",
   "metadata": {},
   "outputs": [],
   "source": [
    "CH_Y_2D.animate_swing()\n",
    "CH_Y_2D.still_shot()"
   ]
  },
  {
   "cell_type": "code",
   "execution_count": null,
   "id": "e7b800eb",
   "metadata": {},
   "outputs": [],
   "source": [
    "'''Accelerating Hub'''\n",
    "AH_Y_2D = Downswing3D_Y('2D_AH_Y')\n",
    "AH_Y_2D.golfer(r1, m1, r2, m2)\n",
    "AH_Y_2D.solve_odes('a', 0.75, tau_b, phi1_0, phi2_0, theta1_0, theta2_0, theta2dot_0)\n",
    "AH_Y_2D.print_data()\n",
    "AH_Y_2D.plot_data('Yoshida')"
   ]
  },
  {
   "cell_type": "code",
   "execution_count": null,
   "id": "12df2753",
   "metadata": {},
   "outputs": [],
   "source": [
    "AH_Y_2D.animate_swing()\n",
    "AH_Y_2D.still_shot()"
   ]
  },
  {
   "cell_type": "markdown",
   "id": "a4180bb0",
   "metadata": {},
   "source": [
    "#### The following cells solve the equations of motion, plot the relevant data, and animate the golf swing for both a 2D Planar constant hub and an accelerating hub model for the Yoshida Predictor-Corrector algorithm."
   ]
  },
  {
   "cell_type": "code",
   "execution_count": null,
   "id": "2054cda3",
   "metadata": {},
   "outputs": [],
   "source": [
    "'''Constant Hub'''\n",
    "CH_YPC_2D = Downswing3D_YPC('2D_CH_YPC')\n",
    "CH_YPC_2D.golfer(r1, m1, r2, m2)\n",
    "CH_YPC_2D.solve_odes('c', 0.0, tau_b, phi1_0, phi2_0, theta1_0, theta2_0, theta2dot_0)\n",
    "CH_YPC_2D.print_data()\n",
    "CH_YPC_2D.plot_data('Yoshida PC')"
   ]
  },
  {
   "cell_type": "code",
   "execution_count": null,
   "id": "6e65e264",
   "metadata": {},
   "outputs": [],
   "source": [
    "CH_YPC_2D.animate_swing()\n",
    "CH_YPC_2D.still_shot()"
   ]
  },
  {
   "cell_type": "code",
   "execution_count": null,
   "id": "ac3ed883",
   "metadata": {},
   "outputs": [],
   "source": [
    "'''Accelerating Hub'''\n",
    "AH_YPC_2D = Downswing3D_YPC('2D_AH_YPC')\n",
    "AH_YPC_2D.golfer(r1, m1, r2, m2)\n",
    "AH_YPC_2D.solve_odes('a', 0.75, tau_b, phi1_0, phi2_0, theta1_0, theta2_0, theta2dot_0)\n",
    "AH_YPC_2D.print_data()\n",
    "AH_YPC_2D.plot_data('Yoshida PC')"
   ]
  },
  {
   "cell_type": "code",
   "execution_count": null,
   "id": "134277b8",
   "metadata": {},
   "outputs": [],
   "source": [
    "AH_YPC_2D.animate_swing()\n",
    "AH_YPC_2D.still_shot()"
   ]
  },
  {
   "cell_type": "markdown",
   "id": "cb4e45c1",
   "metadata": {},
   "source": [
    "#### This cell compares the total energy and relevant data of the Runge Kutta, Velocity Verlet, and Yoshida algorithms with a constant hub."
   ]
  },
  {
   "cell_type": "code",
   "execution_count": null,
   "id": "d7ad6950",
   "metadata": {},
   "outputs": [],
   "source": [
    "'''Create table, columns, and colors'''\n",
    "table = []\n",
    "columns = ['Model', 'A.o.A', 'Club Path', 'SS - Impact [m/s]', 'SS - Max [m/s]', 'Area [J\\u00B7s]']\n",
    "cell_colors = []\n",
    "\n",
    "'''Models and labels'''\n",
    "models = [CH_RK4_2D, CH_VV_2D, CH_Y_2D]\n",
    "labels = ['Runge Kutta', 'Velocity Verlet', 'Yoshida']\n",
    "colors = ['red', 'blue', 'green']\n",
    "\n",
    "'''Create lists of relevant data for each model'''\n",
    "aoas = [model.aoa for model in models]\n",
    "club_paths = [model.club_path for model in models]\n",
    "t_impacts = [model.t_impact for model in models]\n",
    "ss_impacts = [model.ss_impact for model in models]\n",
    "totale_impacts = [model.totale_points[model.num_steps_impact] for model in models]\n",
    "t_ss_maxes = [model.t_ss_max for model in models]\n",
    "ss_maxes = [model.ss_max for model in models]\n",
    "areas = [integrate(model.t_points[model.num_steps_release : model.num_steps_impact + 1],\n",
    "         model.totale_points[model.num_steps_release : model.num_steps_impact + 1]) for model in models]\n",
    "\n",
    "'''Create figure'''\n",
    "fig1, ax1 = plt.subplots(figsize = (9, 5))\n",
    "fig2, ax2 = plt.subplots(figsize = (9, 5))\n",
    "fig1.tight_layout(pad = 2)\n",
    "fig2.tight_layout(pad = 2)\n",
    "\n",
    "'''First figure --> Plot of total energy'''\n",
    "ax1.set_xlabel('$t$ [s]')\n",
    "ax1.set_ylabel('Energy [J]')\n",
    "ax1.set_title('Numerical Method Comparison - Total Energy - 2D Constant Hub')\n",
    "ax1.grid(True, linestyle = 'dashed', color = 'darkgray', alpha = 0.25)\n",
    "for index, model in enumerate(models):\n",
    "    ax1.plot(model.t_points, model.totale_points, linestyle = 'solid', color = colors[index], label = labels[index])\n",
    "    ax1.plot(t_impacts[index], totale_impacts[index], 'ko', markersize = 4, zorder = 10)\n",
    "ax1.plot([], [], 'ko', markersize = 4, label = 'Impact')\n",
    "legend = ax1.legend(loc = 'upper left', fancybox = False)\n",
    "frame = legend.get_frame()\n",
    "frame.set_facecolor('white')\n",
    "frame.set_edgecolor('black')\n",
    "frame.set_linewidth(1)\n",
    "fig1.savefig('c:/Users/Tucker Knaak/Downloads/2D_CH_NumericalMethods_noYPC_plot.png', bbox_inches = 'tight')\n",
    "\n",
    "'''Second figure --> Table of relevant data'''\n",
    "ax2.axis('off')\n",
    "for index, model in enumerate(models):\n",
    "    area_color = 'limegreen' if areas[index] == min(areas) else 'white'\n",
    "    ss_impact_color = 'limegreen' if ss_impacts[index] == max(ss_impacts) else 'white'\n",
    "    ss_max_color = 'limegreen' if ss_maxes[index] == max(ss_maxes) else 'white'\n",
    "    row = [labels[index], f'{aoas[index]}\\u00B0', f'{club_paths[index]}\\u00B0',\n",
    "           '{ss:.2f} ({time}s)'.format(ss = ss_impacts[index], time = t_impacts[index]),\n",
    "           '{ss:.2f} ({time}s)'.format(ss = ss_maxes[index], time = t_ss_maxes[index]),\n",
    "           f'{areas[index]:.2f}$\\,$J\\u00B7s']\n",
    "    cell_color = [colors[index], 'white', 'white', ss_impact_color, ss_max_color, area_color]\n",
    "    table.append(row)\n",
    "    cell_colors.append(cell_color)\n",
    "the_table = ax2.table(cellText = table, colLabels = columns, cellColours = cell_colors, loc = 'center', cellLoc = 'center')\n",
    "the_table.scale(1.25, 2.25)\n",
    "fig2.savefig('c:/Users/Tucker Knaak/Downloads/2D_CH_NumericalMethods_noYPC_table.png', bbox_inches = 'tight')"
   ]
  },
  {
   "cell_type": "markdown",
   "id": "5c5fbc0e",
   "metadata": {},
   "source": [
    "#### This cell compares the total energy and relevant data of the Runge Kutta, Velocity Verlet, and Yoshida algorithms with an accelerating hub."
   ]
  },
  {
   "cell_type": "code",
   "execution_count": null,
   "id": "94b9e4f0",
   "metadata": {},
   "outputs": [],
   "source": [
    "'''Create table, columns, and colors'''\n",
    "table = []\n",
    "columns = ['Model', 'A.o.A', 'Club Path', 'SS - Impact [m/s]', 'SS - Max [m/s]', 'Area [J\\u00B7s]']\n",
    "cell_colors = []\n",
    "\n",
    "'''Models and labels'''\n",
    "models = [AH_RK4_2D, AH_VV_2D, AH_Y_2D]\n",
    "labels = ['Runge Kutta', 'Velocity Verlet', 'Yoshida']\n",
    "colors = ['red', 'blue', 'green']\n",
    "\n",
    "'''Create lists of relevant data for each model'''\n",
    "aoas = [model.aoa for model in models]\n",
    "club_paths = [model.club_path for model in models]\n",
    "t_impacts = [model.t_impact for model in models]\n",
    "ss_impacts = [model.ss_impact for model in models]\n",
    "totale_impacts = [model.totale_points[model.num_steps_impact] for model in models]\n",
    "t_ss_maxes = [model.t_ss_max for model in models]\n",
    "ss_maxes = [model.ss_max for model in models]\n",
    "areas = [integrate(model.t_points[model.num_steps_release : model.num_steps_impact + 1],\n",
    "         model.totale_points[model.num_steps_release : model.num_steps_impact + 1]) for model in models]\n",
    "\n",
    "'''Create figure'''\n",
    "fig1, ax1 = plt.subplots(figsize = (9, 5))\n",
    "fig2, ax2 = plt.subplots(figsize = (9, 5))\n",
    "fig1.tight_layout(pad = 2)\n",
    "fig2.tight_layout(pad = 2)\n",
    "\n",
    "'''First figure --> Plot of total energy'''\n",
    "ax1.set_xlabel('$t$ [s]')\n",
    "ax1.set_ylabel('Energy [J]')\n",
    "ax1.set_title('Numerical Method Comparison - Total Energy - 2D Accelerating Hub')\n",
    "ax1.grid(True, linestyle = 'dashed', color = 'darkgray', alpha = 0.25)\n",
    "for index, model in enumerate(models):\n",
    "    ax1.plot(model.t_points, model.totale_points, linestyle = 'solid', color = colors[index], label = labels[index])\n",
    "    ax1.plot(t_impacts[index], totale_impacts[index], 'ko', markersize = 4, zorder = 10)\n",
    "ax1.plot([], [], 'ko', markersize = 4, label = 'Impact')\n",
    "legend = ax1.legend(loc = 'upper left', fancybox = False)\n",
    "frame = legend.get_frame()\n",
    "frame.set_facecolor('white')\n",
    "frame.set_edgecolor('black')\n",
    "frame.set_linewidth(1)\n",
    "fig1.savefig('c:/Users/Tucker Knaak/Downloads/2D_AH_NumericalMethods_noYPC_plot.png', bbox_inches = 'tight')\n",
    "\n",
    "'''Second figure --> Table of relevant data'''\n",
    "ax2.axis('off')\n",
    "for index, model in enumerate(models):\n",
    "    area_color = 'limegreen' if areas[index] == min(areas) else 'white'\n",
    "    ss_impact_color = 'limegreen' if ss_impacts[index] == max(ss_impacts) else 'white'\n",
    "    ss_max_color = 'limegreen' if ss_maxes[index] == max(ss_maxes) else 'white'\n",
    "    row = [labels[index], f'{aoas[index]}\\u00B0', f'{club_paths[index]}\\u00B0',\n",
    "           '{ss:.2f} ({time}s)'.format(ss = ss_impacts[index], time = t_impacts[index]),\n",
    "           '{ss:.2f} ({time}s)'.format(ss = ss_maxes[index], time = t_ss_maxes[index]),\n",
    "           f'{areas[index]:.2f}$\\,$J\\u00B7s']\n",
    "    cell_color = [colors[index], 'white', 'white', ss_impact_color, ss_max_color, area_color]\n",
    "    table.append(row)\n",
    "    cell_colors.append(cell_color)\n",
    "the_table = ax2.table(cellText = table, colLabels = columns, cellColours = cell_colors, loc = 'center', cellLoc = 'center')\n",
    "the_table.scale(1.25, 2.25)\n",
    "fig2.savefig('c:/Users/Tucker Knaak/Downloads/2D_AH_NumericalMethods_noYPC_table.png', bbox_inches = 'tight')"
   ]
  },
  {
   "cell_type": "markdown",
   "id": "232ef75c",
   "metadata": {},
   "source": [
    "#### This cell compares the total energy and relevant data of the Runge Kutta, Velocity Verlet, Yoshida, and Yoshida Predictor-Corrector algorithms with a constant hub."
   ]
  },
  {
   "cell_type": "code",
   "execution_count": null,
   "id": "85005308",
   "metadata": {},
   "outputs": [],
   "source": [
    "'''Create table, columns, and colors'''\n",
    "table = []\n",
    "columns = ['Model', 'A.o.A', 'Club Path', 'SS - Impact [m/s]', 'SS - Max [m/s]', 'Area [J\\u00B7s]']\n",
    "cell_colors = []\n",
    "\n",
    "'''Models and labels'''\n",
    "models = [CH_RK4_2D, CH_VV_2D, CH_Y_2D, CH_YPC_2D]\n",
    "labels = ['Runge Kutta', 'Velocity Verlet', 'Yoshida', 'Yoshida PC']\n",
    "colors = ['red', 'blue', 'green', 'black']\n",
    "\n",
    "'''Create lists of relevant data for each model'''\n",
    "aoas = [model.aoa for model in models]\n",
    "club_paths = [model.club_path for model in models]\n",
    "t_impacts = [model.t_impact for model in models]\n",
    "ss_impacts = [model.ss_impact for model in models]\n",
    "totale_impacts = [model.totale_points[model.num_steps_impact] for model in models]\n",
    "t_ss_maxes = [model.t_ss_max for model in models]\n",
    "ss_maxes = [model.ss_max for model in models]\n",
    "areas = [integrate(model.t_points[model.num_steps_release : model.num_steps_impact + 1],\n",
    "         model.totale_points[model.num_steps_release : model.num_steps_impact + 1]) for model in models]\n",
    "\n",
    "'''Create figure'''\n",
    "fig1, ax1 = plt.subplots(figsize = (9, 5))\n",
    "fig2, ax2 = plt.subplots(figsize = (9, 5))\n",
    "fig1.tight_layout(pad = 2)\n",
    "fig2.tight_layout(pad = 2)\n",
    "\n",
    "'''First figure --> Plot of total energy'''\n",
    "ax1.set_xlabel('$t$ [s]')\n",
    "ax1.set_ylabel('Energy [J]')\n",
    "ax1.set_title('Numerical Method Comparison - Total Energy - 2D Constant Hub')\n",
    "ax1.grid(True, linestyle = 'dashed', color = 'darkgray', alpha = 0.25)\n",
    "for index, model in enumerate(models):\n",
    "    ax1.plot(model.t_points, model.totale_points, linestyle = 'solid', color = colors[index], label = labels[index])\n",
    "    ax1.plot(t_impacts[index], totale_impacts[index], 'ko', markersize = 4, zorder = 10)\n",
    "ax1.plot([], [], 'ko', markersize = 4, label = 'Impact')\n",
    "legend = ax1.legend(loc = 'upper left', fancybox = False)\n",
    "frame = legend.get_frame()\n",
    "frame.set_facecolor('white')\n",
    "frame.set_edgecolor('black')\n",
    "frame.set_linewidth(1)\n",
    "fig1.savefig('c:/Users/Tucker Knaak/Downloads/2D_CH_NumericalMethods_plot.png', bbox_inches = 'tight')\n",
    "\n",
    "'''Second figure --> Table of relevant data'''\n",
    "ax2.axis('off')\n",
    "for index, model in enumerate(models):\n",
    "    model_color = colors[index] if index != 3 else 'white'\n",
    "    area_color = 'limegreen' if areas[index] == min(areas) else 'white'\n",
    "    ss_impact_color = 'limegreen' if ss_impacts[index] == max(ss_impacts) else 'white'\n",
    "    ss_max_color = 'limegreen' if ss_maxes[index] == max(ss_maxes) else 'white'\n",
    "    row = [labels[index], f'{aoas[index]}\\u00B0', f'{club_paths[index]}\\u00B0',\n",
    "           '{ss:.2f} ({time}s)'.format(ss = ss_impacts[index], time = t_impacts[index]),\n",
    "           '{ss:.2f} ({time}s)'.format(ss = ss_maxes[index], time = t_ss_maxes[index]),\n",
    "           f'{areas[index]:.2f}$\\,$J\\u00B7s']\n",
    "    cell_color = [model_color, 'white', 'white', ss_impact_color, ss_max_color, area_color]\n",
    "    table.append(row)\n",
    "    cell_colors.append(cell_color)\n",
    "the_table = ax2.table(cellText = table, colLabels = columns, cellColours = cell_colors, loc = 'center', cellLoc = 'center')\n",
    "the_table.scale(1.25, 2.25)\n",
    "fig2.savefig('c:/Users/Tucker Knaak/Downloads/2D_CH_NumericalMethods_table.png', bbox_inches = 'tight')"
   ]
  },
  {
   "cell_type": "markdown",
   "id": "b519257a",
   "metadata": {},
   "source": [
    "#### This cell compares the total energy and relevant data of the Runge Kutta, Velocity Verlet, Yoshida, and Yoshida Predictor-Corrector algorithms with an accelerating hub."
   ]
  },
  {
   "cell_type": "code",
   "execution_count": null,
   "id": "9b29bc56",
   "metadata": {},
   "outputs": [],
   "source": [
    "'''Create table, columns, and colors'''\n",
    "table = []\n",
    "columns = ['Model', 'A.o.A', 'Club Path', 'SS - Impact [m/s]', 'SS - Max [m/s]', 'Area [J\\u00B7s]']\n",
    "cell_colors = []\n",
    "\n",
    "'''Models and labels'''\n",
    "models = [AH_RK4_2D, AH_VV_2D, AH_Y_2D, AH_YPC_2D]\n",
    "labels = ['Runge Kutta', 'Velocity Verlet', 'Yoshida', 'Yoshida PC']\n",
    "colors = ['red', 'blue', 'green', 'black']\n",
    "\n",
    "'''Create lists of relevant data for each model'''\n",
    "aoas = [model.aoa for model in models]\n",
    "club_paths = [model.club_path for model in models]\n",
    "t_impacts = [model.t_impact for model in models]\n",
    "ss_impacts = [model.ss_impact for model in models]\n",
    "totale_impacts = [model.totale_points[model.num_steps_impact] for model in models]\n",
    "t_ss_maxes = [model.t_ss_max for model in models]\n",
    "ss_maxes = [model.ss_max for model in models]\n",
    "areas = [integrate(model.t_points[model.num_steps_release : model.num_steps_impact + 1],\n",
    "         model.totale_points[model.num_steps_release : model.num_steps_impact + 1]) for model in models]\n",
    "\n",
    "'''Create figure'''\n",
    "fig1, ax1 = plt.subplots(figsize = (9, 5))\n",
    "fig2, ax2 = plt.subplots(figsize = (9, 5))\n",
    "fig1.tight_layout(pad = 2)\n",
    "fig2.tight_layout(pad = 2)\n",
    "\n",
    "'''First figure --> Plot of total energy'''\n",
    "ax1.set_xlabel('$t$ [s]')\n",
    "ax1.set_ylabel('Energy [J]')\n",
    "ax1.set_title('Numerical Method Comparison - Total Energy - 2D Accelerating Hub')\n",
    "ax1.grid(True, linestyle = 'dashed', color = 'darkgray', alpha = 0.25)\n",
    "for index, model in enumerate(models):\n",
    "    ax1.plot(model.t_points, model.totale_points, linestyle = 'solid', color = colors[index], label = labels[index])\n",
    "    ax1.plot(t_impacts[index], totale_impacts[index], 'ko', markersize = 4, zorder = 10)\n",
    "ax1.plot([], [], 'ko', markersize = 4, label = 'Impact')\n",
    "legend = ax1.legend(loc = 'upper left', fancybox = False)\n",
    "frame = legend.get_frame()\n",
    "frame.set_facecolor('white')\n",
    "frame.set_edgecolor('black')\n",
    "frame.set_linewidth(1)\n",
    "fig1.savefig('c:/Users/Tucker Knaak/Downloads/2D_AH_NumericalMethods_plot.png', bbox_inches = 'tight')\n",
    "\n",
    "'''Second figure --> Table of relevant data'''\n",
    "ax2.axis('off')\n",
    "for index, model in enumerate(models):\n",
    "    model_color = colors[index] if index != 3 else 'white'\n",
    "    area_color = 'limegreen' if areas[index] == min(areas) else 'white'\n",
    "    ss_impact_color = 'limegreen' if ss_impacts[index] == max(ss_impacts) else 'white'\n",
    "    ss_max_color = 'limegreen' if ss_maxes[index] == max(ss_maxes) else 'white'\n",
    "    row = [labels[index], f'{aoas[index]}\\u00B0', f'{club_paths[index]}\\u00B0',\n",
    "           '{ss:.2f} ({time}s)'.format(ss = ss_impacts[index], time = t_impacts[index]),\n",
    "           '{ss:.2f} ({time}s)'.format(ss = ss_maxes[index], time = t_ss_maxes[index]),\n",
    "           f'{areas[index]:.2f}$\\,$J\\u00B7s']\n",
    "    cell_color = [model_color, 'white', 'white', ss_impact_color, ss_max_color, area_color]\n",
    "    table.append(row)\n",
    "    cell_colors.append(cell_color)\n",
    "the_table = ax2.table(cellText = table, colLabels = columns, cellColours = cell_colors, loc = 'center', cellLoc = 'center')\n",
    "the_table.scale(1.25, 2.25)\n",
    "fig2.savefig('c:/Users/Tucker Knaak/Downloads/2D_AH_NumericalMethods_table.png', bbox_inches = 'tight')"
   ]
  },
  {
   "cell_type": "markdown",
   "id": "d36d9798",
   "metadata": {},
   "source": [
    "#### This cell sets the parameters of the golfer and the initial conditions for the 3D Non-Planar Double Pendulum Golf Swing."
   ]
  },
  {
   "cell_type": "code",
   "execution_count": null,
   "id": "267bf023",
   "metadata": {},
   "outputs": [],
   "source": [
    "'''Parameters of the golfer'''\n",
    "r1 = 0.700   #length of the golfer's arms [m]\n",
    "m1 = 7.000   #mass of the golfer's arms [kg]\n",
    "r2 = 1.156   #length of the golf club [m]\n",
    "m2 = 0.310   #mass of the golf club [kg]\n",
    "tau_b = 225  #torque of the body [N * m]\n",
    "\n",
    "'''Initial conditions'''\n",
    "phi1_0 = np.radians(0)        #angle of the golfer's arms ccw from the y-axis in the xy-plane [rad]\n",
    "phi2_0 = np.radians(270)      #angle of the golf club ccw from the y-axis in the xy-plane [rad]\n",
    "theta1_0 = np.radians(30)     #angle of the golfer's arms ccw from the y-axis in the yz-plane [rad]\n",
    "theta2_0 = np.radians(0)      #angle of the golf club ccw from the y-axis in the yz-plane [rad]\n",
    "theta2dot_0 = np.radians(90)  #angular velocity of the golf club ccw from the y-axis in the yz-plane [rad / s]"
   ]
  },
  {
   "cell_type": "markdown",
   "id": "0ae96cb2",
   "metadata": {},
   "source": [
    "#### The following cells solve the equations of motion, plot the relevant data, and animate the golf swing for both a 3D Non-Planar constant hub and an accelerating hub model for the Runge Kutta algorithm."
   ]
  },
  {
   "cell_type": "code",
   "execution_count": null,
   "id": "8d8bd849",
   "metadata": {},
   "outputs": [],
   "source": [
    "'''Constant Hub'''\n",
    "CH_RK4_3D = Downswing3D_RK4('3D_CH_RK4')\n",
    "CH_RK4_3D.golfer(r1, m1, r2, m2)\n",
    "CH_RK4_3D.solve_odes('c', 0.0, tau_b, phi1_0, phi2_0, theta1_0, theta2_0, theta2dot_0)\n",
    "CH_RK4_3D.print_data()\n",
    "CH_RK4_3D.plot_data('Runge Kutta')"
   ]
  },
  {
   "cell_type": "code",
   "execution_count": null,
   "id": "8aab664e",
   "metadata": {},
   "outputs": [],
   "source": [
    "CH_RK4_3D.animate_swing()\n",
    "CH_RK4_3D.still_shot()"
   ]
  },
  {
   "cell_type": "code",
   "execution_count": null,
   "id": "62ad52ad",
   "metadata": {},
   "outputs": [],
   "source": [
    "'''Accelerating Hub'''\n",
    "AH_RK4_3D = Downswing3D_RK4('3D_AH_RK4')\n",
    "AH_RK4_3D.golfer(r1, m1, r2, m2)\n",
    "AH_RK4_3D.solve_odes('a', 0.75, tau_b, phi1_0, phi2_0, theta1_0, theta2_0, theta2dot_0)\n",
    "AH_RK4_3D.print_data()\n",
    "AH_RK4_3D.plot_data('Runge Kutta')"
   ]
  },
  {
   "cell_type": "code",
   "execution_count": null,
   "id": "f4dedaec",
   "metadata": {},
   "outputs": [],
   "source": [
    "AH_RK4_3D.animate_swing()\n",
    "AH_RK4_3D.still_shot()"
   ]
  },
  {
   "cell_type": "markdown",
   "id": "83c3e496",
   "metadata": {},
   "source": [
    "#### The following cells solve the equations of motion, plot the relevant data, and animate the golf swing for both a 3D Non-Planar constant hub and an accelerating hub model for the Velocity Verlet algorithm."
   ]
  },
  {
   "cell_type": "code",
   "execution_count": null,
   "id": "24fb7fe5",
   "metadata": {},
   "outputs": [],
   "source": [
    "'''Constant Hub'''\n",
    "CH_VV_3D = Downswing3D_VV('3D_CH_VV')\n",
    "CH_VV_3D.golfer(r1, m1, r2, m2)\n",
    "CH_VV_3D.solve_odes('c', 0.0, tau_b, phi1_0, phi2_0, theta1_0, theta2_0, theta2dot_0)\n",
    "CH_VV_3D.print_data()\n",
    "CH_VV_3D.plot_data('Velocity Verlet')"
   ]
  },
  {
   "cell_type": "code",
   "execution_count": null,
   "id": "9397aa1a",
   "metadata": {},
   "outputs": [],
   "source": [
    "CH_VV_3D.animate_swing()\n",
    "CH_VV_3D.still_shot()"
   ]
  },
  {
   "cell_type": "code",
   "execution_count": null,
   "id": "2513d9d8",
   "metadata": {},
   "outputs": [],
   "source": [
    "'''Accelerating Hub'''\n",
    "AH_VV_3D = Downswing3D_VV('3D_AH_VV')\n",
    "AH_VV_3D.golfer(r1, m1, r2, m2)\n",
    "AH_VV_3D.solve_odes('a', 0.75, tau_b, phi1_0, phi2_0, theta1_0, theta2_0, theta2dot_0)\n",
    "AH_VV_3D.print_data()\n",
    "AH_VV_3D.plot_data('Velocity Verlet')"
   ]
  },
  {
   "cell_type": "code",
   "execution_count": null,
   "id": "eeee98f2",
   "metadata": {},
   "outputs": [],
   "source": [
    "AH_VV_3D.animate_swing()\n",
    "AH_VV_3D.still_shot()"
   ]
  },
  {
   "cell_type": "markdown",
   "id": "48227b9d",
   "metadata": {},
   "source": [
    "#### The following cells solve the equations of motion, plot the relevant data, and animate the golf swing for both a 3D Non-Planar constant hub and an accelerating hub model for the Yoshida algorithm."
   ]
  },
  {
   "cell_type": "code",
   "execution_count": null,
   "id": "44cb9d7d",
   "metadata": {},
   "outputs": [],
   "source": [
    "'''Constant Hub'''\n",
    "CH_Y_3D = Downswing3D_Y('3D_CH_Y')\n",
    "CH_Y_3D.golfer(r1, m1, r2, m2)\n",
    "CH_Y_3D.solve_odes('c', 0.0, tau_b, phi1_0, phi2_0, theta1_0, theta2_0, theta2dot_0)\n",
    "CH_Y_3D.print_data()\n",
    "CH_Y_3D.plot_data('Yoshida')"
   ]
  },
  {
   "cell_type": "code",
   "execution_count": null,
   "id": "7ea4d6e9",
   "metadata": {},
   "outputs": [],
   "source": [
    "CH_Y_3D.animate_swing()\n",
    "CH_Y_3D.still_shot()"
   ]
  },
  {
   "cell_type": "code",
   "execution_count": null,
   "id": "78b83939",
   "metadata": {},
   "outputs": [],
   "source": [
    "'''Accelerating Hub'''\n",
    "AH_Y_3D = Downswing3D_Y('3D_AH_Y')\n",
    "AH_Y_3D.golfer(r1, m1, r2, m2)\n",
    "AH_Y_3D.solve_odes('a', 0.75, tau_b, phi1_0, phi2_0, theta1_0, theta2_0, theta2dot_0)\n",
    "AH_Y_3D.print_data()\n",
    "AH_Y_3D.plot_data('Yoshida')"
   ]
  },
  {
   "cell_type": "code",
   "execution_count": null,
   "id": "ed3a66f0",
   "metadata": {},
   "outputs": [],
   "source": [
    "AH_Y_3D.animate_swing()\n",
    "AH_Y_3D.still_shot()"
   ]
  },
  {
   "cell_type": "markdown",
   "id": "7547070a",
   "metadata": {},
   "source": [
    "#### The following cells solve the equations of motion, plot the relevant data, and animate the golf swing for both a 3D Non-Planar constant hub and an accelerating hub model for the Yoshida Predictor-Corrector algorithm."
   ]
  },
  {
   "cell_type": "code",
   "execution_count": null,
   "id": "4a2d3b39",
   "metadata": {},
   "outputs": [],
   "source": [
    "'''Constant Hub'''\n",
    "CH_YPC_3D = Downswing3D_YPC('3D_CH_YPC')\n",
    "CH_YPC_3D.golfer(r1, m1, r2, m2)\n",
    "CH_YPC_3D.solve_odes('c', 0.0, tau_b, phi1_0, phi2_0, theta1_0, theta2_0, theta2dot_0)\n",
    "CH_YPC_3D.print_data()\n",
    "CH_YPC_3D.plot_data('Yoshida PC')"
   ]
  },
  {
   "cell_type": "code",
   "execution_count": null,
   "id": "815553e3",
   "metadata": {},
   "outputs": [],
   "source": [
    "CH_YPC_3D.animate_swing()\n",
    "CH_YPC_3D.still_shot()"
   ]
  },
  {
   "cell_type": "code",
   "execution_count": null,
   "id": "7889a339",
   "metadata": {},
   "outputs": [],
   "source": [
    "'''Accelerating Hub'''\n",
    "AH_YPC_3D = Downswing3D_YPC('3D_AH_YPC')\n",
    "AH_YPC_3D.golfer(r1, m1, r2, m2)\n",
    "AH_YPC_3D.solve_odes('a', 0.75, tau_b, phi1_0, phi2_0, theta1_0, theta2_0, theta2dot_0)\n",
    "AH_YPC_3D.print_data()\n",
    "AH_YPC_3D.plot_data('Yoshida PC')"
   ]
  },
  {
   "cell_type": "code",
   "execution_count": null,
   "id": "7bf3fcee",
   "metadata": {},
   "outputs": [],
   "source": [
    "AH_YPC_3D.animate_swing()\n",
    "AH_YPC_3D.still_shot()"
   ]
  },
  {
   "cell_type": "markdown",
   "id": "59cdaff2",
   "metadata": {},
   "source": [
    "#### This cell compares the total energy and relevant data of the Runge Kutta, Velocity Verlet, and Yoshida algorithms with a constant hub."
   ]
  },
  {
   "cell_type": "code",
   "execution_count": null,
   "id": "70594d29",
   "metadata": {},
   "outputs": [],
   "source": [
    "'''Create table, columns, and colors'''\n",
    "table = []\n",
    "columns = ['Model', 'A.o.A', 'Club Path', 'SS - Impact [m/s]', 'SS - Max [m/s]', 'Area [J\\u00B7s]']\n",
    "cell_colors = []\n",
    "\n",
    "'''Models and labels'''\n",
    "models = [CH_RK4_3D, CH_VV_3D, CH_Y_3D]\n",
    "labels = ['Runge Kutta', 'Velocity Verlet', 'Yoshida']\n",
    "colors = ['red', 'blue', 'green']\n",
    "\n",
    "'''Create lists of relevant data for each model'''\n",
    "aoas = [model.aoa for model in models]\n",
    "club_paths = [model.club_path for model in models]\n",
    "t_impacts = [model.t_impact for model in models]\n",
    "ss_impacts = [model.ss_impact for model in models]\n",
    "totale_impacts = [model.totale_points[model.num_steps_impact] for model in models]\n",
    "t_ss_maxes = [model.t_ss_max for model in models]\n",
    "ss_maxes = [model.ss_max for model in models]\n",
    "areas = [integrate(model.t_points[model.num_steps_release : model.num_steps_impact + 1],\n",
    "         model.totale_points[model.num_steps_release : model.num_steps_impact + 1]) for model in models]\n",
    "\n",
    "'''Create figure'''\n",
    "fig1, ax1 = plt.subplots(figsize = (9, 5))\n",
    "fig2, ax2 = plt.subplots(figsize = (9, 5))\n",
    "fig1.tight_layout(pad = 2)\n",
    "fig2.tight_layout(pad = 2)\n",
    "\n",
    "'''First figure --> Plot of total energy'''\n",
    "ax1.set_xlabel('$t$ [s]')\n",
    "ax1.set_ylabel('Energy [J]')\n",
    "ax1.set_title('Numerical Method Comparison - Total Energy - 3D Constant Hub')\n",
    "ax1.grid(True, linestyle = 'dashed', color = 'darkgray', alpha = 0.25)\n",
    "for index, model in enumerate(models):\n",
    "    ax1.plot(model.t_points, model.totale_points, linestyle = 'solid', color = colors[index], label = labels[index])\n",
    "    ax1.plot(t_impacts[index], totale_impacts[index], 'ko', markersize = 4, zorder = 10)\n",
    "ax1.plot([], [], 'ko', markersize = 4, label = 'Impact')\n",
    "legend = ax1.legend(loc = 'upper left', fancybox = False)\n",
    "frame = legend.get_frame()\n",
    "frame.set_facecolor('white')\n",
    "frame.set_edgecolor('black')\n",
    "frame.set_linewidth(1)\n",
    "fig1.savefig('c:/Users/Tucker Knaak/Downloads/3D_CH_NumericalMethods_noYPC_plot.png', bbox_inches = 'tight')\n",
    "\n",
    "'''Second figure --> Table of relevant data'''\n",
    "ax2.axis('off')\n",
    "for index, model in enumerate(models):\n",
    "    area_color = 'limegreen' if areas[index] == min(areas) else 'white'\n",
    "    ss_impact_color = 'limegreen' if ss_impacts[index] == max(ss_impacts) else 'white'\n",
    "    ss_max_color = 'limegreen' if ss_maxes[index] == max(ss_maxes) else 'white'\n",
    "    row = [labels[index], f'{aoas[index]}\\u00B0', f'{club_paths[index]}\\u00B0',\n",
    "           '{ss:.2f} ({time}s)'.format(ss = ss_impacts[index], time = t_impacts[index]),\n",
    "           '{ss:.2f} ({time}s)'.format(ss = ss_maxes[index], time = t_ss_maxes[index]),\n",
    "           f'{areas[index]:.2f}$\\,$J\\u00B7s']\n",
    "    cell_color = [colors[index], 'white', 'white', ss_impact_color, ss_max_color, area_color]\n",
    "    table.append(row)\n",
    "    cell_colors.append(cell_color)\n",
    "the_table = ax2.table(cellText = table, colLabels = columns, cellColours = cell_colors, loc = 'center', cellLoc = 'center')\n",
    "the_table.scale(1.25, 2.25)\n",
    "fig2.savefig('c:/Users/Tucker Knaak/Downloads/3D_CH_NumericalMethods_noYPC_table.png', bbox_inches = 'tight')"
   ]
  },
  {
   "cell_type": "markdown",
   "id": "1c758ac6",
   "metadata": {},
   "source": [
    "#### This cell compares the total energy and relevant data of the Runge Kutta, Velocity Verlet, and Yoshida algorithms with an accelerating hub."
   ]
  },
  {
   "cell_type": "code",
   "execution_count": null,
   "id": "334134b4",
   "metadata": {},
   "outputs": [],
   "source": [
    "'''Create table, columns, and colors'''\n",
    "table = []\n",
    "columns = ['Model', 'A.o.A', 'Club Path', 'SS - Impact [m/s]', 'SS - Max [m/s]', 'Area [J\\u00B7s]']\n",
    "cell_colors = []\n",
    "\n",
    "'''Models and labels'''\n",
    "models = [AH_RK4_3D, AH_VV_3D, AH_Y_3D]\n",
    "labels = ['Runge Kutta', 'Velocity Verlet', 'Yoshida']\n",
    "colors = ['red', 'blue', 'green']\n",
    "\n",
    "'''Create lists of relevant data for each model'''\n",
    "aoas = [model.aoa for model in models]\n",
    "club_paths = [model.club_path for model in models]\n",
    "t_impacts = [model.t_impact for model in models]\n",
    "ss_impacts = [model.ss_impact for model in models]\n",
    "totale_impacts = [model.totale_points[model.num_steps_impact] for model in models]\n",
    "t_ss_maxes = [model.t_ss_max for model in models]\n",
    "ss_maxes = [model.ss_max for model in models]\n",
    "areas = [integrate(model.t_points[model.num_steps_release : model.num_steps_impact + 1],\n",
    "         model.totale_points[model.num_steps_release : model.num_steps_impact + 1]) for model in models]\n",
    "\n",
    "'''Create figure'''\n",
    "fig1, ax1 = plt.subplots(figsize = (9, 5))\n",
    "fig2, ax2 = plt.subplots(figsize = (9, 5))\n",
    "fig1.tight_layout(pad = 2)\n",
    "fig2.tight_layout(pad = 2)\n",
    "\n",
    "'''First figure --> Plot of total energy'''\n",
    "ax1.set_xlabel('$t$ [s]')\n",
    "ax1.set_ylabel('Energy [J]')\n",
    "ax1.set_title('Numerical Method Comparison - Total Energy - 3D Accelerating Hub')\n",
    "ax1.grid(True, linestyle = 'dashed', color = 'darkgray', alpha = 0.25)\n",
    "for index, model in enumerate(models):\n",
    "    ax1.plot(model.t_points, model.totale_points, linestyle = 'solid', color = colors[index], label = labels[index])\n",
    "    ax1.plot(t_impacts[index], totale_impacts[index], 'ko', markersize = 4, zorder = 10)\n",
    "ax1.plot([], [], 'ko', markersize = 4, label = 'Impact')\n",
    "legend = ax1.legend(loc = 'upper left', fancybox = False)\n",
    "frame = legend.get_frame()\n",
    "frame.set_facecolor('white')\n",
    "frame.set_edgecolor('black')\n",
    "frame.set_linewidth(1)\n",
    "fig1.savefig('c:/Users/Tucker Knaak/Downloads/3D_AH_NumericalMethods_noYPC_plot.png', bbox_inches = 'tight')\n",
    "\n",
    "'''Second figure --> Table of relevant data'''\n",
    "ax2.axis('off')\n",
    "for index, model in enumerate(models):\n",
    "    area_color = 'limegreen' if areas[index] == min(areas) else 'white'\n",
    "    ss_impact_color = 'limegreen' if ss_impacts[index] == max(ss_impacts) else 'white'\n",
    "    ss_max_color = 'limegreen' if ss_maxes[index] == max(ss_maxes) else 'white'\n",
    "    row = [labels[index], f'{aoas[index]}\\u00B0', f'{club_paths[index]}\\u00B0',\n",
    "           '{ss:.2f} ({time}s)'.format(ss = ss_impacts[index], time = t_impacts[index]),\n",
    "           '{ss:.2f} ({time}s)'.format(ss = ss_maxes[index], time = t_ss_maxes[index]),\n",
    "           f'{areas[index]:.2f}$\\,$J\\u00B7s']\n",
    "    cell_color = [colors[index], 'white', 'white', ss_impact_color, ss_max_color, area_color]\n",
    "    table.append(row)\n",
    "    cell_colors.append(cell_color)\n",
    "the_table = ax2.table(cellText = table, colLabels = columns, cellColours = cell_colors, loc = 'center', cellLoc = 'center')\n",
    "the_table.scale(1.25, 2.25)\n",
    "fig2.savefig('c:/Users/Tucker Knaak/Downloads/3D_AH_NumericalMethods_noYPC_table.png', bbox_inches = 'tight')"
   ]
  },
  {
   "cell_type": "markdown",
   "id": "678cd307",
   "metadata": {},
   "source": [
    "#### This cell compares the total energy and relevant data of the Runge Kutta, Velocity Verlet, Yoshida, and Yoshida Predictor-Corrector algorithms with a constant hub."
   ]
  },
  {
   "cell_type": "code",
   "execution_count": null,
   "id": "3fbd7d5b",
   "metadata": {},
   "outputs": [],
   "source": [
    "'''Create table, columns, and colors'''\n",
    "table = []\n",
    "columns = ['Model', 'A.o.A', 'Club Path', 'SS - Impact [m/s]', 'SS - Max [m/s]', 'Area [J\\u00B7s]']\n",
    "cell_colors = []\n",
    "\n",
    "'''Models and labels'''\n",
    "models = [CH_RK4_3D, CH_VV_3D, CH_Y_3D, CH_YPC_3D]\n",
    "labels = ['Runge Kutta', 'Velocity Verlet', 'Yoshida', 'Yoshida PC']\n",
    "colors = ['red', 'blue', 'green', 'black']\n",
    "\n",
    "'''Create lists of relevant data for each model'''\n",
    "aoas = [model.aoa for model in models]\n",
    "club_paths = [model.club_path for model in models]\n",
    "t_impacts = [model.t_impact for model in models]\n",
    "ss_impacts = [model.ss_impact for model in models]\n",
    "totale_impacts = [model.totale_points[model.num_steps_impact] for model in models]\n",
    "t_ss_maxes = [model.t_ss_max for model in models]\n",
    "ss_maxes = [model.ss_max for model in models]\n",
    "areas = [integrate(model.t_points[model.num_steps_release : model.num_steps_impact + 1],\n",
    "         model.totale_points[model.num_steps_release : model.num_steps_impact + 1]) for model in models]\n",
    "\n",
    "'''Create figure'''\n",
    "fig1, ax1 = plt.subplots(figsize = (9, 5))\n",
    "fig2, ax2 = plt.subplots(figsize = (9, 5))\n",
    "fig1.tight_layout(pad = 2)\n",
    "fig2.tight_layout(pad = 2)\n",
    "\n",
    "'''First figure --> Plot of total energy'''\n",
    "ax1.set_xlabel('$t$ [s]')\n",
    "ax1.set_ylabel('Energy [J]')\n",
    "ax1.set_title('Numerical Method Comparison - Total Energy - 3D Constant Hub')\n",
    "ax1.grid(True, linestyle = 'dashed', color = 'darkgray', alpha = 0.25)\n",
    "for index, model in enumerate(models):\n",
    "    ax1.plot(model.t_points, model.totale_points, linestyle = 'solid', color = colors[index], label = labels[index])\n",
    "    ax1.plot(t_impacts[index], totale_impacts[index], 'ko', markersize = 4, zorder = 10)\n",
    "ax1.plot([], [], 'ko', markersize = 4, label = 'Impact')\n",
    "legend = ax1.legend(loc = 'upper left', fancybox = False)\n",
    "frame = legend.get_frame()\n",
    "frame.set_facecolor('white')\n",
    "frame.set_edgecolor('black')\n",
    "frame.set_linewidth(1)\n",
    "fig1.savefig('c:/Users/Tucker Knaak/Downloads/3D_CH_NumericalMethods_plot.png', bbox_inches = 'tight')\n",
    "\n",
    "'''Second figure --> Table of relevant data'''\n",
    "ax2.axis('off')\n",
    "for index, model in enumerate(models):\n",
    "    model_color = colors[index] if index != 3 else 'white'\n",
    "    area_color = 'limegreen' if areas[index] == min(areas) else 'white'\n",
    "    ss_impact_color = 'limegreen' if ss_impacts[index] == max(ss_impacts) else 'white'\n",
    "    ss_max_color = 'limegreen' if ss_maxes[index] == max(ss_maxes) else 'white'\n",
    "    row = [labels[index], f'{aoas[index]}\\u00B0', f'{club_paths[index]}\\u00B0',\n",
    "           '{ss:.2f} ({time}s)'.format(ss = ss_impacts[index], time = t_impacts[index]),\n",
    "           '{ss:.2f} ({time}s)'.format(ss = ss_maxes[index], time = t_ss_maxes[index]),\n",
    "           f'{areas[index]:.2f}$\\,$J\\u00B7s']\n",
    "    cell_color = [model_color, 'white', 'white', ss_impact_color, ss_max_color, area_color]\n",
    "    table.append(row)\n",
    "    cell_colors.append(cell_color)\n",
    "the_table = ax2.table(cellText = table, colLabels = columns, cellColours = cell_colors, loc = 'center', cellLoc = 'center')\n",
    "the_table.scale(1.25, 2.25)\n",
    "fig2.savefig('c:/Users/Tucker Knaak/Downloads/3D_CH_NumericalMethods_table.png', bbox_inches = 'tight')"
   ]
  },
  {
   "cell_type": "markdown",
   "id": "43d31672",
   "metadata": {},
   "source": [
    "#### This cell compares the total energy and relevant data of the Runge Kutta, Velocity Verlet, Yoshida, and Yoshida Predictor-Corrector algorithms with an accelerating hub."
   ]
  },
  {
   "cell_type": "code",
   "execution_count": null,
   "id": "0f024f05",
   "metadata": {},
   "outputs": [],
   "source": [
    "'''Create table, columns, and colors'''\n",
    "table = []\n",
    "columns = ['Model', 'A.o.A', 'Club Path', 'SS - Impact [m/s]', 'SS - Max [m/s]', 'Area [J\\u00B7s]']\n",
    "cell_colors = []\n",
    "\n",
    "'''Models and labels'''\n",
    "models = [AH_RK4_3D, AH_VV_3D, AH_Y_3D, AH_YPC_3D]\n",
    "labels = ['Runge Kutta', 'Velocity Verlet', 'Yoshida', 'Yoshida PC']\n",
    "colors = ['red', 'blue', 'green', 'black']\n",
    "\n",
    "'''Create lists of relevant data for each model'''\n",
    "aoas = [model.aoa for model in models]\n",
    "club_paths = [model.club_path for model in models]\n",
    "t_impacts = [model.t_impact for model in models]\n",
    "ss_impacts = [model.ss_impact for model in models]\n",
    "totale_impacts = [model.totale_points[model.num_steps_impact] for model in models]\n",
    "t_ss_maxes = [model.t_ss_max for model in models]\n",
    "ss_maxes = [model.ss_max for model in models]\n",
    "areas = [integrate(model.t_points[model.num_steps_release : model.num_steps_impact + 1],\n",
    "         model.totale_points[model.num_steps_release : model.num_steps_impact + 1]) for model in models]\n",
    "\n",
    "'''Create figure'''\n",
    "fig1, ax1 = plt.subplots(figsize = (9, 5))\n",
    "fig2, ax2 = plt.subplots(figsize = (9, 5))\n",
    "fig1.tight_layout(pad = 2)\n",
    "fig2.tight_layout(pad = 2)\n",
    "\n",
    "'''First figure --> Plot of total energy'''\n",
    "ax1.set_xlabel('$t$ [s]')\n",
    "ax1.set_ylabel('Energy [J]')\n",
    "ax1.set_title('Numerical Method Comparison - Total Energy - 3D Accelerating Hub')\n",
    "ax1.grid(True, linestyle = 'dashed', color = 'darkgray', alpha = 0.25)\n",
    "for index, model in enumerate(models):\n",
    "    ax1.plot(model.t_points, model.totale_points, linestyle = 'solid', color = colors[index], label = labels[index])\n",
    "    ax1.plot(t_impacts[index], totale_impacts[index], 'ko', markersize = 4, zorder = 10)\n",
    "ax1.plot([], [], 'ko', markersize = 4, label = 'Impact')\n",
    "legend = ax1.legend(loc = 'upper left', fancybox = False)\n",
    "frame = legend.get_frame()\n",
    "frame.set_facecolor('white')\n",
    "frame.set_edgecolor('black')\n",
    "frame.set_linewidth(1)\n",
    "fig1.savefig('c:/Users/Tucker Knaak/Downloads/3D_AH_NumericalMethods_plot.png', bbox_inches = 'tight')\n",
    "\n",
    "'''Second figure --> Table of relevant data'''\n",
    "ax2.axis('off')\n",
    "for index, model in enumerate(models):\n",
    "    model_color = colors[index] if index != 3 else 'white'\n",
    "    area_color = 'limegreen' if areas[index] == min(areas) else 'white'\n",
    "    ss_impact_color = 'limegreen' if ss_impacts[index] == max(ss_impacts) else 'white'\n",
    "    ss_max_color = 'limegreen' if ss_maxes[index] == max(ss_maxes) else 'white'\n",
    "    row = [labels[index], f'{aoas[index]}\\u00B0', f'{club_paths[index]}\\u00B0',\n",
    "           '{ss:.2f} ({time}s)'.format(ss = ss_impacts[index], time = t_impacts[index]),\n",
    "           '{ss:.2f} ({time}s)'.format(ss = ss_maxes[index], time = t_ss_maxes[index]),\n",
    "           f'{areas[index]:.2f}$\\,$J\\u00B7s']\n",
    "    cell_color = [model_color, 'white', 'white', ss_impact_color, ss_max_color, area_color]\n",
    "    table.append(row)\n",
    "    cell_colors.append(cell_color)\n",
    "the_table = ax2.table(cellText = table, colLabels = columns, cellColours = cell_colors, loc = 'center', cellLoc = 'center')\n",
    "the_table.scale(1.25, 2.25)\n",
    "fig2.savefig('c:/Users/Tucker Knaak/Downloads/3D_AH_NumericalMethods_table.png', bbox_inches = 'tight')"
   ]
  },
  {
   "cell_type": "code",
   "execution_count": null,
   "id": "ac65dee0",
   "metadata": {},
   "outputs": [],
   "source": []
  }
 ],
 "metadata": {
  "kernelspec": {
   "display_name": "Python 3 (ipykernel)",
   "language": "python",
   "name": "python3"
  },
  "language_info": {
   "codemirror_mode": {
    "name": "ipython",
    "version": 3
   },
   "file_extension": ".py",
   "mimetype": "text/x-python",
   "name": "python",
   "nbconvert_exporter": "python",
   "pygments_lexer": "ipython3",
   "version": "3.11.3"
  }
 },
 "nbformat": 4,
 "nbformat_minor": 5
}
